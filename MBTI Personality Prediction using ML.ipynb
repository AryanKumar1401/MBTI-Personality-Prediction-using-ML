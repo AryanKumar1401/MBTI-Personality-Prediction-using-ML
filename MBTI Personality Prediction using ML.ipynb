{
 "cells": [
  {
   "cell_type": "markdown",
   "id": "multiple-tongue",
   "metadata": {
    "_cell_guid": "8a5c2dc3-ff8e-4991-83dd-362c42c45a87",
    "_uuid": "8d8d7f46-9059-4d33-9076-362649ce1999",
    "id": "4lXgccrX_-I9",
    "papermill": {
     "duration": 0.083659,
     "end_time": "2022-04-01T14:34:34.417853",
     "exception": false,
     "start_time": "2022-04-01T14:34:34.334194",
     "status": "completed"
    },
    "tags": []
   },
   "source": [
    "# **MBTI Personality Prediction Machine Learning Model**\n",
    "\n",
    "\n",
    "---"
   ]
  },
  {
   "cell_type": "code",
   "execution_count": 1,
   "id": "damaged-advocacy",
   "metadata": {
    "_cell_guid": "7bc04192-b294-4a0d-946a-20c0ed770d40",
    "_uuid": "8ee85861-654a-4e1b-a742-a007eae27bf3",
    "collapsed": false,
    "execution": {
     "iopub.execute_input": "2022-04-01T14:34:34.588507Z",
     "iopub.status.busy": "2022-04-01T14:34:34.587347Z",
     "iopub.status.idle": "2022-04-01T14:34:36.869561Z",
     "shell.execute_reply": "2022-04-01T14:34:36.868274Z",
     "shell.execute_reply.started": "2022-03-31T10:49:07.692157Z"
    },
    "id": "3SaYh2-DtaFj",
    "jupyter": {
     "outputs_hidden": false
    },
    "outputId": "e88dacae-fb4e-402b-cf59-d31c97f3a8d2",
    "papermill": {
     "duration": 2.369813,
     "end_time": "2022-04-01T14:34:36.869750",
     "exception": false,
     "start_time": "2022-04-01T14:34:34.499937",
     "status": "completed"
    },
    "tags": []
   },
   "outputs": [],
   "source": [
    "# Data Analysis\n",
    "import pandas as pd\n",
    "import numpy as np\n",
    "from numpy import asarray\n",
    "from numpy import savetxt\n",
    "from numpy import loadtxt\n",
    "import pickle as pkl\n",
    "from scipy import sparse\n",
    "\n",
    "# Data Visualization\n",
    "import seaborn as sns\n",
    "import matplotlib.pyplot as plt\n",
    "import wordcloud\n",
    "from wordcloud import WordCloud, STOPWORDS\n",
    "\n",
    "# Text Processing\n",
    "import re\n",
    "import itertools\n",
    "import string\n",
    "import collections\n",
    "from collections import Counter\n",
    "from sklearn.preprocessing import LabelEncoder\n",
    "import nltk\n",
    "from nltk.classify import NaiveBayesClassifier\n",
    "from nltk.corpus import stopwords\n",
    "from nltk import word_tokenize\n",
    "from nltk.tokenize import word_tokenize\n",
    "from nltk.stem import PorterStemmer, WordNetLemmatizer\n",
    "\n",
    "# Machine Learning packages\n",
    "import sklearn\n",
    "from sklearn.feature_extraction.text import CountVectorizer\n",
    "from sklearn.feature_extraction.text import TfidfVectorizer\n",
    "from sklearn.feature_extraction.text import TfidfTransformer\n",
    "import sklearn.cluster as cluster\n",
    "from sklearn.manifold import TSNE\n",
    "\n",
    "# Model training and evaluation\n",
    "from sklearn.model_selection import train_test_split\n",
    "\n",
    "#Models\n",
    "from sklearn.linear_model import LogisticRegression\n",
    "from sklearn.linear_model import SGDClassifier\n",
    "from sklearn.neighbors import KNeighborsClassifier\n",
    "from sklearn.naive_bayes import GaussianNB\n",
    "from sklearn.svm import SVC\n",
    "from sklearn.ensemble import RandomForestClassifier, GradientBoostingClassifier\n",
    "from xgboost import XGBClassifier\n",
    "from xgboost import plot_importance\n",
    "\n",
    "#Metrics\n",
    "from sklearn.metrics import r2_score, mean_squared_error, mean_absolute_error, accuracy_score, balanced_accuracy_score\n",
    "from sklearn.metrics import precision_score, recall_score, f1_score, multilabel_confusion_matrix, confusion_matrix\n",
    "from sklearn.metrics import classification_report\n",
    "\n",
    "# Ignore noise warning\n",
    "import warnings\n",
    "warnings.filterwarnings(\"ignore\")"
   ]
  },
  {
   "cell_type": "markdown",
   "id": "impressive-frequency",
   "metadata": {
    "_cell_guid": "b14c7a34-6a64-43e1-a7a6-134fc3187f97",
    "_uuid": "bb74b0b9-462d-4515-8ca2-0751c3a6f42c",
    "id": "CKPeNPJ7pJdq",
    "papermill": {
     "duration": 0.084109,
     "end_time": "2022-04-01T14:34:37.040064",
     "exception": false,
     "start_time": "2022-04-01T14:34:36.955955",
     "status": "completed"
    },
    "tags": []
   },
   "source": [
    "**The link to our dataset**:\n",
    "https://www.kaggle.com/datasnaek/mbti-type\n",
    "\n",
    "This dataset from Kaggle comes with two columns: the Myers-Briggs type of a user and 50 user posts stored as strings. Here is an example of the last 5 rows."
   ]
  },
  {
   "cell_type": "code",
   "execution_count": 2,
   "id": "reliable-narrow",
   "metadata": {
    "execution": {
     "iopub.execute_input": "2022-04-01T14:34:37.213914Z",
     "iopub.status.busy": "2022-04-01T14:34:37.213202Z",
     "iopub.status.idle": "2022-04-01T14:34:38.755032Z",
     "shell.execute_reply": "2022-04-01T14:34:38.754406Z",
     "shell.execute_reply.started": "2022-03-31T10:49:10.427501Z"
    },
    "papermill": {
     "duration": 1.630871,
     "end_time": "2022-04-01T14:34:38.755194",
     "exception": false,
     "start_time": "2022-04-01T14:34:37.124323",
     "status": "completed"
    },
    "tags": []
   },
   "outputs": [
    {
     "data": {
      "text/html": [
       "<div>\n",
       "<style scoped>\n",
       "    .dataframe tbody tr th:only-of-type {\n",
       "        vertical-align: middle;\n",
       "    }\n",
       "\n",
       "    .dataframe tbody tr th {\n",
       "        vertical-align: top;\n",
       "    }\n",
       "\n",
       "    .dataframe thead th {\n",
       "        text-align: right;\n",
       "    }\n",
       "</style>\n",
       "<table border=\"1\" class=\"dataframe\">\n",
       "  <thead>\n",
       "    <tr style=\"text-align: right;\">\n",
       "      <th></th>\n",
       "      <th>type</th>\n",
       "      <th>posts</th>\n",
       "    </tr>\n",
       "  </thead>\n",
       "  <tbody>\n",
       "    <tr>\n",
       "      <th>8670</th>\n",
       "      <td>ISFP</td>\n",
       "      <td>'https://www.youtube.com/watch?v=t8edHB_h908||...</td>\n",
       "    </tr>\n",
       "    <tr>\n",
       "      <th>8671</th>\n",
       "      <td>ENFP</td>\n",
       "      <td>'So...if this thread already exists someplace ...</td>\n",
       "    </tr>\n",
       "    <tr>\n",
       "      <th>8672</th>\n",
       "      <td>INTP</td>\n",
       "      <td>'So many questions when i do these things.  I ...</td>\n",
       "    </tr>\n",
       "    <tr>\n",
       "      <th>8673</th>\n",
       "      <td>INFP</td>\n",
       "      <td>'I am very conflicted right now when it comes ...</td>\n",
       "    </tr>\n",
       "    <tr>\n",
       "      <th>8674</th>\n",
       "      <td>INFP</td>\n",
       "      <td>'It has been too long since I have been on per...</td>\n",
       "    </tr>\n",
       "  </tbody>\n",
       "</table>\n",
       "</div>"
      ],
      "text/plain": [
       "      type                                              posts\n",
       "8670  ISFP  'https://www.youtube.com/watch?v=t8edHB_h908||...\n",
       "8671  ENFP  'So...if this thread already exists someplace ...\n",
       "8672  INTP  'So many questions when i do these things.  I ...\n",
       "8673  INFP  'I am very conflicted right now when it comes ...\n",
       "8674  INFP  'It has been too long since I have been on per..."
      ]
     },
     "execution_count": 2,
     "metadata": {},
     "output_type": "execute_result"
    }
   ],
   "source": [
    "#loading dataset\n",
    "data_set = pd.read_csv(\"../input/mbti-type/mbti_1.csv\")\n",
    "data_set.tail()"
   ]
  },
  {
   "cell_type": "markdown",
   "id": "inappropriate-wrestling",
   "metadata": {
    "_cell_guid": "cb7364fd-fefa-45a6-ada6-c7e73763ddac",
    "_uuid": "f627f79b-9054-4190-8afc-665efed78d90",
    "id": "V53I4rU6nfGD",
    "papermill": {
     "duration": 0.082962,
     "end_time": "2022-04-01T14:34:38.922584",
     "exception": false,
     "start_time": "2022-04-01T14:34:38.839622",
     "status": "completed"
    },
    "tags": []
   },
   "source": [
    "# Exploratory data analysis"
   ]
  },
  {
   "cell_type": "markdown",
   "id": "seven-jerusalem",
   "metadata": {
    "_cell_guid": "032e4bc0-72a6-4322-9b6d-2fd4635ed183",
    "_uuid": "cff9e843-d802-4e31-8aed-a26b84db3288",
    "id": "dxfSzPO5kwT1",
    "papermill": {
     "duration": 0.084995,
     "end_time": "2022-04-01T14:34:39.090908",
     "exception": false,
     "start_time": "2022-04-01T14:34:39.005913",
     "status": "completed"
    },
    "tags": []
   },
   "source": [
    "The size of the dataset"
   ]
  },
  {
   "cell_type": "code",
   "execution_count": 3,
   "id": "chubby-lunch",
   "metadata": {
    "_cell_guid": "6064bab7-22d3-4ad7-a84b-40293a682582",
    "_uuid": "cff94d2d-667e-445c-9c7c-87f9dc25d60e",
    "collapsed": false,
    "execution": {
     "iopub.execute_input": "2022-04-01T14:34:39.264306Z",
     "iopub.status.busy": "2022-04-01T14:34:39.263200Z",
     "iopub.status.idle": "2022-04-01T14:34:39.266736Z",
     "shell.execute_reply": "2022-04-01T14:34:39.267432Z",
     "shell.execute_reply.started": "2022-03-31T10:49:11.923427Z"
    },
    "id": "N8Tny56TbrK0",
    "jupyter": {
     "outputs_hidden": false
    },
    "outputId": "d0fd4d80-ecdb-4cf0-9056-bcaeb1d68278",
    "papermill": {
     "duration": 0.09308,
     "end_time": "2022-04-01T14:34:39.267670",
     "exception": false,
     "start_time": "2022-04-01T14:34:39.174590",
     "status": "completed"
    },
    "tags": []
   },
   "outputs": [
    {
     "name": "stdout",
     "output_type": "stream",
     "text": [
      "There are 8675 rows and 2 columns\n"
     ]
    }
   ],
   "source": [
    "nRow, nCol = data_set.shape\n",
    "print(f'There are {nRow} rows and {nCol} columns')"
   ]
  },
  {
   "cell_type": "markdown",
   "id": "noted-plaza",
   "metadata": {
    "_cell_guid": "032d14c7-4bfa-4f82-8659-b0ffd6630f6c",
    "_uuid": "6d29c350-7687-4147-b240-1381ed952d84",
    "id": "7eBSy1Iok3OS",
    "papermill": {
     "duration": 0.08282,
     "end_time": "2022-04-01T14:34:39.435126",
     "exception": false,
     "start_time": "2022-04-01T14:34:39.352306",
     "status": "completed"
    },
    "tags": []
   },
   "source": [
    "Dataset Information"
   ]
  },
  {
   "cell_type": "code",
   "execution_count": 4,
   "id": "metric-heater",
   "metadata": {
    "_cell_guid": "15097f7f-b752-4011-a14d-8c679a0d0b64",
    "_uuid": "3dbd83e8-e1f3-400f-bb98-e3d830cfed56",
    "collapsed": false,
    "execution": {
     "iopub.execute_input": "2022-04-01T14:34:39.609716Z",
     "iopub.status.busy": "2022-04-01T14:34:39.608686Z",
     "iopub.status.idle": "2022-04-01T14:34:39.612640Z",
     "shell.execute_reply": "2022-04-01T14:34:39.611975Z",
     "shell.execute_reply.started": "2022-03-31T10:49:11.931648Z"
    },
    "id": "hh0_Hx-Cjusu",
    "jupyter": {
     "outputs_hidden": false
    },
    "outputId": "9591af70-e265-4c6d-953d-f3983ba5ffdd",
    "papermill": {
     "duration": 0.093667,
     "end_time": "2022-04-01T14:34:39.612782",
     "exception": false,
     "start_time": "2022-04-01T14:34:39.519115",
     "status": "completed"
    },
    "tags": []
   },
   "outputs": [
    {
     "data": {
      "text/plain": [
       "type     object\n",
       "posts    object\n",
       "dtype: object"
      ]
     },
     "execution_count": 4,
     "metadata": {},
     "output_type": "execute_result"
    }
   ],
   "source": [
    "data_set.dtypes"
   ]
  },
  {
   "cell_type": "code",
   "execution_count": 5,
   "id": "closed-merit",
   "metadata": {
    "_cell_guid": "ae7c2190-2a2c-40e5-8cd5-fbbba24c0c5f",
    "_uuid": "c0b96ff4-fb59-48a7-8401-48832db2159f",
    "collapsed": false,
    "execution": {
     "iopub.execute_input": "2022-04-01T14:34:39.783393Z",
     "iopub.status.busy": "2022-04-01T14:34:39.782774Z",
     "iopub.status.idle": "2022-04-01T14:34:39.804244Z",
     "shell.execute_reply": "2022-04-01T14:34:39.803547Z",
     "shell.execute_reply.started": "2022-03-31T10:49:11.950527Z"
    },
    "id": "6vC7tCGjjqLB",
    "jupyter": {
     "outputs_hidden": false
    },
    "outputId": "bb03952c-208f-4e53-cfa6-7460a69175ac",
    "papermill": {
     "duration": 0.10825,
     "end_time": "2022-04-01T14:34:39.804398",
     "exception": false,
     "start_time": "2022-04-01T14:34:39.696148",
     "status": "completed"
    },
    "tags": []
   },
   "outputs": [
    {
     "name": "stdout",
     "output_type": "stream",
     "text": [
      "<class 'pandas.core.frame.DataFrame'>\n",
      "RangeIndex: 8675 entries, 0 to 8674\n",
      "Data columns (total 2 columns):\n",
      " #   Column  Non-Null Count  Dtype \n",
      "---  ------  --------------  ----- \n",
      " 0   type    8675 non-null   object\n",
      " 1   posts   8675 non-null   object\n",
      "dtypes: object(2)\n",
      "memory usage: 135.7+ KB\n"
     ]
    }
   ],
   "source": [
    "data_set.info()"
   ]
  },
  {
   "cell_type": "markdown",
   "id": "contained-pattern",
   "metadata": {
    "_cell_guid": "87ec83c3-3add-40e2-a4b3-2bcaf5c6e6f7",
    "_uuid": "9a503fb9-b018-4e86-8c78-e1494258a190",
    "id": "s8i8rjnEsr94",
    "papermill": {
     "duration": 0.084128,
     "end_time": "2022-04-01T14:34:39.973694",
     "exception": false,
     "start_time": "2022-04-01T14:34:39.889566",
     "status": "completed"
    },
    "tags": []
   },
   "source": [
    "\n",
    "\n",
    "*   There are only 2 columns in the dataset\n",
    "*   Total no. of rows are 8675\n",
    "*   There are no null values present in the dataset\n",
    "*   One Disadvantage is that all values are textual, hence they have to be converted to numerical form to train the ML model"
   ]
  },
  {
   "cell_type": "code",
   "execution_count": 6,
   "id": "handed-solid",
   "metadata": {
    "_cell_guid": "8a6054a2-f877-44b3-a4d7-96da29c2482a",
    "_uuid": "04f231b5-f7de-45fc-927e-53361ef0d6ce",
    "collapsed": false,
    "execution": {
     "iopub.execute_input": "2022-04-01T14:34:40.152419Z",
     "iopub.status.busy": "2022-04-01T14:34:40.151664Z",
     "iopub.status.idle": "2022-04-01T14:34:40.239209Z",
     "shell.execute_reply": "2022-04-01T14:34:40.239799Z",
     "shell.execute_reply.started": "2022-03-31T10:49:11.984051Z"
    },
    "id": "6b-ZzL29jsnO",
    "jupyter": {
     "outputs_hidden": false
    },
    "outputId": "ac583c54-ee64-4a26-beed-04b79574b75e",
    "papermill": {
     "duration": 0.17911,
     "end_time": "2022-04-01T14:34:40.239992",
     "exception": false,
     "start_time": "2022-04-01T14:34:40.060882",
     "status": "completed"
    },
    "tags": []
   },
   "outputs": [
    {
     "data": {
      "text/html": [
       "<div>\n",
       "<style scoped>\n",
       "    .dataframe tbody tr th:only-of-type {\n",
       "        vertical-align: middle;\n",
       "    }\n",
       "\n",
       "    .dataframe tbody tr th {\n",
       "        vertical-align: top;\n",
       "    }\n",
       "\n",
       "    .dataframe thead th {\n",
       "        text-align: right;\n",
       "    }\n",
       "</style>\n",
       "<table border=\"1\" class=\"dataframe\">\n",
       "  <thead>\n",
       "    <tr style=\"text-align: right;\">\n",
       "      <th></th>\n",
       "      <th>type</th>\n",
       "      <th>posts</th>\n",
       "    </tr>\n",
       "  </thead>\n",
       "  <tbody>\n",
       "    <tr>\n",
       "      <th>count</th>\n",
       "      <td>8675</td>\n",
       "      <td>8675</td>\n",
       "    </tr>\n",
       "    <tr>\n",
       "      <th>unique</th>\n",
       "      <td>16</td>\n",
       "      <td>8675</td>\n",
       "    </tr>\n",
       "    <tr>\n",
       "      <th>top</th>\n",
       "      <td>INFP</td>\n",
       "      <td>'Enfp|||I'm sorry but I hate Ross so much. He ...</td>\n",
       "    </tr>\n",
       "    <tr>\n",
       "      <th>freq</th>\n",
       "      <td>1832</td>\n",
       "      <td>1</td>\n",
       "    </tr>\n",
       "  </tbody>\n",
       "</table>\n",
       "</div>"
      ],
      "text/plain": [
       "        type                                              posts\n",
       "count   8675                                               8675\n",
       "unique    16                                               8675\n",
       "top     INFP  'Enfp|||I'm sorry but I hate Ross so much. He ...\n",
       "freq    1832                                                  1"
      ]
     },
     "execution_count": 6,
     "metadata": {},
     "output_type": "execute_result"
    }
   ],
   "source": [
    "data_set.describe(include=['object'])"
   ]
  },
  {
   "cell_type": "markdown",
   "id": "automotive-anger",
   "metadata": {
    "_cell_guid": "f45f4504-760f-4cd2-b7a5-d3efbbf00285",
    "_uuid": "17e55c7a-4ec1-4e92-aca1-97c7d3610c0a",
    "id": "4QJWdBn7p-93",
    "papermill": {
     "duration": 0.084008,
     "end_time": "2022-04-01T14:34:40.408787",
     "exception": false,
     "start_time": "2022-04-01T14:34:40.324779",
     "status": "completed"
    },
    "tags": []
   },
   "source": [
    "\n",
    "\n",
    "*   There are 16 unique personality type indicators in the dataset\n",
    "*   INFP is the most frequently occuring personality type in our dataset\n",
    "\n",
    " (no. of occurences is 1832)\n",
    "*   Lastly, there are no repeating posts in the dataset"
   ]
  },
  {
   "cell_type": "markdown",
   "id": "challenging-grounds",
   "metadata": {
    "_cell_guid": "a274e1da-45b5-4572-91f4-92b8b026a612",
    "_uuid": "6fad2137-d2ff-4760-9fa4-b2a322c9fe77",
    "id": "4OFQ5K7Pla_x",
    "papermill": {
     "duration": 0.084879,
     "end_time": "2022-04-01T14:34:40.577783",
     "exception": false,
     "start_time": "2022-04-01T14:34:40.492904",
     "status": "completed"
    },
    "tags": []
   },
   "source": [
    "Now we finding the unique values from the 'type' of personality column"
   ]
  },
  {
   "cell_type": "code",
   "execution_count": 7,
   "id": "concerned-fundamental",
   "metadata": {
    "_cell_guid": "9d2d23aa-4ae3-4f57-bbdc-d44def689f27",
    "_uuid": "72b699f2-93cc-4aca-b89b-d58a42ced191",
    "collapsed": false,
    "execution": {
     "iopub.execute_input": "2022-04-01T14:34:40.759486Z",
     "iopub.status.busy": "2022-04-01T14:34:40.758756Z",
     "iopub.status.idle": "2022-04-01T14:34:40.764559Z",
     "shell.execute_reply": "2022-04-01T14:34:40.764062Z",
     "shell.execute_reply.started": "2022-03-31T10:49:12.091672Z"
    },
    "id": "isZ4MYyobrK1",
    "jupyter": {
     "outputs_hidden": false
    },
    "outputId": "1be08e73-06fe-47e9-8ff4-2431c2a8dab7",
    "papermill": {
     "duration": 0.102229,
     "end_time": "2022-04-01T14:34:40.764701",
     "exception": false,
     "start_time": "2022-04-01T14:34:40.662472",
     "status": "completed"
    },
    "tags": []
   },
   "outputs": [
    {
     "data": {
      "text/plain": [
       "array(['ENFJ', 'ENFP', 'ENTJ', 'ENTP', 'ESFJ', 'ESFP', 'ESTJ', 'ESTP',\n",
       "       'INFJ', 'INFP', 'INTJ', 'INTP', 'ISFJ', 'ISFP', 'ISTJ', 'ISTP'],\n",
       "      dtype=object)"
      ]
     },
     "execution_count": 7,
     "metadata": {},
     "output_type": "execute_result"
    }
   ],
   "source": [
    "types = np.unique(np.array(data_set['type']))\n",
    "types"
   ]
  },
  {
   "cell_type": "markdown",
   "id": "welcome-while",
   "metadata": {
    "_cell_guid": "7f86ae83-0729-4f40-8250-4a53a9861682",
    "_uuid": "227cff6d-beab-465e-bb68-0fc962b00ae0",
    "id": "J_p9dyEWmKuc",
    "papermill": {
     "duration": 0.084334,
     "end_time": "2022-04-01T14:34:40.935294",
     "exception": false,
     "start_time": "2022-04-01T14:34:40.850960",
     "status": "completed"
    },
    "tags": []
   },
   "source": [
    "Data visualization for no. of posts for each personality type"
   ]
  },
  {
   "cell_type": "code",
   "execution_count": 8,
   "id": "bored-cleanup",
   "metadata": {
    "execution": {
     "iopub.execute_input": "2022-04-01T14:34:41.115679Z",
     "iopub.status.busy": "2022-04-01T14:34:41.113970Z",
     "iopub.status.idle": "2022-04-01T14:34:41.125852Z",
     "shell.execute_reply": "2022-04-01T14:34:41.125285Z",
     "shell.execute_reply.started": "2022-03-31T10:49:12.109752Z"
    },
    "papermill": {
     "duration": 0.103983,
     "end_time": "2022-04-01T14:34:41.125992",
     "exception": false,
     "start_time": "2022-04-01T14:34:41.022009",
     "status": "completed"
    },
    "tags": []
   },
   "outputs": [
    {
     "data": {
      "text/html": [
       "<div>\n",
       "<style scoped>\n",
       "    .dataframe tbody tr th:only-of-type {\n",
       "        vertical-align: middle;\n",
       "    }\n",
       "\n",
       "    .dataframe tbody tr th {\n",
       "        vertical-align: top;\n",
       "    }\n",
       "\n",
       "    .dataframe thead th {\n",
       "        text-align: right;\n",
       "    }\n",
       "</style>\n",
       "<table border=\"1\" class=\"dataframe\">\n",
       "  <thead>\n",
       "    <tr style=\"text-align: right;\">\n",
       "      <th></th>\n",
       "      <th>posts</th>\n",
       "    </tr>\n",
       "    <tr>\n",
       "      <th>type</th>\n",
       "      <th></th>\n",
       "    </tr>\n",
       "  </thead>\n",
       "  <tbody>\n",
       "    <tr>\n",
       "      <th>ENFJ</th>\n",
       "      <td>9500</td>\n",
       "    </tr>\n",
       "    <tr>\n",
       "      <th>ENFP</th>\n",
       "      <td>33750</td>\n",
       "    </tr>\n",
       "    <tr>\n",
       "      <th>ENTJ</th>\n",
       "      <td>11550</td>\n",
       "    </tr>\n",
       "    <tr>\n",
       "      <th>ENTP</th>\n",
       "      <td>34250</td>\n",
       "    </tr>\n",
       "    <tr>\n",
       "      <th>ESFJ</th>\n",
       "      <td>2100</td>\n",
       "    </tr>\n",
       "    <tr>\n",
       "      <th>ESFP</th>\n",
       "      <td>2400</td>\n",
       "    </tr>\n",
       "    <tr>\n",
       "      <th>ESTJ</th>\n",
       "      <td>1950</td>\n",
       "    </tr>\n",
       "    <tr>\n",
       "      <th>ESTP</th>\n",
       "      <td>4450</td>\n",
       "    </tr>\n",
       "    <tr>\n",
       "      <th>INFJ</th>\n",
       "      <td>73500</td>\n",
       "    </tr>\n",
       "    <tr>\n",
       "      <th>INFP</th>\n",
       "      <td>91600</td>\n",
       "    </tr>\n",
       "    <tr>\n",
       "      <th>INTJ</th>\n",
       "      <td>54550</td>\n",
       "    </tr>\n",
       "    <tr>\n",
       "      <th>INTP</th>\n",
       "      <td>65200</td>\n",
       "    </tr>\n",
       "    <tr>\n",
       "      <th>ISFJ</th>\n",
       "      <td>8300</td>\n",
       "    </tr>\n",
       "    <tr>\n",
       "      <th>ISFP</th>\n",
       "      <td>13550</td>\n",
       "    </tr>\n",
       "    <tr>\n",
       "      <th>ISTJ</th>\n",
       "      <td>10250</td>\n",
       "    </tr>\n",
       "    <tr>\n",
       "      <th>ISTP</th>\n",
       "      <td>16850</td>\n",
       "    </tr>\n",
       "  </tbody>\n",
       "</table>\n",
       "</div>"
      ],
      "text/plain": [
       "      posts\n",
       "type       \n",
       "ENFJ   9500\n",
       "ENFP  33750\n",
       "ENTJ  11550\n",
       "ENTP  34250\n",
       "ESFJ   2100\n",
       "ESFP   2400\n",
       "ESTJ   1950\n",
       "ESTP   4450\n",
       "INFJ  73500\n",
       "INFP  91600\n",
       "INTJ  54550\n",
       "INTP  65200\n",
       "ISFJ   8300\n",
       "ISFP  13550\n",
       "ISTJ  10250\n",
       "ISTP  16850"
      ]
     },
     "execution_count": 8,
     "metadata": {},
     "output_type": "execute_result"
    }
   ],
   "source": [
    "total = data_set.groupby(['type']).count()*50\n",
    "total"
   ]
  },
  {
   "cell_type": "code",
   "execution_count": 9,
   "id": "critical-reggae",
   "metadata": {
    "_cell_guid": "280f8abb-d809-40b9-bf1b-1f73a1638a2a",
    "_uuid": "7ad5ace8-1c15-48a6-bf83-3862d7e0ac9d",
    "collapsed": false,
    "execution": {
     "iopub.execute_input": "2022-04-01T14:34:41.319806Z",
     "iopub.status.busy": "2022-04-01T14:34:41.319137Z",
     "iopub.status.idle": "2022-04-01T14:34:41.649293Z",
     "shell.execute_reply": "2022-04-01T14:34:41.648708Z",
     "shell.execute_reply.started": "2022-03-31T10:49:12.133755Z"
    },
    "id": "FCdUpk1fbrK3",
    "jupyter": {
     "outputs_hidden": false
    },
    "outputId": "86543d03-5bea-4f8d-ce90-e0d85db59648",
    "papermill": {
     "duration": 0.438606,
     "end_time": "2022-04-01T14:34:41.649430",
     "exception": false,
     "start_time": "2022-04-01T14:34:41.210824",
     "status": "completed"
    },
    "tags": []
   },
   "outputs": [
    {
     "data": {
      "text/plain": [
       "Text(0.5, 1.0, 'Total posts for each personality type')"
      ]
     },
     "execution_count": 9,
     "metadata": {},
     "output_type": "execute_result"
    },
    {
     "data": {
      "image/png": "[encoded data removed]",
      "text/plain": [
       "<Figure size 864x288 with 1 Axes>"
      ]
     },
     "metadata": {
      "needs_background": "light"
     },
     "output_type": "display_data"
    }
   ],
   "source": [
    "plt.figure(figsize = (12,4))\n",
    "plt.bar(np.array(total.index), height = total['posts'],)\n",
    "plt.xlabel('Personality types', size = 14)\n",
    "plt.ylabel('No. of posts available', size = 14)\n",
    "plt.title('Total posts for each personality type')"
   ]
  },
  {
   "cell_type": "markdown",
   "id": "fuzzy-siemens",
   "metadata": {
    "_cell_guid": "647b43b0-04bd-4c63-833e-5ed8da9e3f10",
    "_uuid": "58cf45bd-aa94-40bd-813f-1630825e35b7",
    "id": "G694HYv6BsF7",
    "papermill": {
     "duration": 0.087275,
     "end_time": "2022-04-01T14:34:41.823720",
     "exception": false,
     "start_time": "2022-04-01T14:34:41.736445",
     "status": "completed"
    },
    "tags": []
   },
   "source": [
    "The dataset is clearly unbalanced throughout the different classes. We observe that some of the personality types has a lot more data than others, the most common Kaggle users personality is INFP (Introvert Intuition Feeling Perceiving).\n",
    "\n",
    "However, we reach this conclusion based on user comments: we can consider for now that users who comment on social media more frequently are more intoverted, perceptive, and emotional."
   ]
  },
  {
   "cell_type": "markdown",
   "id": "written-tiffany",
   "metadata": {
    "_cell_guid": "d936521e-a837-488c-bbc0-f8e34770829b",
    "_uuid": "72ee23cd-bded-433c-9e11-f1c5735f1161",
    "id": "QcPXjcTt1FjT",
    "papermill": {
     "duration": 0.089078,
     "end_time": "2022-04-01T14:34:41.999807",
     "exception": false,
     "start_time": "2022-04-01T14:34:41.910729",
     "status": "completed"
    },
    "tags": []
   },
   "source": [
    "**DISTANCE PLOT:**\n",
    "\n",
    "This seaborn visualization method shows the histogram distribution of data for a single column."
   ]
  },
  {
   "cell_type": "code",
   "execution_count": 10,
   "id": "preceding-freight",
   "metadata": {
    "_cell_guid": "a9bf9731-25f4-4989-ad34-9879f3befe24",
    "_uuid": "ccbae2ef-a720-4b7e-80d3-d892e5d80bd6",
    "collapsed": false,
    "execution": {
     "iopub.execute_input": "2022-04-01T14:34:42.209155Z",
     "iopub.status.busy": "2022-04-01T14:34:42.180007Z",
     "iopub.status.idle": "2022-04-01T14:34:42.485926Z",
     "shell.execute_reply": "2022-04-01T14:34:42.485313Z",
     "shell.execute_reply.started": "2022-03-31T10:49:12.514722Z"
    },
    "id": "bf2cO9ZakHLP",
    "jupyter": {
     "outputs_hidden": false
    },
    "outputId": "e3094607-04ec-4824-e7a6-191c7c7d71cd",
    "papermill": {
     "duration": 0.397839,
     "end_time": "2022-04-01T14:34:42.486066",
     "exception": false,
     "start_time": "2022-04-01T14:34:42.088227",
     "status": "completed"
    },
    "tags": []
   },
   "outputs": [
    {
     "data": {
      "text/plain": [
       "Text(0.5, 1.0, 'Distribution of Lengths of all 50 Posts')"
      ]
     },
     "execution_count": 10,
     "metadata": {},
     "output_type": "execute_result"
    },
    {
     "data": {
      "image/png": "[encoded data removed]",
      "text/plain": [
       "<Figure size 432x288 with 1 Axes>"
      ]
     },
     "metadata": {
      "needs_background": "light"
     },
     "output_type": "display_data"
    }
   ],
   "source": [
    "df = data_set.copy()\n",
    "df[\"length_posts\"] = df[\"posts\"].apply(len)\n",
    "sns.distplot(df[\"length_posts\"]).set_title(\"Distribution of Lengths of all 50 Posts\")"
   ]
  },
  {
   "cell_type": "markdown",
   "id": "closing-barrier",
   "metadata": {
    "_cell_guid": "a220b73f-83b4-447e-a36e-0c53ebe167a2",
    "_uuid": "652f3b0b-4850-4ddb-87be-1c046a0a1b76",
    "id": "vmwICxNg1t4h",
    "papermill": {
     "duration": 0.087585,
     "end_time": "2022-04-01T14:34:42.661766",
     "exception": false,
     "start_time": "2022-04-01T14:34:42.574181",
     "status": "completed"
    },
    "tags": []
   },
   "source": [
    "\n",
    "\n",
    "*   We can see that most no of lengthly posts have between 7000-9000 words.\n",
    "*  The line that you see represents the kernel density estimation. It is a fundamental data smoothing problem where inferences about the population, based on a finite data sample. This kernel density estimate is a function defined as the sum of a kernel function on every data point."
   ]
  },
  {
   "cell_type": "code",
   "execution_count": 11,
   "id": "liquid-loading",
   "metadata": {
    "_cell_guid": "4ab7c0c3-645c-494d-a633-268cf8a6dc81",
    "_uuid": "391f26e9-2b4c-4bc6-9128-a86421e86f81",
    "collapsed": false,
    "execution": {
     "iopub.execute_input": "2022-04-01T14:34:42.848989Z",
     "iopub.status.busy": "2022-04-01T14:34:42.840471Z",
     "iopub.status.idle": "2022-04-01T14:34:46.901484Z",
     "shell.execute_reply": "2022-04-01T14:34:46.900874Z",
     "shell.execute_reply.started": "2022-03-31T10:49:12.856304Z"
    },
    "id": "aRr4yyT8kLGH",
    "jupyter": {
     "outputs_hidden": false
    },
    "outputId": "7cf9a313-ecb0-4123-b2a2-b7d49317e9b9",
    "papermill": {
     "duration": 4.151977,
     "end_time": "2022-04-01T14:34:46.901660",
     "exception": false,
     "start_time": "2022-04-01T14:34:42.749683",
     "status": "completed"
    },
    "tags": []
   },
   "outputs": [
    {
     "data": {
      "text/plain": [
       "[('I', 387957),\n",
       " ('to', 290168),\n",
       " ('the', 270699),\n",
       " ('a', 230918),\n",
       " ('and', 219498),\n",
       " ('of', 177853),\n",
       " ('is', 128804),\n",
       " ('you', 128750),\n",
       " ('that', 127221),\n",
       " ('in', 117263),\n",
       " ('my', 104561),\n",
       " ('it', 93101),\n",
       " ('for', 83057),\n",
       " ('have', 79784),\n",
       " ('with', 77131),\n",
       " ('but', 74729),\n",
       " ('be', 69317),\n",
       " ('are', 65034),\n",
       " ('like', 61390),\n",
       " ('not', 59496),\n",
       " ('an', 59020),\n",
       " (\"I'm\", 57339),\n",
       " ('on', 57062),\n",
       " ('was', 56146),\n",
       " ('me', 55488),\n",
       " ('as', 53310),\n",
       " ('this', 52601),\n",
       " ('just', 48292),\n",
       " ('about', 46305),\n",
       " ('think', 46229),\n",
       " ('or', 45724),\n",
       " (\"don't\", 44821),\n",
       " ('so', 42935),\n",
       " ('your', 40918),\n",
       " ('do', 40867),\n",
       " ('what', 37746),\n",
       " ('at', 37566),\n",
       " ('can', 37535),\n",
       " ('if', 37042),\n",
       " ('people', 35546)]"
      ]
     },
     "execution_count": 11,
     "metadata": {},
     "output_type": "execute_result"
    }
   ],
   "source": [
    "#Finding the most common words in all posts.\n",
    "words = list(df[\"posts\"].apply(lambda x: x.split()))\n",
    "words = [x for y in words for x in y]\n",
    "Counter(words).most_common(40)"
   ]
  },
  {
   "cell_type": "markdown",
   "id": "confirmed-indianapolis",
   "metadata": {
    "_cell_guid": "b5d596f3-df32-4208-bdbe-c5bd315bc07d",
    "_uuid": "a2a211e9-1291-4eb8-9455-641a54204b62",
    "id": "VSaNsLLy7Xq8",
    "papermill": {
     "duration": 0.09246,
     "end_time": "2022-04-01T14:34:47.083133",
     "exception": false,
     "start_time": "2022-04-01T14:34:46.990673",
     "status": "completed"
    },
    "tags": []
   },
   "source": [
    "*   The posts majorly contain general words like : I, I'm, so, me, or, if, and, can etc. It is safe to assume that these words won't really provide any useful information to train the ML model as most of them are stop-words, stem-words, or other useless words.\n",
    "*   Hence quite a lot pre-processing is required for individual user posts for each peronality type in the given MBTI dataset"
   ]
  },
  {
   "cell_type": "markdown",
   "id": "whole-technical",
   "metadata": {
    "_cell_guid": "b730fcf2-6ef6-4c69-a0ee-a8eb203976e1",
    "_uuid": "28463a92-45b2-40e1-964e-d724bf2b2c7b",
    "id": "87kr-p3LlXNv",
    "papermill": {
     "duration": 0.087566,
     "end_time": "2022-04-01T14:34:47.259299",
     "exception": false,
     "start_time": "2022-04-01T14:34:47.171733",
     "status": "completed"
    },
    "tags": []
   },
   "source": [
    "Now we see the Wordclouds for each Personality Type. We produced 16 Word Clouds for 16 groups of personality. These word clouds are generated such that the size of each word is proportional to its appearance frequency in the top posts. We consider these word clouds to be illustrative of some of the unique ways that different MBTIs use language."
   ]
  },
  {
   "cell_type": "code",
   "execution_count": 12,
   "id": "convinced-beverage",
   "metadata": {
    "_cell_guid": "cf82fc55-e603-422a-8d44-743e3518faad",
    "_uuid": "9caee258-94b7-4293-b1fb-6d04a6529c35",
    "collapsed": false,
    "execution": {
     "iopub.execute_input": "2022-04-01T14:34:47.439874Z",
     "iopub.status.busy": "2022-04-01T14:34:47.439167Z",
     "iopub.status.idle": "2022-04-01T14:34:55.620436Z",
     "shell.execute_reply": "2022-04-01T14:34:55.620957Z",
     "shell.execute_reply.started": "2022-03-31T10:49:17.385881Z"
    },
    "id": "i27xlPnVkOJw",
    "jupyter": {
     "outputs_hidden": false
    },
    "outputId": "143c311c-bffc-48d3-b360-fa3bb9549f95",
    "papermill": {
     "duration": 8.273215,
     "end_time": "2022-04-01T14:34:55.621128",
     "exception": false,
     "start_time": "2022-04-01T14:34:47.347913",
     "status": "completed"
    },
    "tags": []
   },
   "outputs": [
    {
     "data": {
      "image/png": "[encoded data removed]",
      "text/plain": [
       "<Figure size 1080x1152 with 16 Axes>"
      ]
     },
     "metadata": {
      "needs_background": "light"
     },
     "output_type": "display_data"
    }
   ],
   "source": [
    "fig, ax = plt.subplots(len(df['type'].unique()), sharex=True, figsize=(15,len(df['type'].unique())))\n",
    "k = 0\n",
    "for i in df['type'].unique():\n",
    "    df_4 = df[df['type'] == i]\n",
    "    wordcloud = WordCloud(max_words=1628,relative_scaling=1,normalize_plurals=False).generate(df_4['posts'].to_string())\n",
    "    plt.subplot(4,4,k+1)\n",
    "    plt.imshow(wordcloud, interpolation='bilinear')\n",
    "    plt.title(i)\n",
    "    ax[k].axis(\"off\")\n",
    "    k+=1"
   ]
  },
  {
   "cell_type": "markdown",
   "id": "economic-breeding",
   "metadata": {
    "_cell_guid": "a576f552-abda-42bf-9361-53f67876654a",
    "_uuid": "c053ef4f-ec49-4644-be03-72d6cae4fcc2",
    "id": "MfxMCLxHRDd4",
    "papermill": {
     "duration": 0.107111,
     "end_time": "2022-04-01T14:34:55.834624",
     "exception": false,
     "start_time": "2022-04-01T14:34:55.727513",
     "status": "completed"
    },
    "tags": []
   },
   "source": [
    "*  we can see there are a no. of irrelevant words present in the dataset (e.g. ha, ar, Ti etx.) which will need to be removed\n",
    "*  Interestingly, among the most common words in the word clouds of individual personality types, is the names of MBTI personlity types themselves.\n",
    "\n",
    "It would hence be necessary to clean our posts by removing these MBTI words from each of them as part of our pre-processing stage, before training the model for better evaluation results."
   ]
  },
  {
   "cell_type": "markdown",
   "id": "raising-default",
   "metadata": {
    "_cell_guid": "8c8a8f81-0b9e-4cfa-b411-fe9eab676b52",
    "_uuid": "87722963-45c1-4d22-9728-d2ed422b8011",
    "id": "I-ew9rKX_sNK",
    "papermill": {
     "duration": 0.105972,
     "end_time": "2022-04-01T14:34:56.046113",
     "exception": false,
     "start_time": "2022-04-01T14:34:55.940141",
     "status": "completed"
    },
    "tags": []
   },
   "source": [
    "Counting the no. of users and posts in the given MBTI Kaggle dataset"
   ]
  },
  {
   "cell_type": "code",
   "execution_count": 13,
   "id": "peripheral-throat",
   "metadata": {
    "_cell_guid": "5267c36a-4338-4f20-8330-b4e3cb1dd195",
    "_uuid": "bbb4bca1-d83b-42c4-9fbb-3ca64e868b78",
    "collapsed": false,
    "execution": {
     "iopub.execute_input": "2022-04-01T14:34:56.265478Z",
     "iopub.status.busy": "2022-04-01T14:34:56.264846Z",
     "iopub.status.idle": "2022-04-01T14:34:57.912795Z",
     "shell.execute_reply": "2022-04-01T14:34:57.912088Z",
     "shell.execute_reply.started": "2022-03-31T10:49:26.494558Z"
    },
    "id": "4nalC8j2kTPR",
    "jupyter": {
     "outputs_hidden": false
    },
    "outputId": "2169cfea-c574-45b1-dab1-6003fb4c090d",
    "papermill": {
     "duration": 1.755551,
     "end_time": "2022-04-01T14:34:57.912937",
     "exception": false,
     "start_time": "2022-04-01T14:34:56.157386",
     "status": "completed"
    },
    "tags": []
   },
   "outputs": [
    {
     "name": "stdout",
     "output_type": "stream",
     "text": [
      "Number of users 8675\n",
      "Number of posts 422845\n",
      "5 posts from start are:\n"
     ]
    },
    {
     "data": {
      "text/plain": [
       "[('INFJ', \"'http://www.youtube.com/watch?v=qsXHcwe3krw\"),\n",
       " ('INFJ', 'http://41.media.tumblr.com/tumblr_lfouy03PMA1qa1rooo1_500.jpg'),\n",
       " ('INFJ',\n",
       "  'enfp and intj moments  https://www.youtube.com/watch?v=iz7lE1g4XM4  sportscenter not top ten plays  https://www.youtube.com/watch?v=uCdfze1etec  pranks'),\n",
       " ('INFJ', 'What has been the most life-changing experience in your life?'),\n",
       " ('INFJ',\n",
       "  'http://www.youtube.com/watch?v=vXZeYwwRDw8   http://www.youtube.com/watch?v=u8ejam5DP3E  On repeat for most of today.')]"
      ]
     },
     "execution_count": 13,
     "metadata": {},
     "output_type": "execute_result"
    }
   ],
   "source": [
    "def extract(posts, new_posts):\n",
    "    for post in posts[1].split(\"|||\"):\n",
    "        new_posts.append((posts[0], post))\n",
    "\n",
    "posts = []\n",
    "df.apply(lambda x: extract(x, posts), axis=1)\n",
    "print(\"Number of users\", len(df))\n",
    "print(\"Number of posts\", len(posts))\n",
    "print(\"5 posts from start are:\")\n",
    "posts[0:5]"
   ]
  },
  {
   "cell_type": "markdown",
   "id": "adaptive-scene",
   "metadata": {
    "_cell_guid": "e0d0e2bf-3a82-4a2a-bea4-5ad325a81e60",
    "_uuid": "60ec167e-bfad-4197-aa54-6769cec21938",
    "id": "hPBrFIUJ_8Cv",
    "papermill": {
     "duration": 0.107536,
     "end_time": "2022-04-01T14:34:58.127166",
     "exception": false,
     "start_time": "2022-04-01T14:34:58.019630",
     "status": "completed"
    },
    "tags": []
   },
   "source": [
    "\n",
    "\n",
    "*   It is inferenced that a lot of hyperlinks are presnt in these posts\n",
    "*   It is safe to assume that url links do not provide any real information about a user's personality, hence, we need to clean our dataset for these too.\n",
    "\n",
    "This given sample dataset does not come from the entire Kaggle user population; rather, it comes from Kaggle users who leave comments; thus, our ML model's conclusion cannot be applied to all Kaggle users, only to those who leave comments. \n",
    "\n",
    "Furthermore, with more data, more accurate models could be obtained. As a result, the model may fail to classify a personality at the lower end."
   ]
  },
  {
   "cell_type": "markdown",
   "id": "armed-determination",
   "metadata": {
    "_cell_guid": "eb71eda2-154f-43d9-a4df-70caa6a3b5e1",
    "_uuid": "c57f502c-c4b8-4ae6-8e10-798f99a5e037",
    "id": "THTk2OcUj6V0",
    "papermill": {
     "duration": 0.106115,
     "end_time": "2022-04-01T14:34:58.339211",
     "exception": false,
     "start_time": "2022-04-01T14:34:58.233096",
     "status": "completed"
    },
    "tags": []
   },
   "source": [
    "# Pre-Processing Stage\n",
    "**NOTE**: this phase might take some time to execute due to computationaly expensive operations"
   ]
  },
  {
   "cell_type": "code",
   "execution_count": 14,
   "id": "robust-offense",
   "metadata": {
    "_cell_guid": "5f6f4ba1-9f09-47fe-b516-43ee324b2a96",
    "_uuid": "7e9ab57f-e7d2-4bc0-86b2-7c6a223d05f8",
    "collapsed": false,
    "execution": {
     "iopub.execute_input": "2022-04-01T14:34:58.561416Z",
     "iopub.status.busy": "2022-04-01T14:34:58.560705Z",
     "iopub.status.idle": "2022-04-01T14:35:52.515911Z",
     "shell.execute_reply": "2022-04-01T14:35:52.516489Z",
     "shell.execute_reply.started": "2022-03-31T10:49:28.192126Z"
    },
    "id": "jVyMZBjubrK7",
    "jupyter": {
     "outputs_hidden": false
    },
    "papermill": {
     "duration": 54.071539,
     "end_time": "2022-04-01T14:35:52.516734",
     "exception": false,
     "start_time": "2022-04-01T14:34:58.445195",
     "status": "completed"
    },
    "tags": []
   },
   "outputs": [],
   "source": [
    "def preprocess_text(df, remove_special=True):\n",
    "    texts = df['posts'].copy()\n",
    "    labels = df['type'].copy()\n",
    "\n",
    "    #Remove links \n",
    "    df[\"posts\"] = df[\"posts\"].apply(lambda x: re.sub(r'https?:\\/\\/.*?[\\s+]', '', x.replace(\"|\",\" \") + \" \"))\n",
    "    \n",
    "    #Keep the End Of Sentence characters\n",
    "    df[\"posts\"] = df[\"posts\"].apply(lambda x: re.sub(r'\\.', ' EOSTokenDot ', x + \" \"))\n",
    "    df[\"posts\"] = df[\"posts\"].apply(lambda x: re.sub(r'\\?', ' EOSTokenQuest ', x + \" \"))\n",
    "    df[\"posts\"] = df[\"posts\"].apply(lambda x: re.sub(r'!', ' EOSTokenExs ', x + \" \"))\n",
    "    \n",
    "    #Strip Punctation\n",
    "    df[\"posts\"] = df[\"posts\"].apply(lambda x: re.sub(r'[\\.+]', \".\",x))\n",
    "\n",
    "    #Remove multiple fullstops\n",
    "    df[\"posts\"] = df[\"posts\"].apply(lambda x: re.sub(r'[^\\w\\s]','',x))\n",
    "\n",
    "    #Remove Non-words\n",
    "    df[\"posts\"] = df[\"posts\"].apply(lambda x: re.sub(r'[^a-zA-Z\\s]','',x))\n",
    "\n",
    "    #Convert posts to lowercase\n",
    "    df[\"posts\"] = df[\"posts\"].apply(lambda x: x.lower())\n",
    "\n",
    "    #Remove multiple letter repeating words\n",
    "    df[\"posts\"] = df[\"posts\"].apply(lambda x: re.sub(r'([a-z])\\1{2,}[\\s|\\w]*','',x)) \n",
    "\n",
    "    #Remove very short or long words\n",
    "    df[\"posts\"] = df[\"posts\"].apply(lambda x: re.sub(r'(\\b\\w{0,3})?\\b','',x)) \n",
    "    df[\"posts\"] = df[\"posts\"].apply(lambda x: re.sub(r'(\\b\\w{30,1000})?\\b','',x))\n",
    "\n",
    "    #Remove MBTI Personality Words - crutial in order to get valid model accuracy estimation for unseen data. \n",
    "    if remove_special:\n",
    "        pers_types = ['INFP' ,'INFJ', 'INTP', 'INTJ', 'ENTP', 'ENFP', 'ISTP' ,'ISFP' ,'ENTJ', 'ISTJ','ENFJ', 'ISFJ' ,'ESTP', 'ESFP' ,'ESFJ' ,'ESTJ']\n",
    "        pers_types = [p.lower() for p in pers_types]\n",
    "        p = re.compile(\"(\" + \"|\".join(pers_types) + \")\")\n",
    "    \n",
    "    return df\n",
    "\n",
    "#Preprocessing of entered Text\n",
    "new_df = preprocess_text(data_set)"
   ]
  },
  {
   "cell_type": "code",
   "execution_count": 15,
   "id": "spread-honor",
   "metadata": {
    "_cell_guid": "40255aeb-b9e6-4fc3-98bf-93add4073f8b",
    "_uuid": "88182495-9a79-449e-adc9-86c4b4ef29be",
    "collapsed": false,
    "execution": {
     "iopub.execute_input": "2022-04-01T14:35:52.733406Z",
     "iopub.status.busy": "2022-04-01T14:35:52.732710Z",
     "iopub.status.idle": "2022-04-01T14:35:54.882382Z",
     "shell.execute_reply": "2022-04-01T14:35:54.881784Z",
     "shell.execute_reply.started": "2022-03-31T10:50:23.051484Z"
    },
    "id": "9mY_KC3NbrK8",
    "jupyter": {
     "outputs_hidden": false
    },
    "outputId": "9e9a65a4-03c4-40c2-a46c-a805b24bc7c9",
    "papermill": {
     "duration": 2.259397,
     "end_time": "2022-04-01T14:35:54.882570",
     "exception": false,
     "start_time": "2022-04-01T14:35:52.623173",
     "status": "completed"
    },
    "tags": []
   },
   "outputs": [
    {
     "name": "stdout",
     "output_type": "stream",
     "text": [
      "Before : Number of posts 8675\n",
      "After : Number of posts 8466\n"
     ]
    }
   ],
   "source": [
    "#Remove posts with less than X words\n",
    "min_words = 15\n",
    "print(\"Before : Number of posts\", len(new_df)) \n",
    "new_df[\"no. of. words\"] = new_df[\"posts\"].apply(lambda x: len(re.findall(r'\\w+', x)))\n",
    "new_df = new_df[new_df[\"no. of. words\"] >= min_words]\n",
    "\n",
    "print(\"After : Number of posts\", len(new_df))"
   ]
  },
  {
   "cell_type": "markdown",
   "id": "governmental-alberta",
   "metadata": {
    "_cell_guid": "025e6434-544f-40cb-a2fa-92e520f31fc5",
    "_uuid": "9808858c-d6d1-43fc-9eb9-8054dc66d4ba",
    "id": "zKQgku45kQWl",
    "papermill": {
     "duration": 0.107289,
     "end_time": "2022-04-01T14:35:55.097787",
     "exception": false,
     "start_time": "2022-04-01T14:35:54.990498",
     "status": "completed"
    },
    "tags": []
   },
   "source": [
    "# Feature Engineering"
   ]
  },
  {
   "cell_type": "code",
   "execution_count": 16,
   "id": "transparent-excitement",
   "metadata": {
    "_cell_guid": "135826aa-eef1-40c5-8d83-fda8a71de2c4",
    "_uuid": "9bd58be7-4cbb-45ed-be66-b20bf30ee346",
    "collapsed": false,
    "execution": {
     "iopub.execute_input": "2022-04-01T14:35:55.357079Z",
     "iopub.status.busy": "2022-04-01T14:35:55.356029Z",
     "iopub.status.idle": "2022-04-01T14:35:55.359953Z",
     "shell.execute_reply": "2022-04-01T14:35:55.360561Z",
     "shell.execute_reply.started": "2022-03-31T10:50:25.339539Z"
    },
    "id": "8CR6jQBObrK9",
    "jupyter": {
     "outputs_hidden": false
    },
    "outputId": "3d0be968-c9d5-41b9-ff3b-15ba3e9d235b",
    "papermill": {
     "duration": 0.125944,
     "end_time": "2022-04-01T14:35:55.360732",
     "exception": false,
     "start_time": "2022-04-01T14:35:55.234788",
     "status": "completed"
    },
    "tags": []
   },
   "outputs": [
    {
     "data": {
      "text/html": [
       "<div>\n",
       "<style scoped>\n",
       "    .dataframe tbody tr th:only-of-type {\n",
       "        vertical-align: middle;\n",
       "    }\n",
       "\n",
       "    .dataframe tbody tr th {\n",
       "        vertical-align: top;\n",
       "    }\n",
       "\n",
       "    .dataframe thead th {\n",
       "        text-align: right;\n",
       "    }\n",
       "</style>\n",
       "<table border=\"1\" class=\"dataframe\">\n",
       "  <thead>\n",
       "    <tr style=\"text-align: right;\">\n",
       "      <th></th>\n",
       "      <th>type</th>\n",
       "      <th>posts</th>\n",
       "      <th>no. of. words</th>\n",
       "    </tr>\n",
       "  </thead>\n",
       "  <tbody>\n",
       "    <tr>\n",
       "      <th>0</th>\n",
       "      <td>INFJ</td>\n",
       "      <td>enfp  intj moments   sportscenter    plays...</td>\n",
       "      <td>430</td>\n",
       "    </tr>\n",
       "    <tr>\n",
       "      <th>1</th>\n",
       "      <td>ENTP</td>\n",
       "      <td>finding  lack    these posts very alarming eo...</td>\n",
       "      <td>803</td>\n",
       "    </tr>\n",
       "    <tr>\n",
       "      <th>2</th>\n",
       "      <td>INTP</td>\n",
       "      <td>good         course  which    know thats  bles...</td>\n",
       "      <td>253</td>\n",
       "    </tr>\n",
       "    <tr>\n",
       "      <th>3</th>\n",
       "      <td>INTJ</td>\n",
       "      <td>dear intp    enjoyed  conversation  other  eos...</td>\n",
       "      <td>777</td>\n",
       "    </tr>\n",
       "    <tr>\n",
       "      <th>4</th>\n",
       "      <td>ENTJ</td>\n",
       "      <td>youre fired eostokendot    thats another silly...</td>\n",
       "      <td>402</td>\n",
       "    </tr>\n",
       "  </tbody>\n",
       "</table>\n",
       "</div>"
      ],
      "text/plain": [
       "   type                                              posts  no. of. words\n",
       "0  INFJ      enfp  intj moments   sportscenter    plays...            430\n",
       "1  ENTP   finding  lack    these posts very alarming eo...            803\n",
       "2  INTP  good         course  which    know thats  bles...            253\n",
       "3  INTJ  dear intp    enjoyed  conversation  other  eos...            777\n",
       "4  ENTJ  youre fired eostokendot    thats another silly...            402"
      ]
     },
     "execution_count": 16,
     "metadata": {},
     "output_type": "execute_result"
    }
   ],
   "source": [
    "new_df.head()"
   ]
  },
  {
   "cell_type": "markdown",
   "id": "eligible-affairs",
   "metadata": {
    "_cell_guid": "585e5d07-4718-48ca-9db8-63ab9cbec3eb",
    "_uuid": "729b402c-78ef-4ce2-b739-836e38c3ca85",
    "id": "lVUGPcZJNn4p",
    "papermill": {
     "duration": 0.106412,
     "end_time": "2022-04-01T14:35:55.573648",
     "exception": false,
     "start_time": "2022-04-01T14:35:55.467236",
     "status": "completed"
    },
    "tags": []
   },
   "source": [
    "## Splitting into X and Y feature"
   ]
  },
  {
   "cell_type": "markdown",
   "id": "vulnerable-intro",
   "metadata": {
    "_cell_guid": "1f6e227f-bd15-478c-b12c-83270c80d5fa",
    "_uuid": "af4c8663-a8ee-4012-8360-5d799c3f6e8f",
    "id": "qJJrLJX0DsEv",
    "papermill": {
     "duration": 0.106556,
     "end_time": "2022-04-01T14:35:55.788710",
     "exception": false,
     "start_time": "2022-04-01T14:35:55.682154",
     "status": "completed"
    },
    "tags": []
   },
   "source": [
    "**1.  LabelEncoder** : Provided by Sklearn library that converts the the levels of categorical features (labels) into numeric form so as to convert it into the machine-readable form. It encode labels with a value between 0 and n_classes-1 where n is the number of distinct labels. If a label repeats it assigns the same value to as assigned earlier."
   ]
  },
  {
   "cell_type": "code",
   "execution_count": 17,
   "id": "available-shepherd",
   "metadata": {
    "_cell_guid": "4c05f2cc-65c5-405b-9b66-17b5990ef440",
    "_uuid": "69d70235-8e41-4099-a9f8-44f338daa29c",
    "collapsed": false,
    "execution": {
     "iopub.execute_input": "2022-04-01T14:35:56.014790Z",
     "iopub.status.busy": "2022-04-01T14:35:56.014117Z",
     "iopub.status.idle": "2022-04-01T14:35:56.015975Z",
     "shell.execute_reply": "2022-04-01T14:35:56.016569Z",
     "shell.execute_reply.started": "2022-03-31T10:50:25.353022Z"
    },
    "id": "_9DSu6AabrK-",
    "jupyter": {
     "outputs_hidden": false
    },
    "papermill": {
     "duration": 0.119511,
     "end_time": "2022-04-01T14:35:56.016738",
     "exception": false,
     "start_time": "2022-04-01T14:35:55.897227",
     "status": "completed"
    },
    "tags": []
   },
   "outputs": [],
   "source": [
    "# Converting MBTI personality (or target or Y feature) into numerical form using Label Encoding\n",
    "# encoding personality type\n",
    "enc = LabelEncoder()\n",
    "new_df['type of encoding'] = enc.fit_transform(new_df['type'])\n",
    "\n",
    "target = new_df['type of encoding']"
   ]
  },
  {
   "cell_type": "code",
   "execution_count": 18,
   "id": "editorial-freeze",
   "metadata": {
    "_cell_guid": "ef3b18ad-6566-4b73-8499-76c742221eba",
    "_uuid": "6f12850f-db19-4a9f-b95f-1cfe4cd08cf8",
    "collapsed": false,
    "execution": {
     "iopub.execute_input": "2022-04-01T14:35:56.239679Z",
     "iopub.status.busy": "2022-04-01T14:35:56.239022Z",
     "iopub.status.idle": "2022-04-01T14:35:56.252221Z",
     "shell.execute_reply": "2022-04-01T14:35:56.252748Z",
     "shell.execute_reply.started": "2022-03-31T10:50:25.377059Z"
    },
    "id": "VBFiyjk4brK_",
    "jupyter": {
     "outputs_hidden": false
    },
    "outputId": "5e607fad-87df-42c9-9881-7d986362c00a",
    "papermill": {
     "duration": 0.124108,
     "end_time": "2022-04-01T14:35:56.252928",
     "exception": false,
     "start_time": "2022-04-01T14:35:56.128820",
     "status": "completed"
    },
    "tags": []
   },
   "outputs": [
    {
     "data": {
      "text/html": [
       "<div>\n",
       "<style scoped>\n",
       "    .dataframe tbody tr th:only-of-type {\n",
       "        vertical-align: middle;\n",
       "    }\n",
       "\n",
       "    .dataframe tbody tr th {\n",
       "        vertical-align: top;\n",
       "    }\n",
       "\n",
       "    .dataframe thead th {\n",
       "        text-align: right;\n",
       "    }\n",
       "</style>\n",
       "<table border=\"1\" class=\"dataframe\">\n",
       "  <thead>\n",
       "    <tr style=\"text-align: right;\">\n",
       "      <th></th>\n",
       "      <th>type</th>\n",
       "      <th>posts</th>\n",
       "      <th>no. of. words</th>\n",
       "      <th>type of encoding</th>\n",
       "    </tr>\n",
       "  </thead>\n",
       "  <tbody>\n",
       "    <tr>\n",
       "      <th>0</th>\n",
       "      <td>INFJ</td>\n",
       "      <td>enfp  intj moments   sportscenter    plays...</td>\n",
       "      <td>430</td>\n",
       "      <td>8</td>\n",
       "    </tr>\n",
       "    <tr>\n",
       "      <th>1</th>\n",
       "      <td>ENTP</td>\n",
       "      <td>finding  lack    these posts very alarming eo...</td>\n",
       "      <td>803</td>\n",
       "      <td>3</td>\n",
       "    </tr>\n",
       "    <tr>\n",
       "      <th>2</th>\n",
       "      <td>INTP</td>\n",
       "      <td>good         course  which    know thats  bles...</td>\n",
       "      <td>253</td>\n",
       "      <td>11</td>\n",
       "    </tr>\n",
       "    <tr>\n",
       "      <th>3</th>\n",
       "      <td>INTJ</td>\n",
       "      <td>dear intp    enjoyed  conversation  other  eos...</td>\n",
       "      <td>777</td>\n",
       "      <td>10</td>\n",
       "    </tr>\n",
       "    <tr>\n",
       "      <th>4</th>\n",
       "      <td>ENTJ</td>\n",
       "      <td>youre fired eostokendot    thats another silly...</td>\n",
       "      <td>402</td>\n",
       "      <td>2</td>\n",
       "    </tr>\n",
       "    <tr>\n",
       "      <th>5</th>\n",
       "      <td>INTJ</td>\n",
       "      <td>eostokendot    science    perfect eostokendo...</td>\n",
       "      <td>245</td>\n",
       "      <td>10</td>\n",
       "    </tr>\n",
       "    <tr>\n",
       "      <th>6</th>\n",
       "      <td>INFJ</td>\n",
       "      <td>cant draw    nails haha eostokendot  those w...</td>\n",
       "      <td>970</td>\n",
       "      <td>8</td>\n",
       "    </tr>\n",
       "    <tr>\n",
       "      <th>7</th>\n",
       "      <td>INTJ</td>\n",
       "      <td>tend  build   collection  things   desktop th...</td>\n",
       "      <td>140</td>\n",
       "      <td>10</td>\n",
       "    </tr>\n",
       "    <tr>\n",
       "      <th>8</th>\n",
       "      <td>INFJ</td>\n",
       "      <td>sure thats  good question eostokendot   dist...</td>\n",
       "      <td>522</td>\n",
       "      <td>8</td>\n",
       "    </tr>\n",
       "    <tr>\n",
       "      <th>9</th>\n",
       "      <td>INTP</td>\n",
       "      <td>this position where  have  actually     pe...</td>\n",
       "      <td>130</td>\n",
       "      <td>11</td>\n",
       "    </tr>\n",
       "    <tr>\n",
       "      <th>10</th>\n",
       "      <td>INFJ</td>\n",
       "      <td>time  parents were fighting over  dads affair...</td>\n",
       "      <td>1072</td>\n",
       "      <td>8</td>\n",
       "    </tr>\n",
       "    <tr>\n",
       "      <th>11</th>\n",
       "      <td>ENFJ</td>\n",
       "      <td>went through  break  some months  eosto...</td>\n",
       "      <td>332</td>\n",
       "      <td>0</td>\n",
       "    </tr>\n",
       "    <tr>\n",
       "      <th>12</th>\n",
       "      <td>INFJ</td>\n",
       "      <td>santagato  entp   enfj   entp eostokenquest  ...</td>\n",
       "      <td>554</td>\n",
       "      <td>8</td>\n",
       "    </tr>\n",
       "    <tr>\n",
       "      <th>13</th>\n",
       "      <td>INTJ</td>\n",
       "      <td>fair enough  thats   want  look   eostokendot ...</td>\n",
       "      <td>1110</td>\n",
       "      <td>10</td>\n",
       "    </tr>\n",
       "    <tr>\n",
       "      <th>14</th>\n",
       "      <td>INTP</td>\n",
       "      <td>basically this eostokendot  eostokendot  eosto...</td>\n",
       "      <td>640</td>\n",
       "      <td>11</td>\n",
       "    </tr>\n",
       "  </tbody>\n",
       "</table>\n",
       "</div>"
      ],
      "text/plain": [
       "    type                                              posts  no. of. words  \\\n",
       "0   INFJ      enfp  intj moments   sportscenter    plays...            430   \n",
       "1   ENTP   finding  lack    these posts very alarming eo...            803   \n",
       "2   INTP  good         course  which    know thats  bles...            253   \n",
       "3   INTJ  dear intp    enjoyed  conversation  other  eos...            777   \n",
       "4   ENTJ  youre fired eostokendot    thats another silly...            402   \n",
       "5   INTJ    eostokendot    science    perfect eostokendo...            245   \n",
       "6   INFJ    cant draw    nails haha eostokendot  those w...            970   \n",
       "7   INTJ   tend  build   collection  things   desktop th...            140   \n",
       "8   INFJ    sure thats  good question eostokendot   dist...            522   \n",
       "9   INTP      this position where  have  actually     pe...            130   \n",
       "10  INFJ   time  parents were fighting over  dads affair...           1072   \n",
       "11  ENFJ         went through  break  some months  eosto...            332   \n",
       "12  INFJ   santagato  entp   enfj   entp eostokenquest  ...            554   \n",
       "13  INTJ  fair enough  thats   want  look   eostokendot ...           1110   \n",
       "14  INTP  basically this eostokendot  eostokendot  eosto...            640   \n",
       "\n",
       "    type of encoding  \n",
       "0                  8  \n",
       "1                  3  \n",
       "2                 11  \n",
       "3                 10  \n",
       "4                  2  \n",
       "5                 10  \n",
       "6                  8  \n",
       "7                 10  \n",
       "8                  8  \n",
       "9                 11  \n",
       "10                 8  \n",
       "11                 0  \n",
       "12                 8  \n",
       "13                10  \n",
       "14                11  "
      ]
     },
     "execution_count": 18,
     "metadata": {},
     "output_type": "execute_result"
    }
   ],
   "source": [
    "new_df.head(15)"
   ]
  },
  {
   "cell_type": "markdown",
   "id": "hawaiian-console",
   "metadata": {
    "_cell_guid": "71d136c6-babd-47ee-85b2-3482ea5f13fd",
    "_uuid": "86457463-8554-4c2a-8d79-2a8a8ceb20eb",
    "id": "x4qJnvOgFWgA",
    "papermill": {
     "duration": 0.107013,
     "end_time": "2022-04-01T14:35:56.468433",
     "exception": false,
     "start_time": "2022-04-01T14:35:56.361420",
     "status": "completed"
    },
    "tags": []
   },
   "source": [
    "\n",
    "\n",
    "*   We choose label encoding over one-hot encoding to reduce the pre-processing time, and majority due to the fact that there are predefined 16 values under MBTI and assigning unique integer based on alphabetical ordering seems like a viable option\n",
    "*   It seems like a better option to the curse of dimensionality in the feature space."
   ]
  },
  {
   "cell_type": "markdown",
   "id": "little-interference",
   "metadata": {
    "_cell_guid": "13328986-e36c-4ddb-9dbc-290729143e86",
    "_uuid": "5dbcfd88-e7b6-4926-b674-14ef724ddff0",
    "id": "RD6iXAcwpKbI",
    "papermill": {
     "duration": 0.107229,
     "end_time": "2022-04-01T14:35:56.683294",
     "exception": false,
     "start_time": "2022-04-01T14:35:56.576065",
     "status": "completed"
    },
    "tags": []
   },
   "source": [
    "In natural language processing, useless words are referred to as **stop words**."
   ]
  },
  {
   "cell_type": "code",
   "execution_count": 19,
   "id": "outside-silly",
   "metadata": {
    "_cell_guid": "a8d22920-4d0b-429b-8b53-71c48c8d3239",
    "_uuid": "7078b682-4b46-41cb-85b3-0bbcefc50d7c",
    "collapsed": false,
    "execution": {
     "iopub.execute_input": "2022-04-01T14:35:56.901269Z",
     "iopub.status.busy": "2022-04-01T14:35:56.900584Z",
     "iopub.status.idle": "2022-04-01T14:35:56.912144Z",
     "shell.execute_reply": "2022-04-01T14:35:56.912684Z",
     "shell.execute_reply.started": "2022-03-31T10:50:25.398472Z"
    },
    "id": "CFdvkHMBpDrr",
    "jupyter": {
     "outputs_hidden": false
    },
    "outputId": "6c36b2e1-c07c-4ad3-fe40-c226af549150",
    "papermill": {
     "duration": 0.12189,
     "end_time": "2022-04-01T14:35:56.912867",
     "exception": false,
     "start_time": "2022-04-01T14:35:56.790977",
     "status": "completed"
    },
    "tags": []
   },
   "outputs": [
    {
     "name": "stdout",
     "output_type": "stream",
     "text": [
      "['i', 'me', 'my', 'myself', 'we', 'our', 'ours', 'ourselves', 'you', \"you're\", \"you've\", \"you'll\", \"you'd\", 'your', 'yours', 'yourself', 'yourselves', 'he', 'him', 'his', 'himself', 'she', \"she's\", 'her', 'hers', 'herself', 'it', \"it's\", 'its', 'itself', 'they', 'them', 'their', 'theirs', 'themselves', 'what', 'which', 'who', 'whom', 'this', 'that', \"that'll\", 'these', 'those', 'am', 'is', 'are', 'was', 'were', 'be', 'been', 'being', 'have', 'has', 'had', 'having', 'do', 'does', 'did', 'doing', 'a', 'an', 'the', 'and', 'but', 'if', 'or', 'because', 'as', 'until', 'while', 'of', 'at', 'by', 'for', 'with', 'about', 'against', 'between', 'into', 'through', 'during', 'before', 'after', 'above', 'below', 'to', 'from', 'up', 'down', 'in', 'out', 'on', 'off', 'over', 'under', 'again', 'further', 'then', 'once', 'here', 'there', 'when', 'where', 'why', 'how', 'all', 'any', 'both', 'each', 'few', 'more', 'most', 'other', 'some', 'such', 'no', 'nor', 'not', 'only', 'own', 'same', 'so', 'than', 'too', 'very', 's', 't', 'can', 'will', 'just', 'don', \"don't\", 'should', \"should've\", 'now', 'd', 'll', 'm', 'o', 're', 've', 'y', 'ain', 'aren', \"aren't\", 'couldn', \"couldn't\", 'didn', \"didn't\", 'doesn', \"doesn't\", 'hadn', \"hadn't\", 'hasn', \"hasn't\", 'haven', \"haven't\", 'isn', \"isn't\", 'ma', 'mightn', \"mightn't\", 'mustn', \"mustn't\", 'needn', \"needn't\", 'shan', \"shan't\", 'shouldn', \"shouldn't\", 'wasn', \"wasn't\", 'weren', \"weren't\", 'won', \"won't\", 'wouldn', \"wouldn't\"]\n"
     ]
    }
   ],
   "source": [
    "# The python natural language toolkit library provides a list of english stop words.\n",
    "print(stopwords.words('english'))"
   ]
  },
  {
   "cell_type": "markdown",
   "id": "taken-click",
   "metadata": {
    "_cell_guid": "6034a2e3-2669-4740-91ae-d22212d87caf",
    "_uuid": "5cee3c13-a957-42f0-94e7-36757278660a",
    "id": "e3cmuU5sGuUB",
    "papermill": {
     "duration": 0.108776,
     "end_time": "2022-04-01T14:35:57.130978",
     "exception": false,
     "start_time": "2022-04-01T14:35:57.022202",
     "status": "completed"
    },
    "tags": []
   },
   "source": [
    "\n",
    "\n",
    "*   We observe that almost all of these were were the most occuring words in our wordcloud above"
   ]
  },
  {
   "cell_type": "markdown",
   "id": "ignored-imagination",
   "metadata": {
    "_cell_guid": "e036cd7e-dd90-4c7d-a851-94ef54aae32c",
    "_uuid": "7eb54ca9-7d2f-4d42-8051-940e7296ddec",
    "id": "5IhYH1-LdxO3",
    "papermill": {
     "duration": 0.107446,
     "end_time": "2022-04-01T14:35:57.346555",
     "exception": false,
     "start_time": "2022-04-01T14:35:57.239109",
     "status": "completed"
    },
    "tags": []
   },
   "source": [
    "**2.  CountVectorizer** is used to convert a collection of text documents to a vector of term/token counts and build a vocabulary of known words, but also to encode new documents using that vocabulary. It also enables the pre-processing of text data prior to generating the vector representation. \n",
    "\n",
    "Here, we use **stop_words='english'** with CountVectorizer since this just counts the occurrences of each word in its vocabulary, extremely common words like ‘the’, ‘and’, etc. will become very important features while they add little meaning to the text. This is an important step in pre-processing as our model can often be improved if you don’t take those words into account."
   ]
  },
  {
   "cell_type": "code",
   "execution_count": 20,
   "id": "macro-albuquerque",
   "metadata": {
    "_cell_guid": "330a3c60-b08c-464b-bcc6-54e68d06ff5d",
    "_uuid": "de568878-fa02-40c3-8a6f-53bcc71bb750",
    "collapsed": false,
    "execution": {
     "iopub.execute_input": "2022-04-01T14:35:57.565013Z",
     "iopub.status.busy": "2022-04-01T14:35:57.564363Z",
     "iopub.status.idle": "2022-04-01T14:36:04.104034Z",
     "shell.execute_reply": "2022-04-01T14:36:04.103285Z",
     "shell.execute_reply.started": "2022-03-31T10:50:25.419585Z"
    },
    "id": "fVfBD1qtbrLB",
    "jupyter": {
     "outputs_hidden": false
    },
    "papermill": {
     "duration": 6.649729,
     "end_time": "2022-04-01T14:36:04.104183",
     "exception": false,
     "start_time": "2022-04-01T14:35:57.454454",
     "status": "completed"
    },
    "tags": []
   },
   "outputs": [],
   "source": [
    "# Vectorizing the posts for the model and filtering Stop-words\n",
    "vect = CountVectorizer(stop_words='english') \n",
    "\n",
    "# Converting posts (or training or X feature) into numerical form by count vectorization\n",
    "train =  vect.fit_transform(new_df[\"posts\"])"
   ]
  },
  {
   "cell_type": "code",
   "execution_count": 21,
   "id": "included-bahrain",
   "metadata": {
    "_cell_guid": "86665952-f11f-417c-9924-aadfc12d464d",
    "_uuid": "4ba6c81f-b88e-4c8e-b16f-dc75a870467d",
    "collapsed": false,
    "execution": {
     "iopub.execute_input": "2022-04-01T14:36:04.397173Z",
     "iopub.status.busy": "2022-04-01T14:36:04.394512Z",
     "iopub.status.idle": "2022-04-01T14:36:04.399571Z",
     "shell.execute_reply": "2022-04-01T14:36:04.399029Z",
     "shell.execute_reply.started": "2022-03-31T10:50:32.354982Z"
    },
    "id": "odAs2pbQbrLB",
    "jupyter": {
     "outputs_hidden": false
    },
    "outputId": "e047ce8a-dc2a-40b3-ba29-0c0077601204",
    "papermill": {
     "duration": 0.162859,
     "end_time": "2022-04-01T14:36:04.399725",
     "exception": false,
     "start_time": "2022-04-01T14:36:04.236866",
     "status": "completed"
    },
    "tags": []
   },
   "outputs": [
    {
     "data": {
      "text/plain": [
       "(8466, 98555)"
      ]
     },
     "execution_count": 21,
     "metadata": {},
     "output_type": "execute_result"
    }
   ],
   "source": [
    "train.shape"
   ]
  },
  {
   "cell_type": "markdown",
   "id": "joined-evans",
   "metadata": {
    "_cell_guid": "37fe83d7-ca37-4726-8273-2ad05f1a9bdc",
    "_uuid": "9d4e0bb3-4aa7-476d-afaa-fee9fd996f84",
    "id": "sQ0GYZwfNF5p",
    "papermill": {
     "duration": 0.113167,
     "end_time": "2022-04-01T14:36:04.633081",
     "exception": false,
     "start_time": "2022-04-01T14:36:04.519914",
     "status": "completed"
    },
    "tags": []
   },
   "source": [
    "\n",
    "\n",
    "*   So now there are 98555 features in our dataset for 8466 rows (users)"
   ]
  },
  {
   "cell_type": "markdown",
   "id": "surgical-ceramic",
   "metadata": {
    "_cell_guid": "3560cc32-8aaf-4e4d-965d-07c1405d5717",
    "_uuid": "c9f4df73-bd7b-470c-82ee-d10f05ba5516",
    "id": "ZlAfuOmYT8rF",
    "papermill": {
     "duration": 0.108428,
     "end_time": "2022-04-01T14:36:04.851788",
     "exception": false,
     "start_time": "2022-04-01T14:36:04.743360",
     "status": "completed"
    },
    "tags": []
   },
   "source": [
    "---\n",
    "Now we train the model in multiple ML algorithms namely: Random Forest, XGBoost, Gradient Descent, Support Vector Machine,  in order to choose the classifier which shows the best accuracy results. \n",
    "\n",
    "Additionaly, we split the dataset into testing and training in multiple ratios to find out which gives the best results."
   ]
  },
  {
   "cell_type": "markdown",
   "id": "usual-parish",
   "metadata": {
    "_cell_guid": "7977be6c-f7b7-4382-9490-e627941d2e8e",
    "_uuid": "836b0aec-5e45-4539-91c3-c3a2343d9d9c",
    "id": "HlWzjKR9nuXR",
    "papermill": {
     "duration": 0.111533,
     "end_time": "2022-04-01T14:36:05.072706",
     "exception": false,
     "start_time": "2022-04-01T14:36:04.961173",
     "status": "completed"
    },
    "tags": []
   },
   "source": [
    "# Training & Evaluating : 80-20 split"
   ]
  },
  {
   "cell_type": "code",
   "execution_count": 22,
   "id": "global-egypt",
   "metadata": {
    "_cell_guid": "beda86a2-6fb0-4511-a5b8-e487cc99f994",
    "_uuid": "82b46ba8-6e38-4c60-87c3-03f976c8e041",
    "collapsed": false,
    "execution": {
     "iopub.execute_input": "2022-04-01T14:36:05.301488Z",
     "iopub.status.busy": "2022-04-01T14:36:05.300789Z",
     "iopub.status.idle": "2022-04-01T14:36:05.325613Z",
     "shell.execute_reply": "2022-04-01T14:36:05.324483Z",
     "shell.execute_reply.started": "2022-03-31T10:50:32.36323Z"
    },
    "id": "Hu4nc7K_brLC",
    "jupyter": {
     "outputs_hidden": false
    },
    "outputId": "19d2d842-8cae-4078-eb40-43ab04001e91",
    "papermill": {
     "duration": 0.141757,
     "end_time": "2022-04-01T14:36:05.325826",
     "exception": false,
     "start_time": "2022-04-01T14:36:05.184069",
     "status": "completed"
    },
    "tags": []
   },
   "outputs": [
    {
     "name": "stdout",
     "output_type": "stream",
     "text": [
      "(6772, 98555) (6772,) (1694, 98555) (1694,)\n"
     ]
    }
   ],
   "source": [
    "X_train, X_test, y_train, y_test = train_test_split(train, target, test_size=0.2, stratify=target, random_state=42)\n",
    "print ((X_train.shape),(y_train.shape),(X_test.shape),(y_test.shape))"
   ]
  },
  {
   "cell_type": "markdown",
   "id": "proper-target",
   "metadata": {
    "_cell_guid": "0a0c5bf3-896e-4d4d-b6ce-ab5d521f02f8",
    "_uuid": "88bb0ee4-29d1-4c98-a7f2-6301259f87e6",
    "id": "irRcQv-7u-KP",
    "papermill": {
     "duration": 0.110183,
     "end_time": "2022-04-01T14:36:05.547834",
     "exception": false,
     "start_time": "2022-04-01T14:36:05.437651",
     "status": "completed"
    },
    "tags": []
   },
   "source": [
    "**Note:** Algorithms below can be quite time consuming"
   ]
  },
  {
   "cell_type": "code",
   "execution_count": 23,
   "id": "missing-accreditation",
   "metadata": {
    "_cell_guid": "b325dcfb-d8ae-4cb4-96a7-7fe5933af2da",
    "_uuid": "7efbc7c4-decf-4926-92e1-bc7931ffd92c",
    "collapsed": false,
    "execution": {
     "iopub.execute_input": "2022-04-01T14:36:05.774768Z",
     "iopub.status.busy": "2022-04-01T14:36:05.773419Z",
     "iopub.status.idle": "2022-04-01T14:36:06.934908Z",
     "shell.execute_reply": "2022-04-01T14:36:06.936001Z",
     "shell.execute_reply.started": "2022-03-31T10:50:32.400746Z"
    },
    "id": "MDchbHH7brLF",
    "jupyter": {
     "outputs_hidden": false
    },
    "outputId": "26cf81d1-cde1-4e4d-f948-a6c7b3b3b5c0",
    "papermill": {
     "duration": 1.278067,
     "end_time": "2022-04-01T14:36:06.936322",
     "exception": false,
     "start_time": "2022-04-01T14:36:05.658255",
     "status": "completed"
    },
    "tags": []
   },
   "outputs": [
    {
     "name": "stdout",
     "output_type": "stream",
     "text": [
      "Accuracy: 37.78%\n"
     ]
    }
   ],
   "source": [
    "accuracies = {}\n",
    "\n",
    "#Gradient Descent\n",
    "sgd = SGDClassifier(max_iter=5, tol=None)\n",
    "sgd.fit(X_train, y_train)\n",
    "\n",
    "Y_pred = sgd.predict(X_test)\n",
    "predictions = [round(value) for value in Y_pred]\n",
    "\n",
    "# evaluate predictions\n",
    "accuracy = accuracy_score(y_test, predictions)\n",
    "accuracies['Gradient Descent'] = accuracy* 100.0\n",
    "print(\"Accuracy: %.2f%%\" % (accuracy * 100.0))"
   ]
  },
  {
   "cell_type": "code",
   "execution_count": 24,
   "id": "protecting-search",
   "metadata": {
    "_cell_guid": "ecebc74d-f5bd-4b38-bec6-37f9d739ede9",
    "_uuid": "2bb086f2-58b3-41e4-870a-7fbe1adc888c",
    "collapsed": false,
    "execution": {
     "iopub.execute_input": "2022-04-01T14:36:07.180794Z",
     "iopub.status.busy": "2022-04-01T14:36:07.179936Z",
     "iopub.status.idle": "2022-04-01T14:37:03.139003Z",
     "shell.execute_reply": "2022-04-01T14:37:03.139558Z",
     "shell.execute_reply.started": "2022-03-31T10:50:33.709858Z"
    },
    "id": "jftEP2WTbrLG",
    "jupyter": {
     "outputs_hidden": false
    },
    "outputId": "44169dc2-143f-4bd7-ab23-96d8e10145a4",
    "papermill": {
     "duration": 56.082545,
     "end_time": "2022-04-01T14:37:03.139738",
     "exception": false,
     "start_time": "2022-04-01T14:36:07.057193",
     "status": "completed"
    },
    "tags": []
   },
   "outputs": [
    {
     "name": "stdout",
     "output_type": "stream",
     "text": [
      "Accuracy: 57.73%\n"
     ]
    }
   ],
   "source": [
    "# Logistic Regression\n",
    "logreg = LogisticRegression()\n",
    "logreg.fit(X_train, y_train)\n",
    "\n",
    "Y_pred = logreg.predict(X_test)\n",
    "predictions = [round(value) for value in Y_pred]\n",
    "\n",
    "# evaluate predictions\n",
    "accuracy = accuracy_score(y_test, predictions)\n",
    "accuracies['Logistic Regression'] = accuracy* 100.0\n",
    "print(\"Accuracy: %.2f%%\" % (accuracy * 100.0))"
   ]
  },
  {
   "cell_type": "code",
   "execution_count": 25,
   "id": "compliant-capture",
   "metadata": {
    "execution": {
     "iopub.execute_input": "2022-04-01T14:37:03.368845Z",
     "iopub.status.busy": "2022-04-01T14:37:03.368100Z",
     "iopub.status.idle": "2022-04-01T14:41:00.776753Z",
     "shell.execute_reply": "2022-04-01T14:41:00.777346Z",
     "shell.execute_reply.started": "2022-03-31T10:51:32.672816Z"
    },
    "papermill": {
     "duration": 237.526144,
     "end_time": "2022-04-01T14:41:00.777541",
     "exception": false,
     "start_time": "2022-04-01T14:37:03.251397",
     "status": "completed"
    },
    "tags": []
   },
   "outputs": [
    {
     "name": "stdout",
     "output_type": "stream",
     "text": [
      "Accuracy: 36.48%\n"
     ]
    }
   ],
   "source": [
    "#Support Vector Machine\n",
    "from sklearn.svm import SVC\n",
    "svm = SVC(random_state = 1)\n",
    "svm.fit(X_train, y_train)\n",
    "\n",
    "Y_pred = svm.predict(X_test)\n",
    "\n",
    "predictions = [round(value) for value in Y_pred]\n",
    "# evaluate predictions\n",
    "accuracy = accuracy_score(y_test, predictions)\n",
    "accuracies['SVM'] = accuracy* 100.0\n",
    "print(\"Accuracy: %.2f%%\" % (accuracy * 100.0))"
   ]
  },
  {
   "cell_type": "markdown",
   "id": "planned-portrait",
   "metadata": {
    "_cell_guid": "204ca2d6-ccf5-4a8b-a68f-da228e43f0ec",
    "_uuid": "3a23c92c-11c1-497c-aae5-899d49d6fd65",
    "id": "SVeDA-l4EE8x",
    "papermill": {
     "duration": 0.10983,
     "end_time": "2022-04-01T14:41:00.997216",
     "exception": false,
     "start_time": "2022-04-01T14:41:00.887386",
     "status": "completed"
    },
    "tags": []
   },
   "source": [
    "## Comparing Algorithms"
   ]
  },
  {
   "cell_type": "code",
   "execution_count": 26,
   "id": "loving-color",
   "metadata": {
    "_cell_guid": "3de88af3-f979-459c-8b1b-648d1172310d",
    "_uuid": "1c4d0143-2765-4acd-9869-a297cce6f66b",
    "collapsed": false,
    "execution": {
     "iopub.execute_input": "2022-04-01T14:41:01.221563Z",
     "iopub.status.busy": "2022-04-01T14:41:01.220591Z",
     "iopub.status.idle": "2022-04-01T14:41:01.231354Z",
     "shell.execute_reply": "2022-04-01T14:41:01.231904Z",
     "shell.execute_reply.started": "2022-03-31T10:55:35.263222Z"
    },
    "id": "2g5h2q7KGlrp",
    "jupyter": {
     "outputs_hidden": false
    },
    "outputId": "bffe7e88-c29d-4a61-9473-99c169895c29",
    "papermill": {
     "duration": 0.124612,
     "end_time": "2022-04-01T14:41:01.232068",
     "exception": false,
     "start_time": "2022-04-01T14:41:01.107456",
     "status": "completed"
    },
    "tags": []
   },
   "outputs": [
    {
     "data": {
      "text/html": [
       "<div>\n",
       "<style scoped>\n",
       "    .dataframe tbody tr th:only-of-type {\n",
       "        vertical-align: middle;\n",
       "    }\n",
       "\n",
       "    .dataframe tbody tr th {\n",
       "        vertical-align: top;\n",
       "    }\n",
       "\n",
       "    .dataframe thead th {\n",
       "        text-align: right;\n",
       "    }\n",
       "</style>\n",
       "<table border=\"1\" class=\"dataframe\">\n",
       "  <thead>\n",
       "    <tr style=\"text-align: right;\">\n",
       "      <th></th>\n",
       "      <th>Accuracies(%)</th>\n",
       "    </tr>\n",
       "  </thead>\n",
       "  <tbody>\n",
       "    <tr>\n",
       "      <th>Gradient Descent</th>\n",
       "      <td>37.780401</td>\n",
       "    </tr>\n",
       "    <tr>\n",
       "      <th>Logistic Regression</th>\n",
       "      <td>57.733176</td>\n",
       "    </tr>\n",
       "    <tr>\n",
       "      <th>SVM</th>\n",
       "      <td>36.481700</td>\n",
       "    </tr>\n",
       "  </tbody>\n",
       "</table>\n",
       "</div>"
      ],
      "text/plain": [
       "                     Accuracies(%)\n",
       "Gradient Descent         37.780401\n",
       "Logistic Regression      57.733176\n",
       "SVM                      36.481700"
      ]
     },
     "execution_count": 26,
     "metadata": {},
     "output_type": "execute_result"
    }
   ],
   "source": [
    "pd.DataFrame.from_dict(accuracies, orient='index', columns=['Accuracies(%)'])"
   ]
  },
  {
   "cell_type": "markdown",
   "id": "cheap-seventh",
   "metadata": {
    "_cell_guid": "7778f7af-f387-44b4-a08f-4410c0c22134",
    "_uuid": "18a5177a-739f-4d07-9d2c-2041fcc63b40",
    "id": "M8LL2cn26CNG",
    "papermill": {
     "duration": 0.109748,
     "end_time": "2022-04-01T14:41:01.452613",
     "exception": false,
     "start_time": "2022-04-01T14:41:01.342865",
     "status": "completed"
    },
    "tags": []
   },
   "source": [
    "We can clearly see that this model overfits out dataset when we apply split ratio of 80:20 on our dataset.(almost all the results are near 50%, which is not good)"
   ]
  },
  {
   "cell_type": "markdown",
   "id": "hollow-blind",
   "metadata": {
    "_cell_guid": "4a671bd6-8dff-4d4c-93df-e51a197faf23",
    "_uuid": "23ed4510-bd20-4675-8838-8ca5309c4b38",
    "id": "ZWu1rpTYPNMC",
    "papermill": {
     "duration": 0.109559,
     "end_time": "2022-04-01T14:41:01.672353",
     "exception": false,
     "start_time": "2022-04-01T14:41:01.562794",
     "status": "completed"
    },
    "tags": []
   },
   "source": [
    "# Training & Evaluating : 70-30 split"
   ]
  },
  {
   "cell_type": "code",
   "execution_count": 27,
   "id": "pharmaceutical-kentucky",
   "metadata": {
    "_cell_guid": "f8a18b60-0a9c-4e99-b160-2bc1946f96b7",
    "_uuid": "fe58ba81-6cb1-485b-ae25-c4aeb9c24f78",
    "collapsed": false,
    "execution": {
     "iopub.execute_input": "2022-04-01T14:41:01.895785Z",
     "iopub.status.busy": "2022-04-01T14:41:01.894747Z",
     "iopub.status.idle": "2022-04-01T14:41:01.920030Z",
     "shell.execute_reply": "2022-04-01T14:41:01.920503Z",
     "shell.execute_reply.started": "2022-03-31T10:55:35.275691Z"
    },
    "id": "R-aeJXb6PRFh",
    "jupyter": {
     "outputs_hidden": false
    },
    "outputId": "9f143cf6-4886-463d-a0d0-f6c4755d0d43",
    "papermill": {
     "duration": 0.138724,
     "end_time": "2022-04-01T14:41:01.920722",
     "exception": false,
     "start_time": "2022-04-01T14:41:01.781998",
     "status": "completed"
    },
    "tags": []
   },
   "outputs": [
    {
     "name": "stdout",
     "output_type": "stream",
     "text": [
      "(5672, 98555) (5672,) (2794, 98555) (2794,)\n"
     ]
    }
   ],
   "source": [
    "X_train, X_test, y_train, y_test = train_test_split(train, target, test_size=0.33, stratify=target, random_state=42)\n",
    "print ((X_train.shape),(y_train.shape),(X_test.shape),(y_test.shape))"
   ]
  },
  {
   "cell_type": "code",
   "execution_count": 28,
   "id": "civil-simpson",
   "metadata": {
    "_cell_guid": "d024c40c-ab1b-463c-9233-4bc2156caef4",
    "_uuid": "890892b9-4c40-4c39-ab6f-3e7a58f8ec8a",
    "collapsed": false,
    "execution": {
     "iopub.execute_input": "2022-04-01T14:41:02.147162Z",
     "iopub.status.busy": "2022-04-01T14:41:02.146495Z",
     "iopub.status.idle": "2022-04-01T14:41:03.074868Z",
     "shell.execute_reply": "2022-04-01T14:41:03.076473Z",
     "shell.execute_reply.started": "2022-03-31T10:55:35.309177Z"
    },
    "id": "NbzFjs3xPRgl",
    "jupyter": {
     "outputs_hidden": false
    },
    "outputId": "02233b77-59f3-46a1-be5b-bbfa168acdc5",
    "papermill": {
     "duration": 1.044855,
     "end_time": "2022-04-01T14:41:03.076752",
     "exception": false,
     "start_time": "2022-04-01T14:41:02.031897",
     "status": "completed"
    },
    "tags": []
   },
   "outputs": [
    {
     "name": "stdout",
     "output_type": "stream",
     "text": [
      "Accuracy: 45.74%\n"
     ]
    }
   ],
   "source": [
    "#Gradient Descent\n",
    "sgd = SGDClassifier(max_iter=5, tol=None)\n",
    "sgd.fit(X_train, y_train)\n",
    "\n",
    "Y_pred = sgd.predict(X_test)\n",
    "predictions = [round(value) for value in Y_pred]\n",
    "\n",
    "# evaluate predictions\n",
    "accuracy = accuracy_score(y_test, predictions)\n",
    "accuracies['Gradient Descent'] = accuracy* 100.0\n",
    "print(\"Accuracy: %.2f%%\" % (accuracy * 100.0))"
   ]
  },
  {
   "cell_type": "code",
   "execution_count": 29,
   "id": "regional-artist",
   "metadata": {
    "_cell_guid": "9d1a4a88-082d-439b-9158-2698a9197351",
    "_uuid": "ec1c23d5-f79e-43c4-8937-62307f1adc0a",
    "collapsed": false,
    "execution": {
     "iopub.execute_input": "2022-04-01T14:41:03.329620Z",
     "iopub.status.busy": "2022-04-01T14:41:03.328980Z",
     "iopub.status.idle": "2022-04-01T14:41:56.389926Z",
     "shell.execute_reply": "2022-04-01T14:41:56.390689Z",
     "shell.execute_reply.started": "2022-03-31T10:55:36.257544Z"
    },
    "id": "gi5tmwCjPRy8",
    "jupyter": {
     "outputs_hidden": false
    },
    "outputId": "8891d25a-48d3-4ce7-c155-190880264cc0",
    "papermill": {
     "duration": 53.182921,
     "end_time": "2022-04-01T14:41:56.390920",
     "exception": false,
     "start_time": "2022-04-01T14:41:03.207999",
     "status": "completed"
    },
    "tags": []
   },
   "outputs": [
    {
     "name": "stdout",
     "output_type": "stream",
     "text": [
      "Accuracy: 57.12%\n"
     ]
    }
   ],
   "source": [
    "# Logistic Regression\n",
    "logreg = LogisticRegression()\n",
    "logreg.fit(X_train, y_train)\n",
    "\n",
    "Y_pred = logreg.predict(X_test)\n",
    "predictions = [round(value) for value in Y_pred]\n",
    "\n",
    "# evaluate predictions\n",
    "accuracy = accuracy_score(y_test, predictions)\n",
    "accuracies['Logistic Regression'] = accuracy* 100.0\n",
    "print(\"Accuracy: %.2f%%\" % (accuracy * 100.0))"
   ]
  },
  {
   "cell_type": "code",
   "execution_count": 30,
   "id": "regular-output",
   "metadata": {
    "_cell_guid": "25487003-fffb-4af1-bb28-5ead0cb95789",
    "_uuid": "1995d01d-2e2a-40d2-b1d5-bfabd325926d",
    "collapsed": false,
    "execution": {
     "iopub.execute_input": "2022-04-01T14:41:56.650757Z",
     "iopub.status.busy": "2022-04-01T14:41:56.649664Z",
     "iopub.status.idle": "2022-04-01T14:45:07.478652Z",
     "shell.execute_reply": "2022-04-01T14:45:07.479406Z",
     "shell.execute_reply.started": "2022-03-31T10:56:32.196995Z"
    },
    "id": "xkuLiAkzPgpl",
    "jupyter": {
     "outputs_hidden": false
    },
    "outputId": "59f5d6f4-ea1e-4eda-8593-38f3f0a02a4b",
    "papermill": {
     "duration": 190.963634,
     "end_time": "2022-04-01T14:45:07.479675",
     "exception": false,
     "start_time": "2022-04-01T14:41:56.516041",
     "status": "completed"
    },
    "tags": []
   },
   "outputs": [
    {
     "name": "stdout",
     "output_type": "stream",
     "text": [
      "Accuracy: 35.76%\n"
     ]
    }
   ],
   "source": [
    "#Support Vector Machine\n",
    "from sklearn.svm import SVC\n",
    "svm = SVC(random_state = 1)\n",
    "svm.fit(X_train, y_train)\n",
    "\n",
    "Y_pred = svm.predict(X_test)\n",
    "\n",
    "predictions = [round(value) for value in Y_pred]\n",
    "# evaluate predictions\n",
    "accuracy = accuracy_score(y_test, predictions)\n",
    "accuracies['SVM'] = accuracy* 100.0\n",
    "print(\"Accuracy: %.2f%%\" % (accuracy * 100.0))"
   ]
  },
  {
   "cell_type": "markdown",
   "id": "defensive-mechanism",
   "metadata": {
    "_cell_guid": "9fc6df43-c951-4c45-9b8b-7595badce563",
    "_uuid": "75d04195-d9bc-41eb-800c-b9310b575b7f",
    "id": "yURFHf5uTIty",
    "papermill": {
     "duration": 0.114244,
     "end_time": "2022-04-01T14:45:07.713987",
     "exception": false,
     "start_time": "2022-04-01T14:45:07.599743",
     "status": "completed"
    },
    "tags": []
   },
   "source": [
    "## Comparing Algorithms"
   ]
  },
  {
   "cell_type": "code",
   "execution_count": 31,
   "id": "impressed-differential",
   "metadata": {
    "_cell_guid": "97ba6d9f-3b51-428c-9880-ee37f9f340a5",
    "_uuid": "f3c29d98-6cd6-45f5-8a89-c25c9d469265",
    "collapsed": false,
    "execution": {
     "iopub.execute_input": "2022-04-01T14:45:07.982208Z",
     "iopub.status.busy": "2022-04-01T14:45:07.981322Z",
     "iopub.status.idle": "2022-04-01T14:45:07.984967Z",
     "shell.execute_reply": "2022-04-01T14:45:07.985586Z",
     "shell.execute_reply.started": "2022-03-31T10:59:47.443625Z"
    },
    "id": "sUwW22l8PguT",
    "jupyter": {
     "outputs_hidden": false
    },
    "outputId": "bc5e1adb-c220-430f-e540-342165dd19e2",
    "papermill": {
     "duration": 0.133433,
     "end_time": "2022-04-01T14:45:07.985757",
     "exception": false,
     "start_time": "2022-04-01T14:45:07.852324",
     "status": "completed"
    },
    "tags": []
   },
   "outputs": [
    {
     "data": {
      "text/html": [
       "<div>\n",
       "<style scoped>\n",
       "    .dataframe tbody tr th:only-of-type {\n",
       "        vertical-align: middle;\n",
       "    }\n",
       "\n",
       "    .dataframe tbody tr th {\n",
       "        vertical-align: top;\n",
       "    }\n",
       "\n",
       "    .dataframe thead th {\n",
       "        text-align: right;\n",
       "    }\n",
       "</style>\n",
       "<table border=\"1\" class=\"dataframe\">\n",
       "  <thead>\n",
       "    <tr style=\"text-align: right;\">\n",
       "      <th></th>\n",
       "      <th>Accuracies(%)</th>\n",
       "    </tr>\n",
       "  </thead>\n",
       "  <tbody>\n",
       "    <tr>\n",
       "      <th>Gradient Descent</th>\n",
       "      <td>45.740873</td>\n",
       "    </tr>\n",
       "    <tr>\n",
       "      <th>Logistic Regression</th>\n",
       "      <td>57.122405</td>\n",
       "    </tr>\n",
       "    <tr>\n",
       "      <th>SVM</th>\n",
       "      <td>35.755190</td>\n",
       "    </tr>\n",
       "  </tbody>\n",
       "</table>\n",
       "</div>"
      ],
      "text/plain": [
       "                     Accuracies(%)\n",
       "Gradient Descent         45.740873\n",
       "Logistic Regression      57.122405\n",
       "SVM                      35.755190"
      ]
     },
     "execution_count": 31,
     "metadata": {},
     "output_type": "execute_result"
    }
   ],
   "source": [
    "pd.DataFrame.from_dict(accuracies, orient='index', columns=['Accuracies(%)'])"
   ]
  },
  {
   "cell_type": "markdown",
   "id": "aboriginal-relief",
   "metadata": {
    "_cell_guid": "df9c93c1-2d7f-4215-99d0-ad7f1e260c9c",
    "_uuid": "76ec1899-e4ab-40ea-8bb9-c6f802cac660",
    "id": "N6uVuHxQdg8z",
    "papermill": {
     "duration": 0.112288,
     "end_time": "2022-04-01T14:45:08.222786",
     "exception": false,
     "start_time": "2022-04-01T14:45:08.110498",
     "status": "completed"
    },
    "tags": []
   },
   "source": [
    "# Four Classifiers across MBTI axis"
   ]
  },
  {
   "cell_type": "code",
   "execution_count": 32,
   "id": "incident-vessel",
   "metadata": {
    "_cell_guid": "2cfc1c41-c504-4751-b35c-be8305d77c00",
    "_uuid": "cbd1ae75-3ca9-4850-b13d-924e6731ab96",
    "collapsed": false,
    "execution": {
     "iopub.execute_input": "2022-04-01T14:45:08.455494Z",
     "iopub.status.busy": "2022-04-01T14:45:08.454370Z",
     "iopub.status.idle": "2022-04-01T14:45:09.126649Z",
     "shell.execute_reply": "2022-04-01T14:45:09.126046Z",
     "shell.execute_reply.started": "2022-03-31T10:59:47.463713Z"
    },
    "id": "7qCZmiXozoz9",
    "jupyter": {
     "outputs_hidden": false
    },
    "outputId": "ef428b75-0dfa-4b3c-8b37-c4292bf82f26",
    "papermill": {
     "duration": 0.791064,
     "end_time": "2022-04-01T14:45:09.126794",
     "exception": false,
     "start_time": "2022-04-01T14:45:08.335730",
     "status": "completed"
    },
    "tags": []
   },
   "outputs": [
    {
     "data": {
      "text/html": [
       "<div>\n",
       "<style scoped>\n",
       "    .dataframe tbody tr th:only-of-type {\n",
       "        vertical-align: middle;\n",
       "    }\n",
       "\n",
       "    .dataframe tbody tr th {\n",
       "        vertical-align: top;\n",
       "    }\n",
       "\n",
       "    .dataframe thead th {\n",
       "        text-align: right;\n",
       "    }\n",
       "</style>\n",
       "<table border=\"1\" class=\"dataframe\">\n",
       "  <thead>\n",
       "    <tr style=\"text-align: right;\">\n",
       "      <th></th>\n",
       "      <th>type</th>\n",
       "      <th>posts</th>\n",
       "    </tr>\n",
       "  </thead>\n",
       "  <tbody>\n",
       "    <tr>\n",
       "      <th>0</th>\n",
       "      <td>INFJ</td>\n",
       "      <td>'http://www.youtube.com/watch?v=qsXHcwe3krw|||...</td>\n",
       "    </tr>\n",
       "    <tr>\n",
       "      <th>1</th>\n",
       "      <td>ENTP</td>\n",
       "      <td>'I'm finding the lack of me in these posts ver...</td>\n",
       "    </tr>\n",
       "    <tr>\n",
       "      <th>2</th>\n",
       "      <td>INTP</td>\n",
       "      <td>'Good one  _____   https://www.youtube.com/wat...</td>\n",
       "    </tr>\n",
       "    <tr>\n",
       "      <th>3</th>\n",
       "      <td>INTJ</td>\n",
       "      <td>'Dear INTP,   I enjoyed our conversation the o...</td>\n",
       "    </tr>\n",
       "    <tr>\n",
       "      <th>4</th>\n",
       "      <td>ENTJ</td>\n",
       "      <td>'You're fired.|||That's another silly misconce...</td>\n",
       "    </tr>\n",
       "    <tr>\n",
       "      <th>...</th>\n",
       "      <td>...</td>\n",
       "      <td>...</td>\n",
       "    </tr>\n",
       "    <tr>\n",
       "      <th>8670</th>\n",
       "      <td>ISFP</td>\n",
       "      <td>'https://www.youtube.com/watch?v=t8edHB_h908||...</td>\n",
       "    </tr>\n",
       "    <tr>\n",
       "      <th>8671</th>\n",
       "      <td>ENFP</td>\n",
       "      <td>'So...if this thread already exists someplace ...</td>\n",
       "    </tr>\n",
       "    <tr>\n",
       "      <th>8672</th>\n",
       "      <td>INTP</td>\n",
       "      <td>'So many questions when i do these things.  I ...</td>\n",
       "    </tr>\n",
       "    <tr>\n",
       "      <th>8673</th>\n",
       "      <td>INFP</td>\n",
       "      <td>'I am very conflicted right now when it comes ...</td>\n",
       "    </tr>\n",
       "    <tr>\n",
       "      <th>8674</th>\n",
       "      <td>INFP</td>\n",
       "      <td>'It has been too long since I have been on per...</td>\n",
       "    </tr>\n",
       "  </tbody>\n",
       "</table>\n",
       "<p>8675 rows × 2 columns</p>\n",
       "</div>"
      ],
      "text/plain": [
       "      type                                              posts\n",
       "0     INFJ  'http://www.youtube.com/watch?v=qsXHcwe3krw|||...\n",
       "1     ENTP  'I'm finding the lack of me in these posts ver...\n",
       "2     INTP  'Good one  _____   https://www.youtube.com/wat...\n",
       "3     INTJ  'Dear INTP,   I enjoyed our conversation the o...\n",
       "4     ENTJ  'You're fired.|||That's another silly misconce...\n",
       "...    ...                                                ...\n",
       "8670  ISFP  'https://www.youtube.com/watch?v=t8edHB_h908||...\n",
       "8671  ENFP  'So...if this thread already exists someplace ...\n",
       "8672  INTP  'So many questions when i do these things.  I ...\n",
       "8673  INFP  'I am very conflicted right now when it comes ...\n",
       "8674  INFP  'It has been too long since I have been on per...\n",
       "\n",
       "[8675 rows x 2 columns]"
      ]
     },
     "execution_count": 32,
     "metadata": {},
     "output_type": "execute_result"
    }
   ],
   "source": [
    "data = pd.read_csv(\"../input/mbti-type/mbti_1.csv\")\n",
    "data"
   ]
  },
  {
   "cell_type": "markdown",
   "id": "academic-hormone",
   "metadata": {
    "_cell_guid": "0a952945-23e7-4917-b756-268f91c2279d",
    "_uuid": "9babcfae-26ed-4cad-8965-d1e28368a705",
    "id": "o3CR93Ob6wNX",
    "papermill": {
     "duration": 0.114351,
     "end_time": "2022-04-01T14:45:09.353927",
     "exception": false,
     "start_time": "2022-04-01T14:45:09.239576",
     "status": "completed"
    },
    "tags": []
   },
   "source": [
    "Now we add columns for personality type indicators"
   ]
  },
  {
   "cell_type": "code",
   "execution_count": 33,
   "id": "hispanic-ministry",
   "metadata": {
    "_cell_guid": "9b2ed669-c25f-407b-bead-b9d0a57290c1",
    "_uuid": "2b6e2828-9e6e-424d-8cdc-5d0951bfd3f7",
    "collapsed": false,
    "execution": {
     "iopub.execute_input": "2022-04-01T14:45:09.583329Z",
     "iopub.status.busy": "2022-04-01T14:45:09.582611Z",
     "iopub.status.idle": "2022-04-01T14:45:13.072572Z",
     "shell.execute_reply": "2022-04-01T14:45:13.071938Z",
     "shell.execute_reply.started": "2022-03-31T10:59:48.193833Z"
    },
    "id": "CGLvGfPJ446Z",
    "jupyter": {
     "outputs_hidden": false
    },
    "outputId": "acc96c31-5eba-4d93-f3cb-cfd412066d62",
    "papermill": {
     "duration": 3.605498,
     "end_time": "2022-04-01T14:45:13.072734",
     "exception": false,
     "start_time": "2022-04-01T14:45:09.467236",
     "status": "completed"
    },
    "tags": []
   },
   "outputs": [
    {
     "data": {
      "text/html": [
       "<div>\n",
       "<style scoped>\n",
       "    .dataframe tbody tr th:only-of-type {\n",
       "        vertical-align: middle;\n",
       "    }\n",
       "\n",
       "    .dataframe tbody tr th {\n",
       "        vertical-align: top;\n",
       "    }\n",
       "\n",
       "    .dataframe thead th {\n",
       "        text-align: right;\n",
       "    }\n",
       "</style>\n",
       "<table border=\"1\" class=\"dataframe\">\n",
       "  <thead>\n",
       "    <tr style=\"text-align: right;\">\n",
       "      <th></th>\n",
       "      <th>type</th>\n",
       "      <th>posts</th>\n",
       "      <th>IE</th>\n",
       "      <th>NS</th>\n",
       "      <th>TF</th>\n",
       "      <th>JP</th>\n",
       "    </tr>\n",
       "  </thead>\n",
       "  <tbody>\n",
       "    <tr>\n",
       "      <th>0</th>\n",
       "      <td>INFJ</td>\n",
       "      <td>'http://www.youtube.com/watch?v=qsXHcwe3krw|||...</td>\n",
       "      <td>1</td>\n",
       "      <td>1</td>\n",
       "      <td>0</td>\n",
       "      <td>1</td>\n",
       "    </tr>\n",
       "    <tr>\n",
       "      <th>1</th>\n",
       "      <td>ENTP</td>\n",
       "      <td>'I'm finding the lack of me in these posts ver...</td>\n",
       "      <td>0</td>\n",
       "      <td>1</td>\n",
       "      <td>1</td>\n",
       "      <td>0</td>\n",
       "    </tr>\n",
       "    <tr>\n",
       "      <th>2</th>\n",
       "      <td>INTP</td>\n",
       "      <td>'Good one  _____   https://www.youtube.com/wat...</td>\n",
       "      <td>1</td>\n",
       "      <td>1</td>\n",
       "      <td>1</td>\n",
       "      <td>0</td>\n",
       "    </tr>\n",
       "    <tr>\n",
       "      <th>3</th>\n",
       "      <td>INTJ</td>\n",
       "      <td>'Dear INTP,   I enjoyed our conversation the o...</td>\n",
       "      <td>1</td>\n",
       "      <td>1</td>\n",
       "      <td>1</td>\n",
       "      <td>1</td>\n",
       "    </tr>\n",
       "    <tr>\n",
       "      <th>4</th>\n",
       "      <td>ENTJ</td>\n",
       "      <td>'You're fired.|||That's another silly misconce...</td>\n",
       "      <td>0</td>\n",
       "      <td>1</td>\n",
       "      <td>1</td>\n",
       "      <td>1</td>\n",
       "    </tr>\n",
       "  </tbody>\n",
       "</table>\n",
       "</div>"
      ],
      "text/plain": [
       "   type                                              posts  IE  NS  TF  JP\n",
       "0  INFJ  'http://www.youtube.com/watch?v=qsXHcwe3krw|||...   1   1   0   1\n",
       "1  ENTP  'I'm finding the lack of me in these posts ver...   0   1   1   0\n",
       "2  INTP  'Good one  _____   https://www.youtube.com/wat...   1   1   1   0\n",
       "3  INTJ  'Dear INTP,   I enjoyed our conversation the o...   1   1   1   1\n",
       "4  ENTJ  'You're fired.|||That's another silly misconce...   0   1   1   1"
      ]
     },
     "execution_count": 33,
     "metadata": {},
     "output_type": "execute_result"
    }
   ],
   "source": [
    "def get_types(row):\n",
    "    t=row['type']\n",
    "\n",
    "    I = 0; N = 0\n",
    "    T = 0; J = 0\n",
    "    \n",
    "    if t[0] == 'I': I = 1\n",
    "    elif t[0] == 'E': I = 0\n",
    "    else: print('I-E not found') \n",
    "        \n",
    "    if t[1] == 'N': N = 1\n",
    "    elif t[1] == 'S': N = 0\n",
    "    else: print('N-S not found')\n",
    "        \n",
    "    if t[2] == 'T': T = 1\n",
    "    elif t[2] == 'F': T = 0\n",
    "    else: print('T-F not found')\n",
    "        \n",
    "    if t[3] == 'J': J = 1\n",
    "    elif t[3] == 'P': J = 0\n",
    "    else: print('J-P not found')\n",
    "    return pd.Series( {'IE':I, 'NS':N , 'TF': T, 'JP': J }) \n",
    "\n",
    "data = data.join(data.apply (lambda row: get_types (row),axis=1))\n",
    "data.head(5)"
   ]
  },
  {
   "cell_type": "markdown",
   "id": "faced-austin",
   "metadata": {
    "_cell_guid": "d3ff1145-25ce-46f5-a550-026460fd73fa",
    "_uuid": "34f9de84-7aff-464f-a7dd-de747ac8a84d",
    "id": "dGOhp6D_YYcY",
    "papermill": {
     "duration": 0.113666,
     "end_time": "2022-04-01T14:45:13.301805",
     "exception": false,
     "start_time": "2022-04-01T14:45:13.188139",
     "status": "completed"
    },
    "tags": []
   },
   "source": [
    "*   Using the above code, if a person has I, N, T and J, the value across the 4 axis of MBTI i.e. IE, NS, TF and JP respectively, will be 1. Else 0. \n",
    "\n",
    "This will help us calculate for e.g. how many Introvert posts are present v/s how many Extrovert posts are presnt, out of all the given entries in our labelled Kaggle dataset. This is done in order to extplore the dataset for all the individual Personality Indices of MBTI"
   ]
  },
  {
   "cell_type": "markdown",
   "id": "atlantic-width",
   "metadata": {
    "_cell_guid": "ce4a9696-2fbc-4833-a832-e230891cc6d9",
    "_uuid": "d8ebcf60-d351-4ea7-a74e-c33c10e0615a",
    "id": "w_3d-CLAEP-o",
    "papermill": {
     "duration": 0.113716,
     "end_time": "2022-04-01T14:45:13.528511",
     "exception": false,
     "start_time": "2022-04-01T14:45:13.414795",
     "status": "completed"
    },
    "tags": []
   },
   "source": [
    "**Counting** No. of posts in one class / Total no. of posts in the other class"
   ]
  },
  {
   "cell_type": "code",
   "execution_count": 34,
   "id": "reserved-following",
   "metadata": {
    "_cell_guid": "3a1970f8-01a8-4555-954d-72abd9c861c6",
    "_uuid": "04b81a5d-b546-41d0-83c1-12606f3997c5",
    "collapsed": false,
    "execution": {
     "iopub.execute_input": "2022-04-01T14:45:13.761422Z",
     "iopub.status.busy": "2022-04-01T14:45:13.760767Z",
     "iopub.status.idle": "2022-04-01T14:45:13.773953Z",
     "shell.execute_reply": "2022-04-01T14:45:13.773250Z",
     "shell.execute_reply.started": "2022-03-31T10:59:51.857936Z"
    },
    "id": "n8dwN_8l5Aw7",
    "jupyter": {
     "outputs_hidden": false
    },
    "outputId": "f765b8d7-9892-4609-a113-b8237e903850",
    "papermill": {
     "duration": 0.132807,
     "end_time": "2022-04-01T14:45:13.774101",
     "exception": false,
     "start_time": "2022-04-01T14:45:13.641294",
     "status": "completed"
    },
    "tags": []
   },
   "outputs": [
    {
     "name": "stdout",
     "output_type": "stream",
     "text": [
      "Introversion (I) /  Extroversion (E):\t 1999  /  6676\n",
      "Intuition (N) / Sensing (S):\t\t 1197  /  7478\n",
      "Thinking (T) / Feeling (F):\t\t 4694  /  3981\n",
      "Judging (J) / Perceiving (P):\t\t 5241  /  3434\n"
     ]
    }
   ],
   "source": [
    "print (\"Introversion (I) /  Extroversion (E):\\t\", data['IE'].value_counts()[0], \" / \", data['IE'].value_counts()[1])\n",
    "print (\"Intuition (N) / Sensing (S):\\t\\t\", data['NS'].value_counts()[0], \" / \", data['NS'].value_counts()[1])\n",
    "print (\"Thinking (T) / Feeling (F):\\t\\t\", data['TF'].value_counts()[0], \" / \", data['TF'].value_counts()[1])\n",
    "print (\"Judging (J) / Perceiving (P):\\t\\t\", data['JP'].value_counts()[0], \" / \", data['JP'].value_counts()[1])"
   ]
  },
  {
   "cell_type": "markdown",
   "id": "skilled-indie",
   "metadata": {
    "_cell_guid": "b22d731d-f05e-452a-8e7a-97c4fc385ad9",
    "_uuid": "ab561830-bd75-4001-96a9-cff86d51fd43",
    "id": "P0boajLu4L8e",
    "papermill": {
     "duration": 0.113029,
     "end_time": "2022-04-01T14:45:14.000045",
     "exception": false,
     "start_time": "2022-04-01T14:45:13.887016",
     "status": "completed"
    },
    "tags": []
   },
   "source": [
    "- We infer that there is **unequal distribution** even among each of the 4 axis in the entries of out dataset. i.e. out of IE:E is the majority, in NS:S is the majority. While TF and JP have realtively less differnce between them."
   ]
  },
  {
   "cell_type": "code",
   "execution_count": 35,
   "id": "perceived-maker",
   "metadata": {
    "_cell_guid": "8e58c2eb-5365-4a8b-b5da-8afd323711a6",
    "_uuid": "8c2026c8-5e07-4604-a12f-917de28d17b5",
    "collapsed": false,
    "execution": {
     "iopub.execute_input": "2022-04-01T14:45:14.237644Z",
     "iopub.status.busy": "2022-04-01T14:45:14.236906Z",
     "iopub.status.idle": "2022-04-01T14:45:14.393353Z",
     "shell.execute_reply": "2022-04-01T14:45:14.392713Z",
     "shell.execute_reply.started": "2022-03-31T10:59:51.881986Z"
    },
    "id": "c7uvsPnQ6beY",
    "jupyter": {
     "outputs_hidden": false
    },
    "outputId": "2da74c30-f7bc-45db-e094-0df1e8ab5e60",
    "papermill": {
     "duration": 0.278391,
     "end_time": "2022-04-01T14:45:14.393496",
     "exception": false,
     "start_time": "2022-04-01T14:45:14.115105",
     "status": "completed"
    },
    "tags": []
   },
   "outputs": [
    {
     "data": {
      "image/png": "[encoded data removed]",
      "text/plain": [
       "<Figure size 432x288 with 1 Axes>"
      ]
     },
     "metadata": {
      "needs_background": "light"
     },
     "output_type": "display_data"
    }
   ],
   "source": [
    "#Plotting the distribution of each personality type indicator\n",
    "N = 4\n",
    "bottom = (data['IE'].value_counts()[0], data['NS'].value_counts()[0], data['TF'].value_counts()[0], data['JP'].value_counts()[0])\n",
    "top = (data['IE'].value_counts()[1], data['NS'].value_counts()[1], data['TF'].value_counts()[1], data['JP'].value_counts()[1])\n",
    "\n",
    "ind = np.arange(N)    # the x locations for the groups\n",
    "# the width of the bars\n",
    "width = 0.7           # or len(x) can also be used here\n",
    "\n",
    "p1 = plt.bar(ind, bottom, width, label=\"I, N, T, F\")\n",
    "p2 = plt.bar(ind, top, width, bottom=bottom, label=\"E, S, F, P\") \n",
    "\n",
    "plt.title('Distribution accoss types indicators')\n",
    "plt.ylabel('Count')\n",
    "plt.xticks(ind, ('I / E',  'N / S', 'T / F', 'J / P',))\n",
    "plt.legend()\n",
    "\n",
    "plt.show()"
   ]
  },
  {
   "cell_type": "markdown",
   "id": "excellent-baptist",
   "metadata": {
    "_cell_guid": "29f762cd-a7bc-4364-b67b-2cff2dc374f3",
    "_uuid": "d520577a-4508-4cde-8e5f-172219032f73",
    "id": "iXCeBrVF29rX",
    "papermill": {
     "duration": 0.113326,
     "end_time": "2022-04-01T14:45:14.621579",
     "exception": false,
     "start_time": "2022-04-01T14:45:14.508253",
     "status": "completed"
    },
    "tags": []
   },
   "source": [
    "*Fun Fact : The above results match with real life findings by researchers across various personality and psycological studies like*\n",
    "\n",
    "\n",
    "\n",
    "\n",
    "\n",
    "\n",
    "We can compare this with the fact that **Introverts** are a minority, making up roughly 16 percent of people [[1]](https://celesteheadlee.medium.com/congratulations-youre-probably-not-an-introvert-8bcfcc918a18#:~:text=Even%20among%20introverts%2C%20though%2C%20there,innate%20needs%20for%20Homo%20sapiens.). Eventhough among introverts, there are varying degrees, and Carl Jung said, “There is no such thing as a pure **Extrovert** or a pure introvert\" Hence it is tricky to classify a person with 1 type. \n",
    "\n",
    "While the population is split roughly 50/50 on the other dimensions, a full 70% of people show a preference for **Sensing** over **Intuition** when taking a personality test. Because Intuitives are the minority, the onus is on them to adjust to the Sensor way of thinking.\n",
    "\n",
    "The differences between **Judging** and **Perceiving** are probably the most marked differences of all the four preferences. People with strong Judging preferences might have a hard time accepting people with strong Perceiving preferences, and vice-versa. On the other hand, a \"mixed\" couple (one Perceiving and one Judging) can complement each other very well, if they have developed themselves enough to be able to accept each other's differences."
   ]
  },
  {
   "cell_type": "markdown",
   "id": "british-voluntary",
   "metadata": {
    "_cell_guid": "619018b6-3c23-45ea-a442-68be8cf7f0b2",
    "_uuid": "08eb6610-44fd-4be7-a5b9-64883452f7b9",
    "id": "uL0ie9vmF0oC",
    "papermill": {
     "duration": 0.113013,
     "end_time": "2022-04-01T14:45:14.847901",
     "exception": false,
     "start_time": "2022-04-01T14:45:14.734888",
     "status": "completed"
    },
    "tags": []
   },
   "source": [
    "**Features Correlation Analysis**"
   ]
  },
  {
   "cell_type": "code",
   "execution_count": 36,
   "id": "patient-coast",
   "metadata": {
    "_cell_guid": "2a02dc39-1c1f-462f-a435-625646337eee",
    "_uuid": "274b9996-d07b-465f-ab66-d89d4dfdb77f",
    "collapsed": false,
    "execution": {
     "iopub.execute_input": "2022-04-01T14:45:15.085099Z",
     "iopub.status.busy": "2022-04-01T14:45:15.082820Z",
     "iopub.status.idle": "2022-04-01T14:45:15.095156Z",
     "shell.execute_reply": "2022-04-01T14:45:15.095758Z",
     "shell.execute_reply.started": "2022-03-31T10:59:52.063375Z"
    },
    "id": "5ElGcbm_6gCW",
    "jupyter": {
     "outputs_hidden": false
    },
    "outputId": "5d1bf4ee-9cd9-4bfa-f533-9dcebce4a94e",
    "papermill": {
     "duration": 0.133729,
     "end_time": "2022-04-01T14:45:15.095930",
     "exception": false,
     "start_time": "2022-04-01T14:45:14.962201",
     "status": "completed"
    },
    "tags": []
   },
   "outputs": [
    {
     "data": {
      "text/html": [
       "<div>\n",
       "<style scoped>\n",
       "    .dataframe tbody tr th:only-of-type {\n",
       "        vertical-align: middle;\n",
       "    }\n",
       "\n",
       "    .dataframe tbody tr th {\n",
       "        vertical-align: top;\n",
       "    }\n",
       "\n",
       "    .dataframe thead th {\n",
       "        text-align: right;\n",
       "    }\n",
       "</style>\n",
       "<table border=\"1\" class=\"dataframe\">\n",
       "  <thead>\n",
       "    <tr style=\"text-align: right;\">\n",
       "      <th></th>\n",
       "      <th>IE</th>\n",
       "      <th>NS</th>\n",
       "      <th>TF</th>\n",
       "      <th>JP</th>\n",
       "    </tr>\n",
       "  </thead>\n",
       "  <tbody>\n",
       "    <tr>\n",
       "      <th>IE</th>\n",
       "      <td>1.000000</td>\n",
       "      <td>-0.045899</td>\n",
       "      <td>-0.069573</td>\n",
       "      <td>0.161939</td>\n",
       "    </tr>\n",
       "    <tr>\n",
       "      <th>NS</th>\n",
       "      <td>-0.045899</td>\n",
       "      <td>1.000000</td>\n",
       "      <td>-0.080954</td>\n",
       "      <td>0.014922</td>\n",
       "    </tr>\n",
       "    <tr>\n",
       "      <th>TF</th>\n",
       "      <td>-0.069573</td>\n",
       "      <td>-0.080954</td>\n",
       "      <td>1.000000</td>\n",
       "      <td>-0.004673</td>\n",
       "    </tr>\n",
       "    <tr>\n",
       "      <th>JP</th>\n",
       "      <td>0.161939</td>\n",
       "      <td>0.014922</td>\n",
       "      <td>-0.004673</td>\n",
       "      <td>1.000000</td>\n",
       "    </tr>\n",
       "  </tbody>\n",
       "</table>\n",
       "</div>"
      ],
      "text/plain": [
       "          IE        NS        TF        JP\n",
       "IE  1.000000 -0.045899 -0.069573  0.161939\n",
       "NS -0.045899  1.000000 -0.080954  0.014922\n",
       "TF -0.069573 -0.080954  1.000000 -0.004673\n",
       "JP  0.161939  0.014922 -0.004673  1.000000"
      ]
     },
     "execution_count": 36,
     "metadata": {},
     "output_type": "execute_result"
    }
   ],
   "source": [
    "data[['IE','NS','TF','JP']].corr()"
   ]
  },
  {
   "cell_type": "markdown",
   "id": "thousand-zealand",
   "metadata": {
    "_cell_guid": "cb5a6f21-9398-42f0-b9d7-ff94928bce08",
    "_uuid": "593e5560-dc60-4af2-8638-311652056aaa",
    "id": "OJiZGkIj6jYP",
    "papermill": {
     "duration": 0.1158,
     "end_time": "2022-04-01T14:45:15.327072",
     "exception": false,
     "start_time": "2022-04-01T14:45:15.211272",
     "status": "completed"
    },
    "tags": []
   },
   "source": [
    "- It is unclear if the matrix shows anything valuable for interpretation"
   ]
  },
  {
   "cell_type": "markdown",
   "id": "spoken-contract",
   "metadata": {
    "_cell_guid": "9b82f4c6-5484-43eb-b6be-5f4c1c9f1bff",
    "_uuid": "b8215e33-cdf8-4831-a575-ee4a6896c578",
    "id": "bAGb5tVleDMi",
    "papermill": {
     "duration": 0.116423,
     "end_time": "2022-04-01T14:45:15.557971",
     "exception": false,
     "start_time": "2022-04-01T14:45:15.441548",
     "status": "completed"
    },
    "tags": []
   },
   "source": [
    "An assumption made in our model is that each letter type is independent of other types i.e. A person’s introversion/extroversion is not related to their judgement/perception. Nevertheless, we want to still test them below using a heat map"
   ]
  },
  {
   "cell_type": "code",
   "execution_count": 37,
   "id": "alternate-faith",
   "metadata": {
    "_cell_guid": "a52450ae-7581-4d87-a62c-54ebef02d86c",
    "_uuid": "9563d2b4-7995-4d68-80f4-583414852138",
    "collapsed": false,
    "execution": {
     "iopub.execute_input": "2022-04-01T14:45:15.789959Z",
     "iopub.status.busy": "2022-04-01T14:45:15.789279Z",
     "iopub.status.idle": "2022-04-01T14:45:16.053985Z",
     "shell.execute_reply": "2022-04-01T14:45:16.054442Z",
     "shell.execute_reply.started": "2022-03-31T10:59:52.085518Z"
    },
    "id": "c2gElh5f6lwn",
    "jupyter": {
     "outputs_hidden": false
    },
    "outputId": "8577051a-991c-416f-b1c9-6f11c143b521",
    "papermill": {
     "duration": 0.382236,
     "end_time": "2022-04-01T14:45:16.054648",
     "exception": false,
     "start_time": "2022-04-01T14:45:15.672412",
     "status": "completed"
    },
    "tags": []
   },
   "outputs": [
    {
     "data": {
      "text/plain": [
       "<AxesSubplot:title={'center':'Features Correlation Heatmap'}>"
      ]
     },
     "execution_count": 37,
     "metadata": {},
     "output_type": "execute_result"
    },
    {
     "data": {
      "image/png": "[encoded data removed]",
      "text/plain": [
       "<Figure size 864x720 with 2 Axes>"
      ]
     },
     "metadata": {
      "needs_background": "light"
     },
     "output_type": "display_data"
    }
   ],
   "source": [
    "cmap = plt.cm.RdBu\n",
    "corr = data[['IE','NS','TF','JP']].corr()\n",
    "plt.figure(figsize=(12,10))\n",
    "plt.title('Features Correlation Heatmap', size=15)\n",
    "sns.heatmap(corr, cmap=cmap,  annot=True, linewidths=1)"
   ]
  },
  {
   "cell_type": "markdown",
   "id": "criminal-groove",
   "metadata": {
    "_cell_guid": "1d9e79d4-8821-4348-bcf7-f1523e01dd17",
    "_uuid": "54d4603f-a3b0-4712-9fb1-66327a71093a",
    "id": "YLVe63vF7mje",
    "papermill": {
     "duration": 0.128691,
     "end_time": "2022-04-01T14:45:16.317425",
     "exception": false,
     "start_time": "2022-04-01T14:45:16.188734",
     "status": "completed"
    },
    "tags": []
   },
   "source": [
    "From this heatmap also, it is unclear if it shows anything valuable for interpretation"
   ]
  },
  {
   "cell_type": "markdown",
   "id": "compound-stick",
   "metadata": {
    "_cell_guid": "ade2ce0f-407f-4b71-bf00-3e35f8ddd84c",
    "_uuid": "2178f621-1919-4310-844f-f1f45f6be384",
    "id": "6k9yht5465FG",
    "papermill": {
     "duration": 0.11638,
     "end_time": "2022-04-01T14:45:16.549216",
     "exception": false,
     "start_time": "2022-04-01T14:45:16.432836",
     "status": "completed"
    },
    "tags": []
   },
   "source": [
    "## Pre-Processing Stage"
   ]
  },
  {
   "cell_type": "markdown",
   "id": "moderate-wholesale",
   "metadata": {
    "_cell_guid": "f342ccaa-84f1-4f6d-82d2-3bfb3ded5fda",
    "_uuid": "f8c1b3f5-1012-431e-a636-0235f5562543",
    "id": "wXUtR8vLedrC",
    "papermill": {
     "duration": 0.115253,
     "end_time": "2022-04-01T14:45:16.779489",
     "exception": false,
     "start_time": "2022-04-01T14:45:16.664236",
     "status": "completed"
    },
    "tags": []
   },
   "source": [
    "We preprocess the posts by using Lemmitization technique. **Lemmatization** is the process of grouping together the different inflected forms of a word so they can be analysed as a single item. Lemmatization is similar to stemming but it brings context to the words, hence we use this instead in our model. So it links words with similar meaning to one word."
   ]
  },
  {
   "cell_type": "code",
   "execution_count": 38,
   "id": "frequent-macintosh",
   "metadata": {
    "_cell_guid": "e8dade4b-7f54-4f6c-9a5c-46fb87b2ea03",
    "_uuid": "0490567a-b31b-426b-8a27-3de7fa06ceb4",
    "collapsed": false,
    "execution": {
     "iopub.execute_input": "2022-04-01T14:45:17.016149Z",
     "iopub.status.busy": "2022-04-01T14:45:17.015487Z",
     "iopub.status.idle": "2022-04-01T14:45:17.021332Z",
     "shell.execute_reply": "2022-04-01T14:45:17.021913Z",
     "shell.execute_reply.started": "2022-03-31T10:59:52.374263Z"
    },
    "id": "TMEG_uSD6yDw",
    "jupyter": {
     "outputs_hidden": false
    },
    "papermill": {
     "duration": 0.125595,
     "end_time": "2022-04-01T14:45:17.022091",
     "exception": false,
     "start_time": "2022-04-01T14:45:16.896496",
     "status": "completed"
    },
    "tags": []
   },
   "outputs": [],
   "source": [
    "lemmatiser = WordNetLemmatizer()\n",
    "\n",
    "# Remove the stop words for speed \n",
    "useless_words = stopwords.words(\"english\")\n",
    "\n",
    "# Remove these from the posts\n",
    "unique_type_list = ['INFJ', 'ENTP', 'INTP', 'INTJ', 'ENTJ', 'ENFJ', 'INFP', 'ENFP',\n",
    "       'ISFP', 'ISTP', 'ISFJ', 'ISTJ', 'ESTP', 'ESFP', 'ESTJ', 'ESFJ']\n",
    "unique_type_list = [x.lower() for x in unique_type_list]\n",
    "\n",
    "# Or we can use Label Encoding (as above) of this unique personality type indicator list\n",
    "# from sklearn.preprocessing import LabelEncoder\n",
    "# unique_type_list = ['INFJ', 'ENTP', 'INTP', 'INTJ', 'ENTJ', 'ENFJ', 'INFP', 'ENFP',\n",
    "#        'ISFP', 'ISTP', 'ISFJ', 'ISTJ', 'ESTP', 'ESFP', 'ESTJ', 'ESFJ']\n",
    "# lab_encoder = LabelEncoder().fit(unique_type_list)"
   ]
  },
  {
   "cell_type": "markdown",
   "id": "parallel-vermont",
   "metadata": {
    "_cell_guid": "d7020912-6b85-44e3-acd7-dd07b57b11d1",
    "_uuid": "f260432b-134d-48f7-b42f-501fc9444cd4",
    "id": "J9bKc_Ermp2P",
    "papermill": {
     "duration": 0.116995,
     "end_time": "2022-04-01T14:45:17.257105",
     "exception": false,
     "start_time": "2022-04-01T14:45:17.140110",
     "status": "completed"
    },
    "tags": []
   },
   "source": [
    "Binarizing the each personality type feature"
   ]
  },
  {
   "cell_type": "code",
   "execution_count": 39,
   "id": "graphic-audio",
   "metadata": {
    "_cell_guid": "99cc223e-325e-4963-9549-7c598840709f",
    "_uuid": "6a739a40-123d-48f3-adf1-ba78988a1a17",
    "collapsed": false,
    "execution": {
     "iopub.execute_input": "2022-04-01T14:45:17.493728Z",
     "iopub.status.busy": "2022-04-01T14:45:17.493065Z",
     "iopub.status.idle": "2022-04-01T14:45:17.530071Z",
     "shell.execute_reply": "2022-04-01T14:45:17.530775Z",
     "shell.execute_reply.started": "2022-03-31T10:59:52.383879Z"
    },
    "id": "HY-kRwtsLyiZ",
    "jupyter": {
     "outputs_hidden": false
    },
    "outputId": "24d046f5-7d39-4f2b-8550-d7f92e04e602",
    "papermill": {
     "duration": 0.15675,
     "end_time": "2022-04-01T14:45:17.531016",
     "exception": false,
     "start_time": "2022-04-01T14:45:17.374266",
     "status": "completed"
    },
    "tags": []
   },
   "outputs": [
    {
     "name": "stdout",
     "output_type": "stream",
     "text": [
      "Binarize MBTI list: \n",
      "[[0 0 0 0]\n",
      " [1 0 1 1]\n",
      " [0 0 1 1]\n",
      " ...\n",
      " [0 0 1 1]\n",
      " [0 0 0 1]\n",
      " [0 0 0 1]]\n"
     ]
    }
   ],
   "source": [
    "# Splitting the MBTI personality into 4 letters and binarizing it\n",
    "\n",
    "b_Pers = {'I':0, 'E':1, 'N':0, 'S':1, 'F':0, 'T':1, 'J':0, 'P':1}\n",
    "b_Pers_list = [{0:'I', 1:'E'}, {0:'N', 1:'S'}, {0:'F', 1:'T'}, {0:'J', 1:'P'}]\n",
    "\n",
    "def translate_personality(personality):\n",
    "    # transform mbti to binary vector\n",
    "    return [b_Pers[l] for l in personality]\n",
    "\n",
    "#To show result output for personality prediction\n",
    "def translate_back(personality):\n",
    "    # transform binary vector to mbti personality\n",
    "    s = \"\"\n",
    "    for i, l in enumerate(personality):\n",
    "        s += b_Pers_list[i][l]\n",
    "    return s\n",
    "\n",
    "list_personality_bin = np.array([translate_personality(p) for p in data.type])\n",
    "print(\"Binarize MBTI list: \\n%s\" % list_personality_bin)"
   ]
  },
  {
   "cell_type": "markdown",
   "id": "headed-coral",
   "metadata": {
    "_cell_guid": "3f998535-cace-4de5-b8fa-3699e3828436",
    "_uuid": "3f1375d7-c664-4fe9-b183-3cf84add9924",
    "id": "zYPI1jnWHrmG",
    "papermill": {
     "duration": 0.117019,
     "end_time": "2022-04-01T14:45:17.764722",
     "exception": false,
     "start_time": "2022-04-01T14:45:17.647703",
     "status": "completed"
    },
    "tags": []
   },
   "source": [
    "Cleaning of data in the posts"
   ]
  },
  {
   "cell_type": "code",
   "execution_count": 40,
   "id": "persistent-poland",
   "metadata": {
    "_cell_guid": "8a711e0b-2019-4ed2-93dd-c057ffd3e43a",
    "_uuid": "d2669874-1b34-4da1-9a43-5c44378ec9ed",
    "collapsed": false,
    "execution": {
     "iopub.execute_input": "2022-04-01T14:45:18.007671Z",
     "iopub.status.busy": "2022-04-01T14:45:18.006922Z",
     "iopub.status.idle": "2022-04-01T14:46:15.237466Z",
     "shell.execute_reply": "2022-04-01T14:46:15.238031Z",
     "shell.execute_reply.started": "2022-03-31T10:59:52.439101Z"
    },
    "id": "f7uRW1FF7mRp",
    "jupyter": {
     "outputs_hidden": false
    },
    "outputId": "6730f3e0-c1d0-42c3-ab12-cce3aa75d70d",
    "papermill": {
     "duration": 57.356717,
     "end_time": "2022-04-01T14:46:15.238219",
     "exception": false,
     "start_time": "2022-04-01T14:45:17.881502",
     "status": "completed"
    },
    "tags": []
   },
   "outputs": [
    {
     "name": "stdout",
     "output_type": "stream",
     "text": [
      "Example :\n",
      "\n",
      "Post before preprocessing:\n",
      "\n",
      " 'http://www.youtube.com/watch?v=qsXHcwe3krw|||http://41.media.tumblr.com/tumblr_lfouy03PMA1qa1rooo1_500.jpg|||enfp and intj moments  https://www.youtube.com/watch?v=iz7lE1g4XM4  sportscenter not top ten plays  https://www.youtube.com/watch?v=uCdfze1etec  pranks|||What has been the most life-changing experience in your life?|||http://www.youtube.com/watch?v=vXZeYwwRDw8   http://www.youtube.com/watch?v=u8ejam5DP3E  On repeat for most of today.|||May the PerC Experience immerse you.|||The last thing my INFJ friend posted on his facebook before committing suicide the next day. Rest in peace~   http://vimeo.com/22842206|||Hello ENFJ7. Sorry to hear of your distress. It's only natural for a relationship to not be perfection all the time in every moment of existence. Try to figure the hard times as times of growth, as...|||84389  84390  http://wallpaperpassion.com/upload/23700/friendship-boy-and-girl-wallpaper.jpg  http://assets.dornob.com/wp-content/uploads/2010/04/round-home-design.jpg ...|||Welcome and stuff.|||http://playeressence.com/wp-content/uploads/2013/08/RED-red-the-pokemon-master-32560474-450-338.jpg  Game. Set. Match.|||Prozac, wellbrutin, at least thirty minutes of moving your legs (and I don't mean moving them while sitting in your same desk chair), weed in moderation (maybe try edibles as a healthier alternative...|||Basically come up with three items you've determined that each type (or whichever types you want to do) would more than likely use, given each types' cognitive functions and whatnot, when left by...|||All things in moderation.  Sims is indeed a video game, and a good one at that. Note: a good one at that is somewhat subjective in that I am not completely promoting the death of any given Sim...|||Dear ENFP:  What were your favorite video games growing up and what are your now, current favorite video games? :cool:|||https://www.youtube.com/watch?v=QyPqT8umzmY|||It appears to be too late. :sad:|||There's someone out there for everyone.|||Wait... I thought confidence was a good thing.|||I just cherish the time of solitude b/c i revel within my inner world more whereas most other time i'd be workin... just enjoy the me time while you can. Don't worry, people will always be around to...|||Yo entp ladies... if you're into a complimentary personality,well, hey.|||... when your main social outlet is xbox live conversations and even then you verbally fatigue quickly.|||http://www.youtube.com/watch?v=gDhy7rdfm14  I really dig the part from 1:46 to 2:50|||http://www.youtube.com/watch?v=msqXffgh7b8|||Banned because this thread requires it of me.|||Get high in backyard, roast and eat marshmellows in backyard while conversing over something intellectual, followed by massages and kisses.|||http://www.youtube.com/watch?v=Mw7eoU3BMbE|||http://www.youtube.com/watch?v=4V2uYORhQOk|||http://www.youtube.com/watch?v=SlVmgFQQ0TI|||Banned for too many b's in that sentence. How could you! Think of the B!|||Banned for watching movies in the corner with the dunces.|||Banned because Health class clearly taught you nothing about peer pressure.|||Banned for a whole host of reasons!|||http://www.youtube.com/watch?v=IRcrv41hgz4|||1) Two baby deer on left and right munching on a beetle in the middle.  2) Using their own blood, two cavemen diary today's latest happenings on their designated cave diary wall.  3) I see it as...|||a pokemon world  an infj society  everyone becomes an optimist|||49142|||http://www.youtube.com/watch?v=ZRCEq_JFeFM|||http://discovermagazine.com/2012/jul-aug/20-things-you-didnt-know-about-deserts/desert.jpg|||http://oyster.ignimgs.com/mediawiki/apis.ign.com/pokemon-silver-version/d/dd/Ditto.gif|||http://www.serebii.net/potw-dp/Scizor.jpg|||Not all artists are artists because they draw. It's the idea that counts in forming something of your own... like a signature.|||Welcome to the robot ranks, person who downed my self-esteem cuz I'm not an avid signature artist like herself. :proud:|||Banned for taking all the room under my bed. Ya gotta learn to share with the roaches.|||http://www.youtube.com/watch?v=w8IgImn57aQ|||Banned for being too much of a thundering, grumbling kind of storm... yep.|||Ahh... old high school music I haven't heard in ages.   http://www.youtube.com/watch?v=dcCRUPCdB1w|||I failed a public speaking class a few years ago and I've sort of learned what I could do better were I to be in that position again. A big part of my failure was just overloading myself with too...|||I like this person's mentality. He's a confirmed INTJ by the way. http://www.youtube.com/watch?v=hGKLI-GEc6M|||Move to the Denver area and start a new life for myself.'\n",
      "\n",
      "Post after preprocessing:\n",
      "\n",
      "    moment sportscenter top ten play prank life changing experience life repeat today may perc experience immerse last thing  friend posted facebook committing suicide next day rest peace hello  sorry hear distress natural relationship perfection time every moment existence try figure hard time time growth welcome stuff game set match prozac wellbrutin least thirty minute moving leg mean moving sitting desk chair weed moderation maybe try edible healthier alternative basically come three item determined type whichever type want would likely use given type cognitive function whatnot left thing moderation sims indeed video game good one note good one somewhat subjective completely promoting death given sim dear  favorite video game growing current favorite video game cool appears late sad someone everyone wait thought confidence good thing cherish time solitude b c revel within inner world whereas time workin enjoy time worry people always around yo  lady complimentary personality well hey main social outlet xbox live conversation even verbally fatigue quickly really dig part banned thread requires get high backyard roast eat marshmellows backyard conversing something intellectual followed massage kiss banned many b sentence could think b banned watching movie corner dunce banned health class clearly taught nothing peer pressure banned whole host reason two baby deer left right munching beetle middle using blood two caveman diary today latest happening designated cave diary wall see pokemon world  society everyone becomes optimist artist artist draw idea count forming something like signature welcome robot rank person downed self esteem cuz avid signature artist like proud banned taking room bed ya gotta learn share roach banned much thundering grumbling kind storm yep ahh old high school music heard age failed public speaking class year ago sort learned could better position big part failure overloading like person mentality confirmed  way move denver area start new life \n",
      "\n",
      "MBTI before preprocessing:\n",
      "\n",
      " INFJ\n",
      "\n",
      "MBTI after preprocessing:\n",
      "\n",
      " [0 0 0 0]\n"
     ]
    }
   ],
   "source": [
    "def pre_process_text(data, remove_stop_words=True, remove_mbti_profiles=True):\n",
    "  list_personality = []\n",
    "  list_posts = []\n",
    "  len_data = len(data)\n",
    "  i=0\n",
    "  \n",
    "  for row in data.iterrows():\n",
    "      # check code working \n",
    "      # i+=1\n",
    "      # if (i % 500 == 0 or i == 1 or i == len_data):\n",
    "      #     print(\"%s of %s rows\" % (i, len_data))\n",
    "\n",
    "      #Remove and clean comments\n",
    "      posts = row[1].posts\n",
    "\n",
    "      #Remove url links \n",
    "      temp = re.sub('http[s]?://(?:[a-zA-Z]|[0-9]|[$-_@.&+]|(?:%[0-9a-fA-F][0-9a-fA-F]))+', ' ', posts)\n",
    "\n",
    "      #Remove Non-words - keep only words\n",
    "      temp = re.sub(\"[^a-zA-Z]\", \" \", temp)\n",
    "\n",
    "      # Remove spaces > 1\n",
    "      temp = re.sub(' +', ' ', temp).lower()\n",
    "\n",
    "      #Remove multiple letter repeating words\n",
    "      temp = re.sub(r'([a-z])\\1{2,}[\\s|\\w]*', '', temp)\n",
    "\n",
    "      #Remove stop words\n",
    "      if remove_stop_words:\n",
    "          temp = \" \".join([lemmatiser.lemmatize(w) for w in temp.split(' ') if w not in useless_words])\n",
    "      else:\n",
    "          temp = \" \".join([lemmatiser.lemmatize(w) for w in temp.split(' ')])\n",
    "          \n",
    "      #Remove MBTI personality words from posts\n",
    "      if remove_mbti_profiles:\n",
    "          for t in unique_type_list:\n",
    "              temp = temp.replace(t,\"\")\n",
    "\n",
    "      # transform mbti to binary vector\n",
    "      type_labelized = translate_personality(row[1].type) #or use lab_encoder.transform([row[1].type])[0]\n",
    "      list_personality.append(type_labelized)\n",
    "      # the cleaned data temp is passed here\n",
    "      list_posts.append(temp)\n",
    "\n",
    "  # returns the result\n",
    "  list_posts = np.array(list_posts)\n",
    "  list_personality = np.array(list_personality)\n",
    "  return list_posts, list_personality\n",
    "\n",
    "list_posts, list_personality  = pre_process_text(data, remove_stop_words=True, remove_mbti_profiles=True)\n",
    "\n",
    "print(\"Example :\")\n",
    "print(\"\\nPost before preprocessing:\\n\\n\", data.posts[0])\n",
    "print(\"\\nPost after preprocessing:\\n\\n\", list_posts[0])\n",
    "print(\"\\nMBTI before preprocessing:\\n\\n\", data.type[0])\n",
    "print(\"\\nMBTI after preprocessing:\\n\\n\", list_personality[0])"
   ]
  },
  {
   "cell_type": "code",
   "execution_count": 41,
   "id": "exotic-document",
   "metadata": {
    "_cell_guid": "d5ba5036-d0d1-4998-846d-9b716a639d58",
    "_uuid": "6b779718-2801-47a1-a4a4-49b2c6f3f3fd",
    "collapsed": false,
    "execution": {
     "iopub.execute_input": "2022-04-01T14:46:15.477013Z",
     "iopub.status.busy": "2022-04-01T14:46:15.476316Z",
     "iopub.status.idle": "2022-04-01T14:46:15.479440Z",
     "shell.execute_reply": "2022-04-01T14:46:15.480087Z",
     "shell.execute_reply.started": "2022-03-31T11:00:51.755223Z"
    },
    "id": "5hK8eqy8dDVa",
    "jupyter": {
     "outputs_hidden": false
    },
    "outputId": "ea0c264a-a2be-4d1d-bd12-5850f648f6e2",
    "papermill": {
     "duration": 0.125387,
     "end_time": "2022-04-01T14:46:15.480262",
     "exception": false,
     "start_time": "2022-04-01T14:46:15.354875",
     "status": "completed"
    },
    "tags": []
   },
   "outputs": [
    {
     "name": "stdout",
     "output_type": "stream",
     "text": [
      "No. of posts = 8675  and No. of Personalities = 4 \n"
     ]
    }
   ],
   "source": [
    "nRow, nCol = list_personality.shape\n",
    "print(f'No. of posts = {nRow}  and No. of Personalities = {nCol} ')"
   ]
  },
  {
   "cell_type": "markdown",
   "id": "disciplinary-revelation",
   "metadata": {
    "_cell_guid": "382baec1-1dee-4246-b618-7244a56b0332",
    "_uuid": "0f7e0d44-2b4b-4844-8f02-6d48fc9c7b1f",
    "id": "6dzKnwXy928H",
    "papermill": {
     "duration": 0.116771,
     "end_time": "2022-04-01T14:46:15.715500",
     "exception": false,
     "start_time": "2022-04-01T14:46:15.598729",
     "status": "completed"
    },
    "tags": []
   },
   "source": [
    "## Feature Engineering"
   ]
  },
  {
   "cell_type": "markdown",
   "id": "homeless-newman",
   "metadata": {
    "_cell_guid": "35913dc3-d2db-47f3-8837-bb8f545ff172",
    "_uuid": "1e912391-97ce-4449-a2fa-7e2ad1f96a12",
    "id": "JlRm9XSV98EM",
    "papermill": {
     "duration": 0.116458,
     "end_time": "2022-04-01T14:46:15.948920",
     "exception": false,
     "start_time": "2022-04-01T14:46:15.832462",
     "status": "completed"
    },
    "tags": []
   },
   "source": [
    "\n",
    "**Tf–idf** for feature engineering evaluates how relevant/important a word is to a document in a collection of documnets or corpus. As we train individual classifiers here, it is very useful for scoring words in machine learning algorithms for Natural Language Processing. \n",
    "\n",
    "For our model we vectorize using count vectorizer and tf-idf vectorizer keeping the words appearing btw 10% to 70% of the posts."
   ]
  },
  {
   "cell_type": "code",
   "execution_count": 42,
   "id": "extraordinary-judgment",
   "metadata": {
    "_cell_guid": "e142fc6f-2a87-4d9a-9cac-e23b5397ea7d",
    "_uuid": "a145a086-b089-4e64-ae48-a918eb718edb",
    "collapsed": false,
    "execution": {
     "iopub.execute_input": "2022-04-01T14:46:16.191607Z",
     "iopub.status.busy": "2022-04-01T14:46:16.190936Z",
     "iopub.status.idle": "2022-04-01T14:46:20.921020Z",
     "shell.execute_reply": "2022-04-01T14:46:20.919678Z",
     "shell.execute_reply.started": "2022-03-31T11:00:51.76326Z"
    },
    "id": "lZzMClBLd04S",
    "jupyter": {
     "outputs_hidden": false
    },
    "outputId": "10b01bd3-b854-423b-b08b-dfa69b125f03",
    "papermill": {
     "duration": 4.853926,
     "end_time": "2022-04-01T14:46:20.921284",
     "exception": false,
     "start_time": "2022-04-01T14:46:16.067358",
     "status": "completed"
    },
    "tags": []
   },
   "outputs": [
    {
     "name": "stdout",
     "output_type": "stream",
     "text": [
      "Using CountVectorizer :\n",
      "10 feature names can be seen below\n",
      "[(0, 'ability'), (1, 'able'), (2, 'absolutely'), (3, 'across'), (4, 'act'), (5, 'action'), (6, 'actually'), (7, 'add'), (8, 'advice'), (9, 'afraid')]\n",
      "\n",
      "Using Tf-idf :\n",
      "Now the dataset size is as below\n",
      "(8675, 595)\n"
     ]
    }
   ],
   "source": [
    "# Vectorizing the database posts to a matrix of token counts for the model\n",
    "cntizer = CountVectorizer(analyzer=\"word\", \n",
    "                             max_features=1000,  \n",
    "                             max_df=0.7,\n",
    "                             min_df=0.1) \n",
    "# the feature should be made of word n-gram \n",
    "# Learn the vocabulary dictionary and return term-document matrix\n",
    "print(\"Using CountVectorizer :\")\n",
    "X_cnt = cntizer.fit_transform(list_posts)\n",
    "\n",
    "#The enumerate object yields pairs containing a count and a value (useful for obtaining an indexed list)\n",
    "feature_names = list(enumerate(cntizer.get_feature_names()))\n",
    "print(\"10 feature names can be seen below\")\n",
    "print(feature_names[0:10])\n",
    "\n",
    "# For the Standardization or Feature Scaling Stage :-\n",
    "# Transform the count matrix to a normalized tf or tf-idf representation\n",
    "tfizer = TfidfTransformer()\n",
    "\n",
    "# Learn the idf vector (fit) and transform a count matrix to a tf-idf representation\n",
    "print(\"\\nUsing Tf-idf :\")\n",
    "\n",
    "print(\"Now the dataset size is as below\")\n",
    "X_tfidf =  tfizer.fit_transform(X_cnt).toarray()\n",
    "print(X_tfidf.shape)"
   ]
  },
  {
   "cell_type": "markdown",
   "id": "steady-flesh",
   "metadata": {
    "_cell_guid": "56539e07-410f-4ae8-aa95-eff041748984",
    "_uuid": "fcf1a814-9911-4ed3-b94b-04094384191d",
    "id": "R5scpvqg-vRW",
    "papermill": {
     "duration": 0.121805,
     "end_time": "2022-04-01T14:46:21.163597",
     "exception": false,
     "start_time": "2022-04-01T14:46:21.041792",
     "status": "completed"
    },
    "tags": []
   },
   "source": [
    "- Therefore we now have 595 features for each user post."
   ]
  },
  {
   "cell_type": "markdown",
   "id": "revolutionary-harbor",
   "metadata": {
    "_cell_guid": "25eab924-f3fc-45df-9ac0-841f9f6a4e6a",
    "_uuid": "677d0b38-0da6-4305-9bbd-faec973e5b47",
    "id": "d77Aw_QRAZbp",
    "papermill": {
     "duration": 0.116884,
     "end_time": "2022-04-01T14:46:21.397556",
     "exception": false,
     "start_time": "2022-04-01T14:46:21.280672",
     "status": "completed"
    },
    "tags": []
   },
   "source": [
    "### Splitting into X and Y variable"
   ]
  },
  {
   "cell_type": "markdown",
   "id": "residential-clothing",
   "metadata": {
    "_cell_guid": "1aab06c9-b21c-46ab-a16b-ded6671ca8db",
    "_uuid": "26cb92cb-ca9a-4b81-91bf-d0fe097b9bd9",
    "id": "gfE8f1Z9AgWr",
    "papermill": {
     "duration": 0.118978,
     "end_time": "2022-04-01T14:46:21.634201",
     "exception": false,
     "start_time": "2022-04-01T14:46:21.515223",
     "status": "completed"
    },
    "tags": []
   },
   "source": [
    "Hence we split the features as :\n",
    "\n",
    "X: User Posts in TF-IDF representation\n",
    "\n",
    "Y: Personality type in Binarized MBTI form"
   ]
  },
  {
   "cell_type": "code",
   "execution_count": 43,
   "id": "hungry-expression",
   "metadata": {
    "_cell_guid": "6a403e13-42dc-45a8-84da-e20a73295bd5",
    "_uuid": "e1434dc4-98fb-4797-a00d-c809243df934",
    "collapsed": false,
    "execution": {
     "iopub.execute_input": "2022-04-01T14:46:21.872501Z",
     "iopub.status.busy": "2022-04-01T14:46:21.871883Z",
     "iopub.status.idle": "2022-04-01T14:46:21.877020Z",
     "shell.execute_reply": "2022-04-01T14:46:21.877752Z",
     "shell.execute_reply.started": "2022-03-31T11:00:56.895502Z"
    },
    "id": "VhrinZwad5wa",
    "jupyter": {
     "outputs_hidden": false
    },
    "outputId": "808478d5-c7b6-4247-fee5-b903c1b1d90f",
    "papermill": {
     "duration": 0.126447,
     "end_time": "2022-04-01T14:46:21.877972",
     "exception": false,
     "start_time": "2022-04-01T14:46:21.751525",
     "status": "completed"
    },
    "tags": []
   },
   "outputs": [
    {
     "name": "stdout",
     "output_type": "stream",
     "text": [
      "IE: Introversion (I) / Extroversion (E)\n",
      "NS: Intuition (N) / Sensing (S)\n",
      "FT: Feeling (F) / Thinking (T)\n",
      "JP: Judging (J) / Perceiving (P)\n"
     ]
    }
   ],
   "source": [
    "personality_type = [ \"IE: Introversion (I) / Extroversion (E)\", \"NS: Intuition (N) / Sensing (S)\", \n",
    "                   \"FT: Feeling (F) / Thinking (T)\", \"JP: Judging (J) / Perceiving (P)\"  ]\n",
    "\n",
    "for l in range(len(personality_type)):\n",
    "    print(personality_type[l])"
   ]
  },
  {
   "cell_type": "markdown",
   "id": "roman-paris",
   "metadata": {
    "_cell_guid": "9316fc38-e313-4b9c-b05b-e7b0c2e8ebfa",
    "_uuid": "088302aa-3aeb-4d6d-bd33-fb2939b219b6",
    "id": "8T213sZ_-PTF",
    "papermill": {
     "duration": 0.118688,
     "end_time": "2022-04-01T14:46:22.116202",
     "exception": false,
     "start_time": "2022-04-01T14:46:21.997514",
     "status": "completed"
    },
    "tags": []
   },
   "source": [
    "Let's see how the posts look in TF-IDF representation: (we have taken 1st post for demonstration)"
   ]
  },
  {
   "cell_type": "code",
   "execution_count": 44,
   "id": "trying-fight",
   "metadata": {
    "_cell_guid": "9641e8da-8b82-48e9-a0e3-9d3714ffbdc6",
    "_uuid": "e186f6cb-2523-4f99-88ca-5fe4cb4d7756",
    "collapsed": false,
    "execution": {
     "iopub.execute_input": "2022-04-01T14:46:22.388020Z",
     "iopub.status.busy": "2022-04-01T14:46:22.387091Z",
     "iopub.status.idle": "2022-04-01T14:46:22.398861Z",
     "shell.execute_reply": "2022-04-01T14:46:22.399423Z",
     "shell.execute_reply.started": "2022-03-31T11:00:56.905617Z"
    },
    "id": "IHv_sMjeekX6",
    "jupyter": {
     "outputs_hidden": false
    },
    "outputId": "55708007-eed4-47f7-89d8-87c7f5fb0481",
    "papermill": {
     "duration": 0.135322,
     "end_time": "2022-04-01T14:46:22.399624",
     "exception": false,
     "start_time": "2022-04-01T14:46:22.264302",
     "status": "completed"
    },
    "tags": []
   },
   "outputs": [
    {
     "name": "stdout",
     "output_type": "stream",
     "text": [
      "X: 1st posts in tf-idf representation\n",
      "[0.         0.         0.         0.         0.         0.\n",
      " 0.         0.         0.         0.         0.08105478 0.07066064\n",
      " 0.         0.         0.         0.         0.         0.\n",
      " 0.         0.04516864 0.         0.         0.         0.\n",
      " 0.         0.         0.         0.         0.         0.\n",
      " 0.         0.05321691 0.         0.         0.         0.\n",
      " 0.         0.         0.         0.         0.         0.\n",
      " 0.         0.         0.0871647  0.         0.         0.\n",
      " 0.         0.         0.         0.05506308 0.0708757  0.\n",
      " 0.         0.         0.         0.         0.         0.\n",
      " 0.         0.         0.         0.         0.         0.\n",
      " 0.         0.         0.         0.         0.         0.\n",
      " 0.         0.         0.         0.         0.         0.\n",
      " 0.         0.16585935 0.         0.         0.09676192 0.\n",
      " 0.         0.04970682 0.         0.         0.         0.\n",
      " 0.07397056 0.         0.         0.         0.         0.\n",
      " 0.         0.0748045  0.07639898 0.09185775 0.         0.\n",
      " 0.         0.         0.         0.         0.         0.\n",
      " 0.         0.         0.         0.05133662 0.         0.09442732\n",
      " 0.         0.         0.         0.         0.         0.\n",
      " 0.         0.         0.         0.         0.         0.\n",
      " 0.         0.         0.         0.         0.         0.\n",
      " 0.         0.09657087 0.         0.         0.         0.\n",
      " 0.         0.         0.         0.07062049 0.         0.\n",
      " 0.         0.         0.04405493 0.         0.05892624 0.11838033\n",
      " 0.         0.         0.         0.         0.1245151  0.\n",
      " 0.         0.         0.         0.         0.         0.\n",
      " 0.         0.15886654 0.         0.         0.         0.\n",
      " 0.         0.         0.         0.08435344 0.         0.\n",
      " 0.         0.         0.         0.         0.         0.\n",
      " 0.         0.         0.         0.         0.         0.04471932\n",
      " 0.         0.         0.         0.07063387 0.         0.\n",
      " 0.29304485 0.         0.         0.         0.         0.\n",
      " 0.         0.18141448 0.         0.         0.         0.\n",
      " 0.         0.12564763 0.         0.         0.         0.\n",
      " 0.         0.         0.         0.         0.         0.\n",
      " 0.         0.         0.05834299 0.         0.         0.08003112\n",
      " 0.08435344 0.         0.         0.09115444 0.         0.08189961\n",
      " 0.         0.13411106 0.         0.         0.         0.\n",
      " 0.         0.         0.         0.         0.         0.\n",
      " 0.         0.         0.         0.05631577 0.         0.\n",
      " 0.         0.         0.         0.         0.         0.\n",
      " 0.         0.         0.         0.         0.         0.\n",
      " 0.         0.         0.         0.05557735 0.         0.\n",
      " 0.         0.         0.         0.         0.0611348  0.09448648\n",
      " 0.         0.         0.         0.         0.         0.\n",
      " 0.07930797 0.09349615 0.         0.06379457 0.         0.17160741\n",
      " 0.         0.         0.         0.13427658 0.         0.\n",
      " 0.08006774 0.         0.         0.         0.         0.\n",
      " 0.         0.06885442 0.         0.         0.         0.\n",
      " 0.         0.         0.         0.         0.         0.\n",
      " 0.         0.         0.         0.09793451 0.         0.\n",
      " 0.         0.         0.05268964 0.         0.05993985 0.05477763\n",
      " 0.         0.04997463 0.         0.         0.         0.\n",
      " 0.         0.         0.09867431 0.         0.         0.\n",
      " 0.09487394 0.         0.15341726 0.         0.         0.\n",
      " 0.         0.         0.08813151 0.07690585 0.07177948 0.\n",
      " 0.         0.09843694 0.         0.         0.         0.\n",
      " 0.         0.05941035 0.08188014 0.         0.         0.\n",
      " 0.         0.         0.09612974 0.06395483 0.         0.\n",
      " 0.         0.         0.         0.         0.         0.\n",
      " 0.06973746 0.         0.         0.         0.         0.\n",
      " 0.         0.         0.         0.         0.         0.12067215\n",
      " 0.         0.         0.         0.         0.         0.09674118\n",
      " 0.         0.0615769  0.         0.         0.         0.\n",
      " 0.         0.         0.         0.07446814 0.         0.\n",
      " 0.         0.         0.         0.08993396 0.         0.\n",
      " 0.         0.         0.         0.         0.09901671 0.\n",
      " 0.         0.         0.         0.         0.         0.\n",
      " 0.         0.         0.         0.         0.         0.\n",
      " 0.05946565 0.         0.         0.         0.05873657 0.\n",
      " 0.         0.         0.         0.09634949 0.         0.04805982\n",
      " 0.         0.08968056 0.         0.         0.0860263  0.\n",
      " 0.         0.         0.         0.06318282 0.         0.\n",
      " 0.         0.04256832 0.         0.         0.         0.\n",
      " 0.06642087 0.         0.         0.         0.09201473 0.\n",
      " 0.         0.0831116  0.         0.         0.         0.\n",
      " 0.         0.         0.         0.         0.         0.\n",
      " 0.         0.         0.         0.         0.         0.06971149\n",
      " 0.09554125 0.04625983 0.08531558 0.         0.         0.\n",
      " 0.06799661 0.07466644 0.         0.         0.         0.09843694\n",
      " 0.         0.         0.         0.06502346 0.         0.\n",
      " 0.         0.         0.         0.         0.         0.\n",
      " 0.         0.06869092 0.         0.         0.         0.\n",
      " 0.         0.         0.         0.         0.         0.\n",
      " 0.08067849 0.         0.         0.         0.         0.\n",
      " 0.         0.         0.         0.         0.         0.\n",
      " 0.         0.         0.0466968  0.0539756  0.08760887 0.\n",
      " 0.1533845  0.         0.         0.         0.         0.09298479\n",
      " 0.         0.         0.         0.         0.         0.\n",
      " 0.         0.         0.         0.         0.10580777 0.\n",
      " 0.         0.11100899 0.13361762 0.         0.         0.\n",
      " 0.06046932 0.         0.08258902 0.         0.         0.2392193\n",
      " 0.         0.09217882 0.         0.04223906 0.         0.\n",
      " 0.08665848 0.04111178 0.         0.         0.16434695 0.04117693\n",
      " 0.         0.         0.         0.07231244 0.         0.\n",
      " 0.         0.         0.         0.         0.         0.\n",
      " 0.11467609 0.09387096 0.         0.         0.         0.\n",
      " 0.         0.         0.04833236 0.         0.         0.\n",
      " 0.        ]\n"
     ]
    }
   ],
   "source": [
    "print(\"X: 1st posts in tf-idf representation\\n%s\" % X_tfidf[0])"
   ]
  },
  {
   "cell_type": "markdown",
   "id": "confident-anxiety",
   "metadata": {
    "_cell_guid": "c2dfeded-0c84-4c2e-90c4-cb259507dd42",
    "_uuid": "d5e57864-4534-4696-a917-c558eba63180",
    "id": "DgyvmsM0eICS",
    "papermill": {
     "duration": 0.120061,
     "end_time": "2022-04-01T14:46:22.637849",
     "exception": false,
     "start_time": "2022-04-01T14:46:22.517788",
     "status": "completed"
    },
    "tags": []
   },
   "source": [
    "Let's see how the posts look in Binarized MBTI personality indicator representation: (we have taken 1st post for demonstration)"
   ]
  },
  {
   "cell_type": "code",
   "execution_count": 45,
   "id": "strange-calcium",
   "metadata": {
    "_cell_guid": "71bd1e57-5726-4243-8aa6-f7dee8c7c81e",
    "_uuid": "7481b9fe-d7a0-4332-b86b-2b25c011e4ac",
    "collapsed": false,
    "execution": {
     "iopub.execute_input": "2022-04-01T14:46:22.878666Z",
     "iopub.status.busy": "2022-04-01T14:46:22.877976Z",
     "iopub.status.idle": "2022-04-01T14:46:22.883913Z",
     "shell.execute_reply": "2022-04-01T14:46:22.884446Z",
     "shell.execute_reply.started": "2022-03-31T11:00:56.940182Z"
    },
    "id": "DdACzvUaeoJE",
    "jupyter": {
     "outputs_hidden": false
    },
    "outputId": "f48ebaa8-6cb9-4bd6-8ed0-cb78484903aa",
    "papermill": {
     "duration": 0.127893,
     "end_time": "2022-04-01T14:46:22.884651",
     "exception": false,
     "start_time": "2022-04-01T14:46:22.756758",
     "status": "completed"
    },
    "tags": []
   },
   "outputs": [
    {
     "name": "stdout",
     "output_type": "stream",
     "text": [
      "For MBTI personality type : INFJ\n",
      "Y : Binarized MBTI 1st row: [0 0 0 0]\n"
     ]
    }
   ],
   "source": [
    "print(\"For MBTI personality type : %s\" % translate_back(list_personality[0,:]))\n",
    "print(\"Y : Binarized MBTI 1st row: %s\" % list_personality[0,:])"
   ]
  },
  {
   "cell_type": "markdown",
   "id": "usual-vision",
   "metadata": {
    "_cell_guid": "8bcab26c-2119-402f-9f54-bef444b8351c",
    "_uuid": "0751032c-1f49-418e-8483-0040472935a5",
    "id": "AZuuV2fO_1DL",
    "papermill": {
     "duration": 0.119648,
     "end_time": "2022-04-01T14:46:23.123141",
     "exception": false,
     "start_time": "2022-04-01T14:46:23.003493",
     "status": "completed"
    },
    "tags": []
   },
   "source": [
    "Therefore we have successfully converted the textual data into numerical form"
   ]
  },
  {
   "cell_type": "markdown",
   "id": "subject-insulin",
   "metadata": {
    "_cell_guid": "30c4f499-2581-482c-bff0-54f6c0fd5dd5",
    "_uuid": "37f9b4c9-2dcc-4d09-9e02-b4f6bbdb59ae",
    "id": "UvoABgNLuo2X",
    "papermill": {
     "duration": 0.118453,
     "end_time": "2022-04-01T14:46:23.361889",
     "exception": false,
     "start_time": "2022-04-01T14:46:23.243436",
     "status": "completed"
    },
    "tags": []
   },
   "source": [
    "## Training & Evaluating Models"
   ]
  },
  {
   "cell_type": "code",
   "execution_count": 46,
   "id": "unauthorized-provincial",
   "metadata": {
    "_cell_guid": "d8638a1b-500d-459b-b755-f565af7dffc2",
    "_uuid": "3d1bed9b-085a-4ab6-b87c-2d0216096bdb",
    "collapsed": false,
    "execution": {
     "iopub.execute_input": "2022-04-01T14:46:23.605210Z",
     "iopub.status.busy": "2022-04-01T14:46:23.604393Z",
     "iopub.status.idle": "2022-04-01T14:46:23.607271Z",
     "shell.execute_reply": "2022-04-01T14:46:23.606768Z",
     "shell.execute_reply.started": "2022-03-31T11:00:56.952784Z"
    },
    "id": "UCS6dtAwGWiI",
    "jupyter": {
     "outputs_hidden": false
    },
    "papermill": {
     "duration": 0.126739,
     "end_time": "2022-04-01T14:46:23.607410",
     "exception": false,
     "start_time": "2022-04-01T14:46:23.480671",
     "status": "completed"
    },
    "tags": []
   },
   "outputs": [],
   "source": [
    "# Posts in tf-idf representation\n",
    "X = X_tfidf"
   ]
  },
  {
   "cell_type": "code",
   "execution_count": 47,
   "id": "suited-clear",
   "metadata": {
    "_cell_guid": "c1559df3-7f7e-4955-955e-9bf69bed5a32",
    "_uuid": "476e9f8e-aa71-40be-a773-3042872a3f99",
    "collapsed": false,
    "execution": {
     "iopub.execute_input": "2022-04-01T14:46:23.853503Z",
     "iopub.status.busy": "2022-04-01T14:46:23.852795Z",
     "iopub.status.idle": "2022-04-01T14:47:12.329098Z",
     "shell.execute_reply": "2022-04-01T14:47:12.330281Z",
     "shell.execute_reply.started": "2022-03-31T11:00:56.965936Z"
    },
    "id": "yd9Cyx32fBC3",
    "jupyter": {
     "outputs_hidden": false
    },
    "outputId": "f59b8d23-b889-4673-ba12-46b7f6426aa9",
    "papermill": {
     "duration": 48.603182,
     "end_time": "2022-04-01T14:47:12.330577",
     "exception": false,
     "start_time": "2022-04-01T14:46:23.727395",
     "status": "completed"
    },
    "tags": []
   },
   "outputs": [
    {
     "name": "stdout",
     "output_type": "stream",
     "text": [
      "[14:46:24] WARNING: ../src/learner.cc:1061: Starting in XGBoost 1.3.0, the default evaluation metric used with the objective 'binary:logistic' was changed from 'error' to 'logloss'. Explicitly set eval_metric if you'd like to restore the old behavior.\n",
      "IE: Introversion (I) / Extroversion (E) Accuracy: 76.18%\n",
      "[14:46:35] WARNING: ../src/learner.cc:1061: Starting in XGBoost 1.3.0, the default evaluation metric used with the objective 'binary:logistic' was changed from 'error' to 'logloss'. Explicitly set eval_metric if you'd like to restore the old behavior.\n",
      "NS: Intuition (N) / Sensing (S) Accuracy: 85.37%\n",
      "[14:46:48] WARNING: ../src/learner.cc:1061: Starting in XGBoost 1.3.0, the default evaluation metric used with the objective 'binary:logistic' was changed from 'error' to 'logloss'. Explicitly set eval_metric if you'd like to restore the old behavior.\n",
      "FT: Feeling (F) / Thinking (T) Accuracy: 67.73%\n",
      "[14:47:00] WARNING: ../src/learner.cc:1061: Starting in XGBoost 1.3.0, the default evaluation metric used with the objective 'binary:logistic' was changed from 'error' to 'logloss'. Explicitly set eval_metric if you'd like to restore the old behavior.\n",
      "JP: Judging (J) / Perceiving (P) Accuracy: 62.84%\n"
     ]
    }
   ],
   "source": [
    "#XGBoost model for MBTI dataset \n",
    "# Individually training each mbti personlity type\n",
    "for l in range(len(personality_type)):\n",
    "    \n",
    "    Y = list_personality[:,l]\n",
    "\n",
    "    # split data into train and test sets\n",
    "    X_train, X_test, y_train, y_test = train_test_split(X, Y, test_size=0.33, random_state=7)\n",
    "\n",
    "    # fit model on training data\n",
    "    model = XGBClassifier()\n",
    "    model.fit(X_train, y_train)\n",
    "\n",
    "    # make predictions for test data\n",
    "    y_pred = model.predict(X_test)\n",
    "    predictions = [round(value) for value in y_pred]\n",
    "    # evaluate predictions\n",
    "    accuracy = accuracy_score(y_test, predictions)\n",
    "    \n",
    "    print(\"%s Accuracy: %.2f%%\" % (personality_type[l], accuracy * 100.0))"
   ]
  },
  {
   "cell_type": "code",
   "execution_count": 48,
   "id": "continuous-canada",
   "metadata": {
    "_cell_guid": "a5c7ee60-c068-46a9-bd24-e7f4d87f6305",
    "_uuid": "7c257d59-53f4-4f6a-b6e0-5518916c6a2d",
    "collapsed": false,
    "execution": {
     "iopub.execute_input": "2022-04-01T14:47:12.576471Z",
     "iopub.status.busy": "2022-04-01T14:47:12.575853Z",
     "iopub.status.idle": "2022-04-01T14:47:14.540761Z",
     "shell.execute_reply": "2022-04-01T14:47:14.542366Z",
     "shell.execute_reply.started": "2022-03-31T11:01:47.073247Z"
    },
    "id": "cAr3yKPaSVNe",
    "jupyter": {
     "outputs_hidden": false
    },
    "outputId": "e9601285-8818-41d3-d8b3-e7c7079aa27a",
    "papermill": {
     "duration": 2.090794,
     "end_time": "2022-04-01T14:47:14.542731",
     "exception": false,
     "start_time": "2022-04-01T14:47:12.451937",
     "status": "completed"
    },
    "tags": []
   },
   "outputs": [
    {
     "name": "stdout",
     "output_type": "stream",
     "text": [
      "IE: Introversion (I) / Extroversion (E) Accuracy: 77.72%\n",
      "NS: Intuition (N) / Sensing (S) Accuracy: 86.03%\n",
      "FT: Feeling (F) / Thinking (T) Accuracy: 72.09%\n",
      "JP: Judging (J) / Perceiving (P) Accuracy: 63.95%\n"
     ]
    }
   ],
   "source": [
    "# Stocastic Gradient Descent for MBTI dataset\n",
    "# Individually training each mbti personlity type\n",
    "for l in range(len(personality_type)):\n",
    "\n",
    "    Y = list_personality[:,l]\n",
    "\n",
    "    # split data into train and test sets\n",
    "    X_train, X_test, y_train, y_test = train_test_split(X, Y, test_size=0.33, random_state=7)\n",
    "\n",
    "    # fit model on training data\n",
    "    model = SGDClassifier() \n",
    "    model.fit(X_train, y_train)\n",
    "\n",
    "    # make predictions for test data\n",
    "    y_pred = model.predict(X_test)\n",
    "    \n",
    "    predictions = [round(value) for value in y_pred]\n",
    "    # evaluate predictions\n",
    "    accuracy = accuracy_score(y_test, predictions)\n",
    "    \n",
    "    print(\"%s Accuracy: %.2f%%\" % (personality_type[l], accuracy * 100.0))"
   ]
  },
  {
   "cell_type": "code",
   "execution_count": 49,
   "id": "decent-amount",
   "metadata": {
    "_cell_guid": "673b230e-e10c-4555-9c43-250f6e7489dd",
    "_uuid": "8de02e7d-0fad-4723-87ac-db904f18efc4",
    "collapsed": false,
    "execution": {
     "iopub.execute_input": "2022-04-01T14:47:14.844435Z",
     "iopub.status.busy": "2022-04-01T14:47:14.843711Z",
     "iopub.status.idle": "2022-04-01T14:47:15.751043Z",
     "shell.execute_reply": "2022-04-01T14:47:15.752652Z",
     "shell.execute_reply.started": "2022-03-31T11:01:49.202839Z"
    },
    "id": "VHdH5ARlSX-f",
    "jupyter": {
     "outputs_hidden": false
    },
    "outputId": "742d6f25-f1b6-4233-8717-b76d82348383",
    "papermill": {
     "duration": 1.03932,
     "end_time": "2022-04-01T14:47:15.752969",
     "exception": false,
     "start_time": "2022-04-01T14:47:14.713649",
     "status": "completed"
    },
    "tags": []
   },
   "outputs": [
    {
     "name": "stdout",
     "output_type": "stream",
     "text": [
      "IE: Introversion (I) / Extroversion (E) Accuracy: 77.54%\n",
      "NS: Intuition (N) / Sensing (S) Accuracy: 86.06%\n",
      "FT: Feeling (F) / Thinking (T) Accuracy: 72.44%\n",
      "JP: Judging (J) / Perceiving (P) Accuracy: 64.51%\n"
     ]
    }
   ],
   "source": [
    "# Logistic Regression for MBTI dataset\n",
    "# Individually training each mbti personlity type\n",
    "for l in range(len(personality_type)):\n",
    "\n",
    "    Y = list_personality[:,l]\n",
    "\n",
    "    # split data into train and test sets\n",
    "    X_train, X_test, y_train, y_test = train_test_split(X, Y, test_size=0.33, random_state=7)\n",
    "\n",
    "    # fit model on training data\n",
    "    model = LogisticRegression() \n",
    "    model.fit(X_train, y_train)\n",
    "\n",
    "    # make predictions for test data\n",
    "    y_pred = model.predict(X_test)\n",
    "    \n",
    "    predictions = [round(value) for value in y_pred]\n",
    "    # evaluate predictions\n",
    "    accuracy = accuracy_score(y_test, predictions)\n",
    "    \n",
    "    print(\"%s Accuracy: %.2f%%\" % (personality_type[l], accuracy * 100.0))"
   ]
  },
  {
   "cell_type": "code",
   "execution_count": 50,
   "id": "incorporate-receipt",
   "metadata": {
    "_cell_guid": "d62a4d2f-c4e0-4206-bfc5-a9a985ac0808",
    "_uuid": "7408b6d8-ce24-474c-aef7-2d50693a214a",
    "collapsed": false,
    "execution": {
     "iopub.execute_input": "2022-04-01T14:47:16.072186Z",
     "iopub.status.busy": "2022-04-01T14:47:16.070505Z",
     "iopub.status.idle": "2022-04-01T14:48:44.642461Z",
     "shell.execute_reply": "2022-04-01T14:48:44.643060Z",
     "shell.execute_reply.started": "2022-03-31T11:01:50.361407Z"
    },
    "id": "FC8Yg__cX4f4",
    "jupyter": {
     "outputs_hidden": false
    },
    "outputId": "768d1a2c-e3e9-441c-8210-ec355be5dd4a",
    "papermill": {
     "duration": 88.719871,
     "end_time": "2022-04-01T14:48:44.643246",
     "exception": false,
     "start_time": "2022-04-01T14:47:15.923375",
     "status": "completed"
    },
    "tags": []
   },
   "outputs": [
    {
     "name": "stdout",
     "output_type": "stream",
     "text": [
      "IE: Introversion (I) / Extroversion (E) Accuracy: 77.96%\n",
      "NS: Intuition (N) / Sensing (S) Accuracy: 86.03%\n",
      "FT: Feeling (F) / Thinking (T) Accuracy: 72.62%\n",
      "JP: Judging (J) / Perceiving (P) Accuracy: 65.87%\n"
     ]
    }
   ],
   "source": [
    "# SVM model for MBTI dataset\n",
    "# Individually training each mbti personlity type\n",
    "for l in range(len(personality_type)):\n",
    "    \n",
    "    Y = list_personality[:,l]\n",
    "\n",
    "    # split data into train and test sets\n",
    "    X_train, X_test, y_train, y_test = train_test_split(X, Y, test_size=0.33, random_state=7)\n",
    "\n",
    "    # fit model on training data\n",
    "    model = SVC(random_state = 1)\n",
    "    model.fit(X_train, y_train)\n",
    "\n",
    "    # make predictions for test data\n",
    "    y_pred = model.predict(X_test)\n",
    "    \n",
    "    predictions = [round(value) for value in y_pred]\n",
    "    # evaluate predictions\n",
    "    accuracy = accuracy_score(y_test, predictions)\n",
    "    \n",
    "    print(\"%s Accuracy: %.2f%%\" % (personality_type[l], accuracy * 100.0))"
   ]
  },
  {
   "cell_type": "markdown",
   "id": "secondary-chapel",
   "metadata": {
    "_cell_guid": "a70e8fcd-0ffe-4f84-abf7-da1d69742053",
    "_uuid": "88751a39-564d-44a3-8cfa-8a651309de1e",
    "id": "IENcipC020EP",
    "papermill": {
     "duration": 0.124394,
     "end_time": "2022-04-01T14:48:44.893816",
     "exception": false,
     "start_time": "2022-04-01T14:48:44.769422",
     "status": "completed"
    },
    "tags": []
   },
   "source": [
    "## Personality Prediction 1 - cover letter"
   ]
  },
  {
   "cell_type": "code",
   "execution_count": 51,
   "id": "coastal-pressure",
   "metadata": {
    "_cell_guid": "8d0952b1-d9ef-41a9-b827-0fd32ca4de3b",
    "_uuid": "830110ab-39fe-4770-902f-d2b103ac6ce9",
    "collapsed": false,
    "execution": {
     "iopub.execute_input": "2022-04-01T14:48:45.152693Z",
     "iopub.status.busy": "2022-04-01T14:48:45.151825Z",
     "iopub.status.idle": "2022-04-01T14:48:45.161662Z",
     "shell.execute_reply": "2022-04-01T14:48:45.162211Z",
     "shell.execute_reply.started": "2022-03-31T11:03:37.89831Z"
    },
    "id": "6FK6MXqqxMYM",
    "jupyter": {
     "outputs_hidden": false
    },
    "papermill": {
     "duration": 0.142911,
     "end_time": "2022-04-01T14:48:45.162385",
     "exception": false,
     "start_time": "2022-04-01T14:48:45.019474",
     "status": "completed"
    },
    "tags": []
   },
   "outputs": [],
   "source": [
    "# A new post is taken \n",
    "my_posts  = \"\"\" Hi I am 21 years, currently, I am pursuing my graduate degree in computer science and management (Mba Tech CS ), It is a 5-year dual degree.... My CGPA to date is 3.8/4.0 . I have a passion for teaching since childhood. Math has always been the subject of my interest in school. Also, my mother has been one of my biggest inspirations for me. She started her career as a teacher and now has her own education trust with preschools schools in Rural and Urban areas. During the period of lockdown, I dwelled in the field of blogging and content creation on Instagram.  to spread love positivity kindness . I hope I am able deliver my best to the platform and my optimistic attitude helps in the growth that is expected. Thank you for the opportunity. \"\"\"\n",
    "\n",
    "mydata = pd.DataFrame(data={'type': ['INFJ'], 'posts': [my_posts]})\n",
    "\n",
    "my_posts, dummy  = pre_process_text(mydata, remove_stop_words=True, remove_mbti_profiles=True)\n",
    "\n",
    "my_X_cnt = cntizer.transform(my_posts)\n",
    "my_X_tfidf =  tfizer.transform(my_X_cnt).toarray()"
   ]
  },
  {
   "cell_type": "code",
   "execution_count": 52,
   "id": "designed-extent",
   "metadata": {
    "_cell_guid": "060edfff-26d5-4dfd-82b2-79edfdb3c4ad",
    "_uuid": "80fd2911-0f71-4f93-b691-82a2f4d57022",
    "collapsed": false,
    "execution": {
     "iopub.execute_input": "2022-04-01T14:48:45.440166Z",
     "iopub.status.busy": "2022-04-01T14:48:45.439201Z",
     "iopub.status.idle": "2022-04-01T14:49:37.554152Z",
     "shell.execute_reply": "2022-04-01T14:49:37.553419Z",
     "shell.execute_reply.started": "2022-03-31T11:03:37.911694Z"
    },
    "id": "3XYXQXXUxNkU",
    "jupyter": {
     "outputs_hidden": false
    },
    "outputId": "5f6fcf9c-8be0-4f21-ac37-6c5087aaba98",
    "papermill": {
     "duration": 52.242697,
     "end_time": "2022-04-01T14:49:37.554303",
     "exception": false,
     "start_time": "2022-04-01T14:48:45.311606",
     "status": "completed"
    },
    "tags": []
   },
   "outputs": [
    {
     "name": "stdout",
     "output_type": "stream",
     "text": [
      "IE: Introversion (I) / Extroversion (E) classifier trained\n",
      "NS: Intuition (N) / Sensing (S) classifier trained\n",
      "FT: Feeling (F) / Thinking (T) classifier trained\n",
      "JP: Judging (J) / Perceiving (P) classifier trained\n"
     ]
    }
   ],
   "source": [
    "# setup parameters for svm\n",
    "param = {}\n",
    "param['n_estimators'] = 200\n",
    "param['max_depth'] = 2\n",
    "param['nthread'] = 8\n",
    "param['learning_rate'] = 0.2\n",
    "\n",
    "#svm model for MBTI dataset\n",
    "result = []\n",
    "# Individually training each mbti personlity type\n",
    "for l in range(len(personality_type)):\n",
    "    print(\"%s classifier trained\" % (personality_type[l]))\n",
    "    \n",
    "    Y = list_personality[:,l]\n",
    "\n",
    "    # split data into train and test sets\n",
    "    X_train, X_test, y_train, y_test = train_test_split(X, Y, test_size=0.33, random_state=7)\n",
    "\n",
    "    # fit model on training data\n",
    "    model = SVC(random_state = 1)\n",
    "    model.fit(X_train, y_train)\n",
    "    \n",
    "    # make predictions for my  data\n",
    "    y_pred = model.predict(my_X_tfidf)\n",
    "    result.append(y_pred[0])"
   ]
  },
  {
   "cell_type": "code",
   "execution_count": 53,
   "id": "nominated-direction",
   "metadata": {
    "_cell_guid": "eacb94c8-4fd9-4984-9d64-ff5fde474e60",
    "_uuid": "c54447e8-8522-4416-b133-a7f51c5e5c83",
    "collapsed": false,
    "execution": {
     "iopub.execute_input": "2022-04-01T14:49:37.812901Z",
     "iopub.status.busy": "2022-04-01T14:49:37.811856Z",
     "iopub.status.idle": "2022-04-01T14:49:37.815403Z",
     "shell.execute_reply": "2022-04-01T14:49:37.815933Z",
     "shell.execute_reply.started": "2022-03-31T11:04:41.732711Z"
    },
    "id": "N-DmP9dTxTwB",
    "jupyter": {
     "outputs_hidden": false
    },
    "outputId": "c2e3159a-a93c-4de2-971e-362a5a6259f2",
    "papermill": {
     "duration": 0.134766,
     "end_time": "2022-04-01T14:49:37.816106",
     "exception": false,
     "start_time": "2022-04-01T14:49:37.681340",
     "status": "completed"
    },
    "tags": []
   },
   "outputs": [
    {
     "name": "stdout",
     "output_type": "stream",
     "text": [
      "The result is:  INFP\n"
     ]
    }
   ],
   "source": [
    "print(\"The result is: \", translate_back(result))"
   ]
  },
  {
   "cell_type": "markdown",
   "id": "streaming-minority",
   "metadata": {
    "_cell_guid": "10af836a-82da-43c1-86be-c197bee1002b",
    "_uuid": "655c0170-353a-4e8b-90d6-c88b5ff563b7",
    "id": "oPAPCUXJ4PFY",
    "papermill": {
     "duration": 0.126355,
     "end_time": "2022-04-01T14:49:38.068165",
     "exception": false,
     "start_time": "2022-04-01T14:49:37.941810",
     "status": "completed"
    },
    "tags": []
   },
   "source": [
    "## Personality Prediction 2 - a poem"
   ]
  },
  {
   "cell_type": "code",
   "execution_count": 54,
   "id": "popular-simple",
   "metadata": {
    "_cell_guid": "46fbf0fc-6e29-4e60-bc62-56374a0b35d8",
    "_uuid": "d75cae5d-72d8-40ff-926b-ab2fa19e1c64",
    "collapsed": false,
    "execution": {
     "iopub.execute_input": "2022-04-01T14:49:38.332405Z",
     "iopub.status.busy": "2022-04-01T14:49:38.331210Z",
     "iopub.status.idle": "2022-04-01T14:49:38.335836Z",
     "shell.execute_reply": "2022-04-01T14:49:38.336403Z",
     "shell.execute_reply.started": "2022-03-31T11:04:41.740883Z"
    },
    "id": "6zEzXQTF4R2s",
    "jupyter": {
     "outputs_hidden": false
    },
    "papermill": {
     "duration": 0.14052,
     "end_time": "2022-04-01T14:49:38.336586",
     "exception": false,
     "start_time": "2022-04-01T14:49:38.196066",
     "status": "completed"
    },
    "tags": []
   },
   "outputs": [],
   "source": [
    "my_posts = \"\"\" They act like they care They tell me to share But when I carve the stories on my arm The doctor just calls it self harm I’m not asking for attention There’s a reason I have apprehensions I just need you to see What has become of me||| I know I’m going crazy But they think my thoughts are just hazy When in that chaos, in that confusion I’m crying out for help, to escape my delusions||| Mental health is a state of mind How does one keep that up when assistance is denied All my failed attempts to fight the blaze You treat it like its a passing phase||| Well stop, its not, because mental illness is real Understand that we’re all not made of steel Because when you brush these issues under the carpet You make it seem like its our mistake we’re not guarded||| Don’t you realise that its a problem that needs to be addressed Starting at home, in our nest Why do you keep your mouths shut about such things Instead of caring for those with broken wings||| What use is this social stigma When mental illness is not even such an enigma Look around and you’ll see the numbers of the affected hiding under the covers ||| This is an issue that needs to be discussed Not looked down upon with disgust Mental illness needs to be accepted So that people can be protected ||| Let me give you some direction People need affection The darkness must be escaped Only then the lost can be saved||| Bring in a change Something not very strange The new year is here Its time to eradicate fear||| Recognise the wrists under the knives To stop mental illness from taking more lives Let’s break the convention Start ‘suicide prevention’.||| Hoping the festival of lights drives the darkness of mental illness away\"\"\"\n",
    "mydata = pd.DataFrame(data={'type': ['INFP'], 'posts': [my_posts]})\n",
    "my_posts, dummy  = pre_process_text(mydata, remove_stop_words=True, remove_mbti_profiles=True)\n",
    "my_X_cnt = cntizer.transform(my_posts)\n",
    "my_X_tfidf =  tfizer.transform(my_X_cnt).toarray()"
   ]
  },
  {
   "cell_type": "code",
   "execution_count": 55,
   "id": "ranking-horizontal",
   "metadata": {
    "_cell_guid": "46dded51-f023-41b5-9111-0715e15275ab",
    "_uuid": "e4162874-174f-4e13-adef-cbfbaa8e5b5b",
    "collapsed": false,
    "execution": {
     "iopub.execute_input": "2022-04-01T14:49:38.592108Z",
     "iopub.status.busy": "2022-04-01T14:49:38.591162Z",
     "iopub.status.idle": "2022-04-01T14:50:31.218379Z",
     "shell.execute_reply": "2022-04-01T14:50:31.217655Z",
     "shell.execute_reply.started": "2022-03-31T11:04:41.760087Z"
    },
    "id": "PbEXVVan4ZS2",
    "jupyter": {
     "outputs_hidden": false
    },
    "outputId": "4bbd78dc-5975-40e4-9ee3-7d8d8b158e41",
    "papermill": {
     "duration": 52.756536,
     "end_time": "2022-04-01T14:50:31.218546",
     "exception": false,
     "start_time": "2022-04-01T14:49:38.462010",
     "status": "completed"
    },
    "tags": []
   },
   "outputs": [
    {
     "name": "stdout",
     "output_type": "stream",
     "text": [
      "IE: Introversion (I) / Extroversion (E) classifier trained\n",
      "NS: Intuition (N) / Sensing (S) classifier trained\n",
      "FT: Feeling (F) / Thinking (T) classifier trained\n",
      "JP: Judging (J) / Perceiving (P) classifier trained\n"
     ]
    }
   ],
   "source": [
    "# setup parameters for svm\n",
    "param = {}\n",
    "param['n_estimators'] = 200\n",
    "param['max_depth'] = 2\n",
    "param['nthread'] = 8\n",
    "param['learning_rate'] = 0.2\n",
    "\n",
    "#svm model for MBTI dataset\n",
    "result = []\n",
    "# Individually training each mbti personlity type\n",
    "for l in range(len(personality_type)):\n",
    "    print(\"%s classifier trained\" % (personality_type[l]))\n",
    "    \n",
    "    Y = list_personality[:,l]\n",
    "\n",
    "    # split data into train and test sets\n",
    "    X_train, X_test, y_train, y_test = train_test_split(X, Y, test_size=0.33, random_state=7)\n",
    "\n",
    "    # fit model on training data\n",
    "    model = SVC(random_state = 1)\n",
    "    model.fit(X_train, y_train)\n",
    "    \n",
    "    # make predictions for my  data\n",
    "    y_pred = model.predict(my_X_tfidf)\n",
    "    result.append(y_pred[0])"
   ]
  },
  {
   "cell_type": "code",
   "execution_count": 56,
   "id": "improved-armor",
   "metadata": {
    "_cell_guid": "75104bac-5a72-4e6e-8216-78d3605057cc",
    "_uuid": "39239ead-33ce-4629-a2a5-22df8a2bed89",
    "collapsed": false,
    "execution": {
     "iopub.execute_input": "2022-04-01T14:50:31.482467Z",
     "iopub.status.busy": "2022-04-01T14:50:31.481614Z",
     "iopub.status.idle": "2022-04-01T14:50:31.485432Z",
     "shell.execute_reply": "2022-04-01T14:50:31.484904Z",
     "shell.execute_reply.started": "2022-03-31T11:05:45.723618Z"
    },
    "id": "gW37LkS44brd",
    "jupyter": {
     "outputs_hidden": false
    },
    "outputId": "accfdf4f-b2fe-4099-d111-2c5ddfafc80a",
    "papermill": {
     "duration": 0.139264,
     "end_time": "2022-04-01T14:50:31.485608",
     "exception": false,
     "start_time": "2022-04-01T14:50:31.346344",
     "status": "completed"
    },
    "tags": []
   },
   "outputs": [
    {
     "name": "stdout",
     "output_type": "stream",
     "text": [
      "The result is:  INTP\n"
     ]
    }
   ],
   "source": [
    "print(\"The result is: \", translate_back(result))"
   ]
  },
  {
   "cell_type": "markdown",
   "id": "temporal-jonathan",
   "metadata": {
    "_cell_guid": "5955e965-e153-4a68-9fb7-e22e7f6c29a2",
    "_uuid": "7a2debd1-e2e8-4e51-9e72-3dbb82fdd68a",
    "id": "ulJTL502-Dsq",
    "papermill": {
     "duration": 0.130437,
     "end_time": "2022-04-01T14:50:31.744923",
     "exception": false,
     "start_time": "2022-04-01T14:50:31.614486",
     "status": "completed"
    },
    "tags": []
   },
   "source": [
    "## Pesonality Prediction 3 - short essay"
   ]
  },
  {
   "cell_type": "code",
   "execution_count": 57,
   "id": "increasing-royalty",
   "metadata": {
    "_cell_guid": "0e759ba5-99a3-4f14-84dc-8ffa125e70f7",
    "_uuid": "ce03e271-1df3-4ac6-81cc-b6d307bfa50c",
    "collapsed": false,
    "execution": {
     "iopub.execute_input": "2022-04-01T14:50:32.026794Z",
     "iopub.status.busy": "2022-04-01T14:50:32.025775Z",
     "iopub.status.idle": "2022-04-01T14:50:32.028714Z",
     "shell.execute_reply": "2022-04-01T14:50:32.028075Z",
     "shell.execute_reply.started": "2022-03-31T11:05:45.732014Z"
    },
    "id": "mzVARj7g-Rbz",
    "jupyter": {
     "outputs_hidden": false
    },
    "papermill": {
     "duration": 0.156126,
     "end_time": "2022-04-01T14:50:32.028871",
     "exception": false,
     "start_time": "2022-04-01T14:50:31.872745",
     "status": "completed"
    },
    "tags": []
   },
   "outputs": [],
   "source": [
    "my_posts  = \"\"\" I dont think anyone would be able to live 300 years i am not talking about the physical ability to do so but the mental fortitude unless you decide to live away from civilization it simply is not possible.|||Believe me you would not want to live for that long alone , unless there are others who can live for 300 years as well.|||You cannot enjoy something if you say something to yourself like ‘I wanna enjoy this , i think this thing is gonna be fun’ believe me it doesn’t work.|||I think this problem might be face by a lot of people.|||Firstly you should only study stuff that interests you . (obvious)|||Now there are subjects that you school forces you to take and you have no option but to some how score in those subjects. (What i used to think is subjects like history , geography and most of all Hindi are utterly useless , i wanna be a programmer why do i study these)|||But because i had no choice i thought lets give these a try. I started questioning things and when i dug deep into the events of history and and why each event took place or how it was of benefit to the benefactor. This questioning and finding out the reasons made me like history.|||My point is unless ya’ll start questioning and researching further than whats necessary for exams you wont like that subject. All the subjects are beautiful , its what you choose to see. Basically give everything a real shot in life , everything works out. (my advice seems ironical as if you dont like the subject and i am telling you to research further but try it once )|||And also never study because there is exam or because you have to do an assignment or because someone is told you to or because ….|||But please ONLY STUDY BECAUSE YOU FEEL LIKE AND BECAUSE YOU WANT TO. Until you develop this sense of want to study it will be hard for you to like it. You must like it so much , that you know when people say after studying maths for 1 hour they took a break of 20 mins watching their favorite tv show(lets say friends)|||For you it should be like after 1 hour of x(that you dont like but HAVE to do) activity you take a break of 20 mins and you study , (like i like reading article on ai so i do that) you might like bio you will do that what i want to say is that is what it means to like something and only then you can truly enjoy it.|||If only something known as luck existed. (no offence to the readers or person who asked the question)|||Luck is a really interesting term , a really complex illusion. What i am saying is there is nothing known as luck that exists. Something simply doesnt just happen. It happens for a reason and with a reason.|||Some over here might claim that if it is not luck then what is it that cause (cause a child to be born in a rich family or a person to be saved by weirdest phenomenon and escape death.)|||What i want ya’ll to know is firstly that being born rich cannot be called as “lucky” like we cannot say to be born in a rich family is particularly a good thing there are many reasons to this (some people like to work their way up , Some want to experience the life troubles, well whatever the reasons might be) So firstly when we say something to be lucky we just CONSIDER that what happened was good. Same goes with the case of being saved from and awful accident. We still dont know the purpose of life or our existence and hence we dont know if living is a boon. this might be harsh for some but Reality is Harsh.|||What want ya’ll to know is never feel bad if something good(in your perspective) happens to someone as It might as well not turn out to be good if you see the BIG picture.|||Besides its also a good thing to think this way as its boosts up your hopes , like you might consider that everything that has happened to you has made you what you are and even if you don’t appreciate your conditions there is someone somewhere who would want to be in that.|||I think the all of us are 100% selfish. (no offence)|||The thing is even if we say we care about someone and then we help that person in reality we are just making ourselves happy by helping that someone.|||What i mean to say is even when people talk about sacrifices for others the reality is that sacrifice made that person or those persons happy which you cared for and thus those people being happy makes you happy.|||Everything comes down to you. You can try and deny it but you all know it.|||Now about those people who sacrifice their lives for others that is a peculiar case , and here too (this might be hard for some to believe) but they sacrifice life for someone they loved (they thought they loved) but the truth is in a situation where a person sacrifices his life for another the truth is that if he hadnt dont that he couldn’t have survived without that person anyways and then there are always some who seek glory.|||I hope you get the point. Even when you say that people spend 30s and 40s the truth is making their kids life perfect gives them happiness. There are people without kids too cause for these making their kids life perfect doesnt give them as much happiness as focusing on their own goals might.|||Now i believe there might be many who thought that making kids life perfect might give them happiness but it turns out to be false and then they are stuck there fulfilling moral obligations. It all comes down to your resolves and how firm you are in you decisions.|||Isn’t it fun to watch our disciples fight among themselves to prove that only one of us exists!|||I tend to believe that everything in this universe HAS TO HAVE A PURPOSE. Rather than thinking that the universe is a useless place and we have no purpose i would rather think we are just too stupid and dont know or cannot find the purpose. I have always wondered that what would be our reason to exist , once i thought of us (humans on earth) a crop created by aliens that takes this long to grow (i mean may be it would be not possible to create humans by a process other than evolution) so the aliens started the life on earth and are now just waiting for us to evolve , and so our purpose according to that is nothing but to serve as food or may be what ever they want , now then the question arises is what would their purpose be , And all such hypothetical situation lead to to scenario to go into infinity.|||After a lot of such crazy thought i came to 2 conclusions , 1 is pretty simple our purpose of life is find a purpose for our lives , and the weird thing is unlike other things once you find what your were looking for , the process ends there. The paradox is after you find your purpose of life did your succeed in finishing your purpose of life or did you just begun ?|||The 2nd one is what most people should agree is happiness. Now I think that this happiness should be confined to YOUR’s and ONLY your Happiness. Now the thing is some people gain happiness by giving people happiness.|||Let happiness be a quantifiable entity. We shall say that we start 0 oh hp . |||The zone where we dont feel happy or sad is 0 . Anything above 0 means you are happy and less than 0 is you are sad .|||Now one might think that if we suppose attain 100 hp , and do nothing after that we shall remain happy , the problem is that after a while our bar above which we remain moves up (simple adaptation) so now anything below 100hp is sad . This is the main problem with happiness , and So we need to keep doing stuff and increasing our hp . So maybe this counts as a purpose of life.|||Like when we are told about those saints and stuff who abandon society and live their life alone in discrete places where no one can disturb them. I believe the simple reason for this they have found happiness in doing nothing . Like someone finds happiness in making more money (there is a possibility that you might not make and hence be sad ) So these saint type people do something that has no opposite , like i know when they do nothing (i know its opposite is everything) and thats the very reason they go away from the civilization where they literally will have to do nothing . I also tend to think of these people as cowards who fear that they might loose at point.|||But the very point arises is what did you gain by gaining happiness. So again there is no end so Keep chasing the infinity its pointless but Keeps you busy(till the point you are alive) then after you are dead i guess nothing matters.|||But anyways thats the most easy thing to obtain happiness without sadness.|||But the very point arises is what did you gain by gaining happiness. So again there is no end so Keep chasing the infinity its pointless but Keeps you busy(till the point you are alive) then after you are dead i guess nothing matters.|||But if the life after death theory is true , and if by chance are memories are also transferred every time we are reborn. We all are fucked We are for infinity stuck chasing the infinity . (I wonder what happens when infinity chases infinity It will be fun to watch !) |||I think rather than worrying about these things we should just enjoy life . Because there will always something that we dont know that we dont know and thus we shall never know that. this is just 2 loops of not know , you can reach it , but Do it infinitely . Infinity is a bitch.|||Well To all beings good luck finding a purpose and to all those who know that it doesnt exist ya’ll are fucked.\"\"\"\n",
    "mydata = pd.DataFrame(data={'type': ['ENTP'], 'posts': [my_posts]})\n",
    "my_posts, dummy  = pre_process_text(mydata, remove_stop_words=True, remove_mbti_profiles=True)\n",
    "my_X_cnt = cntizer.transform(my_posts)\n",
    "my_X_tfidf =  tfizer.transform(my_X_cnt).toarray()"
   ]
  },
  {
   "cell_type": "code",
   "execution_count": 58,
   "id": "automated-geneva",
   "metadata": {
    "_cell_guid": "df569615-017d-4889-9850-847cc03a0906",
    "_uuid": "573c12ee-261a-46dc-86a4-d54f96d57636",
    "collapsed": false,
    "execution": {
     "iopub.execute_input": "2022-04-01T14:50:32.296137Z",
     "iopub.status.busy": "2022-04-01T14:50:32.295379Z",
     "iopub.status.idle": "2022-04-01T14:51:24.113574Z",
     "shell.execute_reply": "2022-04-01T14:51:24.112867Z",
     "shell.execute_reply.started": "2022-03-31T11:05:45.759551Z"
    },
    "id": "5_xgoHLc-Yw5",
    "jupyter": {
     "outputs_hidden": false
    },
    "outputId": "e99b5c59-7899-47fe-f56e-adbae77e2b0f",
    "papermill": {
     "duration": 51.954605,
     "end_time": "2022-04-01T14:51:24.113740",
     "exception": false,
     "start_time": "2022-04-01T14:50:32.159135",
     "status": "completed"
    },
    "tags": []
   },
   "outputs": [
    {
     "name": "stdout",
     "output_type": "stream",
     "text": [
      "IE: Introversion (I) / Extroversion (E) classifier trained\n",
      "NS: Intuition (N) / Sensing (S) classifier trained\n",
      "FT: Feeling (F) / Thinking (T) classifier trained\n",
      "JP: Judging (J) / Perceiving (P) classifier trained\n"
     ]
    }
   ],
   "source": [
    "# setup parameters for svm\n",
    "param = {}\n",
    "param['n_estimators'] = 200\n",
    "param['max_depth'] = 2\n",
    "param['nthread'] = 8\n",
    "param['learning_rate'] = 0.2\n",
    "\n",
    "#svm model for MBTI dataset\n",
    "result = []\n",
    "# Individually training each mbti personlity type\n",
    "for l in range(len(personality_type)):\n",
    "    print(\"%s classifier trained\" % (personality_type[l]))\n",
    "    \n",
    "    Y = list_personality[:,l]\n",
    "\n",
    "    # split data into train and test sets\n",
    "    seed = 7\n",
    "    test_size = 0.33\n",
    "    X_train, X_test, y_train, y_test = train_test_split(X, Y, test_size=0.33, random_state=7)\n",
    "\n",
    "    # fit model on training data\n",
    "    model = SVC(random_state = 1)\n",
    "    model.fit(X_train, y_train)\n",
    "    \n",
    "    # make predictions for my  data\n",
    "    y_pred = model.predict(my_X_tfidf)\n",
    "    result.append(y_pred[0])"
   ]
  },
  {
   "cell_type": "code",
   "execution_count": 59,
   "id": "cubic-manor",
   "metadata": {
    "_cell_guid": "364c1f47-5511-4fd6-860b-8d12d90266b1",
    "_uuid": "0929aa33-9f8d-43c4-b58d-a92a2b873b68",
    "collapsed": false,
    "execution": {
     "iopub.execute_input": "2022-04-01T14:51:24.377188Z",
     "iopub.status.busy": "2022-04-01T14:51:24.376418Z",
     "iopub.status.idle": "2022-04-01T14:51:24.379427Z",
     "shell.execute_reply": "2022-04-01T14:51:24.379951Z",
     "shell.execute_reply.started": "2022-03-31T11:06:48.934711Z"
    },
    "id": "FQ_uW1qG-beV",
    "jupyter": {
     "outputs_hidden": false
    },
    "outputId": "8a7f3ea0-1f9d-4ffc-d4d4-ebd1459e7ec6",
    "papermill": {
     "duration": 0.136743,
     "end_time": "2022-04-01T14:51:24.380141",
     "exception": false,
     "start_time": "2022-04-01T14:51:24.243398",
     "status": "completed"
    },
    "tags": []
   },
   "outputs": [
    {
     "name": "stdout",
     "output_type": "stream",
     "text": [
      "The result is:  INTJ\n"
     ]
    }
   ],
   "source": [
    "print(\"The result is: \", translate_back(result))"
   ]
  },
  {
   "cell_type": "code",
   "execution_count": null,
   "id": "understood-divorce",
   "metadata": {
    "papermill": {
     "duration": 0.129077,
     "end_time": "2022-04-01T14:51:24.640068",
     "exception": false,
     "start_time": "2022-04-01T14:51:24.510991",
     "status": "completed"
    },
    "tags": []
   },
   "outputs": [],
   "source": []
  },
  {
   "cell_type": "markdown",
   "id": "capable-gregory",
   "metadata": {
    "_cell_guid": "25679e4e-fe2a-4238-b226-1e4caadc05d4",
    "_uuid": "bb2609a4-54ce-44fb-9e25-20c749bb3afb",
    "id": "ofRzziyBCDX6",
    "papermill": {
     "duration": 0.13079,
     "end_time": "2022-04-01T14:51:24.901757",
     "exception": false,
     "start_time": "2022-04-01T14:51:24.770967",
     "status": "completed"
    },
    "tags": []
   },
   "source": [
    "You have fun and can check your own personality from 16 personalities website https://www.16personalities.com/"
   ]
  }
 ],
 "metadata": {
  "kernelspec": {
   "display_name": "Python 3",
   "language": "python",
   "name": "python3"
  },
  "language_info": {
   "codemirror_mode": {
    "name": "ipython",
    "version": 3
   },
   "file_extension": ".py",
   "mimetype": "text/x-python",
   "name": "python",
   "nbconvert_exporter": "python",
   "pygments_lexer": "ipython3",
   "version": "3.8.8"
  },
  "papermill": {
   "default_parameters": {},
   "duration": 1019.614958,
   "end_time": "2022-04-01T14:51:27.722688",
   "environment_variables": {},
   "exception": null,
   "input_path": "__notebook__.ipynb",
   "output_path": "__notebook__.ipynb",
   "parameters": {},
   "start_time": "2022-04-01T14:34:28.107730",
   "version": "2.3.2"
  }
 },
 "nbformat": 4,
 "nbformat_minor": 5
}
